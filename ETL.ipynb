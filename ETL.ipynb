{
 "cells": [
  {
   "cell_type": "code",
   "execution_count": null,
   "id": "f64ee632",
   "metadata": {},
   "outputs": [],
   "source": [
    "#!pip install pyarrow"
   ]
  },
  {
   "cell_type": "code",
   "execution_count": 3,
   "id": "29f429f1",
   "metadata": {},
   "outputs": [],
   "source": [
    "import numpy as np\n",
    "import pandas as pd\n",
    "import matplotlib.pyplot as plt\n",
    "import seaborn as sns\n",
    "import pyarrow.orc as orc\n",
    "\n",
    "filename = \"./trades.orc\"\n",
    "df = pd.read_orc(\"./trades.orc\")"
   ]
  },
  {
   "cell_type": "markdown",
   "id": "a405242d",
   "metadata": {},
   "source": [
    "# Data preparation:"
   ]
  },
  {
   "cell_type": "markdown",
   "id": "0c5609e7",
   "metadata": {},
   "source": [
    "### Conversión de formato de timestamp"
   ]
  },
  {
   "cell_type": "code",
   "execution_count": 4,
   "id": "bf46af56",
   "metadata": {},
   "outputs": [],
   "source": [
    "df['Date'] = pd.to_datetime(df['time'], unit='ms')\n",
    "df['Hour'] = df['Date'].dt.hour"
   ]
  },
  {
   "cell_type": "markdown",
   "id": "f4e64ba2",
   "metadata": {},
   "source": [
    "### Encontrar valores NaN"
   ]
  },
  {
   "cell_type": "code",
   "execution_count": 5,
   "id": "25420350",
   "metadata": {},
   "outputs": [
    {
     "data": {
      "text/html": [
       "<div>\n",
       "<style scoped>\n",
       "    .dataframe tbody tr th:only-of-type {\n",
       "        vertical-align: middle;\n",
       "    }\n",
       "\n",
       "    .dataframe tbody tr th {\n",
       "        vertical-align: top;\n",
       "    }\n",
       "\n",
       "    .dataframe thead th {\n",
       "        text-align: right;\n",
       "    }\n",
       "</style>\n",
       "<table border=\"1\" class=\"dataframe\">\n",
       "  <thead>\n",
       "    <tr style=\"text-align: right;\">\n",
       "      <th></th>\n",
       "      <th>trade_id</th>\n",
       "      <th>price</th>\n",
       "      <th>quantity</th>\n",
       "      <th>time</th>\n",
       "      <th>isSelling</th>\n",
       "      <th>Date</th>\n",
       "      <th>Hour</th>\n",
       "    </tr>\n",
       "  </thead>\n",
       "  <tbody>\n",
       "    <tr>\n",
       "      <th>1337</th>\n",
       "      <td>NaN</td>\n",
       "      <td>NaN</td>\n",
       "      <td>NaN</td>\n",
       "      <td>NaN</td>\n",
       "      <td>None</td>\n",
       "      <td>NaT</td>\n",
       "      <td>NaN</td>\n",
       "    </tr>\n",
       "  </tbody>\n",
       "</table>\n",
       "</div>"
      ],
      "text/plain": [
       "      trade_id  price  quantity  time isSelling Date  Hour\n",
       "1337       NaN    NaN       NaN   NaN      None  NaT   NaN"
      ]
     },
     "execution_count": 5,
     "metadata": {},
     "output_type": "execute_result"
    }
   ],
   "source": [
    "df.shape\n",
    "df[df.isna().any(axis=1)]"
   ]
  },
  {
   "cell_type": "markdown",
   "id": "abfbe5a0",
   "metadata": {},
   "source": [
    "### Dropear valores NaN"
   ]
  },
  {
   "cell_type": "code",
   "execution_count": 6,
   "id": "66fb5e6e",
   "metadata": {},
   "outputs": [
    {
     "data": {
      "text/plain": [
       "(902954, 7)"
      ]
     },
     "execution_count": 6,
     "metadata": {},
     "output_type": "execute_result"
    }
   ],
   "source": [
    "df=df.dropna().reset_index(drop=True).copy()\n",
    "df[df.isna().any(axis=1)]\n",
    "df.shape"
   ]
  },
  {
   "cell_type": "markdown",
   "id": "b7a30959",
   "metadata": {},
   "source": [
    "### Valores duplicados:"
   ]
  },
  {
   "cell_type": "code",
   "execution_count": 7,
   "id": "c0a6145f",
   "metadata": {},
   "outputs": [
    {
     "data": {
      "text/html": [
       "<div>\n",
       "<style scoped>\n",
       "    .dataframe tbody tr th:only-of-type {\n",
       "        vertical-align: middle;\n",
       "    }\n",
       "\n",
       "    .dataframe tbody tr th {\n",
       "        vertical-align: top;\n",
       "    }\n",
       "\n",
       "    .dataframe thead th {\n",
       "        text-align: right;\n",
       "    }\n",
       "</style>\n",
       "<table border=\"1\" class=\"dataframe\">\n",
       "  <thead>\n",
       "    <tr style=\"text-align: right;\">\n",
       "      <th></th>\n",
       "      <th>trade_id</th>\n",
       "      <th>price</th>\n",
       "      <th>quantity</th>\n",
       "      <th>time</th>\n",
       "      <th>isSelling</th>\n",
       "      <th>Date</th>\n",
       "      <th>Hour</th>\n",
       "    </tr>\n",
       "  </thead>\n",
       "  <tbody>\n",
       "  </tbody>\n",
       "</table>\n",
       "</div>"
      ],
      "text/plain": [
       "Empty DataFrame\n",
       "Columns: [trade_id, price, quantity, time, isSelling, Date, Hour]\n",
       "Index: []"
      ]
     },
     "execution_count": 7,
     "metadata": {},
     "output_type": "execute_result"
    }
   ],
   "source": [
    "df.loc[df.duplicated()]\n",
    "#Valores duplicados en subconjuntos\n",
    "#df.loc[df.duplicated(subset=\"trade_id\")]"
   ]
  },
  {
   "cell_type": "markdown",
   "id": "7bead313",
   "metadata": {},
   "source": [
    "### Valores inválidos para precio"
   ]
  },
  {
   "cell_type": "code",
   "execution_count": 23,
   "id": "39ea572b",
   "metadata": {},
   "outputs": [
    {
     "name": "stdout",
     "output_type": "stream",
     "text": [
      "Int64Index([], dtype='int64')\n",
      "Empty DataFrame\n",
      "Columns: [trade_id, price, quantity, time, isSelling, Date, Hour, transaction_value, outcome]\n",
      "Index: []\n"
     ]
    }
   ],
   "source": [
    "print(df[df[\"price\"]<0].index)\n",
    "df=df[df[\"price\"]>0].copy().reset_index(drop=True)\n",
    "print(df[df[\"price\"]<0])"
   ]
  },
  {
   "cell_type": "markdown",
   "id": "d23b7237",
   "metadata": {},
   "source": [
    "### Evolución del outcome respecto del tiempo"
   ]
  },
  {
   "cell_type": "code",
   "execution_count": 25,
   "id": "4d6d2164",
   "metadata": {},
   "outputs": [
    {
     "name": "stdout",
     "output_type": "stream",
     "text": [
      "            trade_id    price  quantity          time isSelling  \\\n",
      "902948  1.118635e+09  1821.51    0.0061  1.680307e+12      True   \n",
      "902949  1.118635e+09  1821.51    0.0153  1.680307e+12      True   \n",
      "902950  1.118635e+09  1821.51    0.0341  1.680307e+12      True   \n",
      "902951  1.118635e+09  1821.51    0.0330  1.680307e+12      True   \n",
      "902952  1.118635e+09  1821.52    0.0305  1.680307e+12     False   \n",
      "\n",
      "                                Date  Hour  transaction_value       outcome  \n",
      "902948 2023-03-31 23:59:59.996000000  23.0          11.111211 -4.357775e+07  \n",
      "902949 2023-03-31 23:59:59.996999936  23.0          27.869103 -4.357772e+07  \n",
      "902950 2023-03-31 23:59:59.996999936  23.0          62.113491 -4.357766e+07  \n",
      "902951 2023-03-31 23:59:59.999000064  23.0          60.109830 -4.357760e+07  \n",
      "902952 2023-03-31 23:59:59.999000064  23.0         -55.556360 -4.357765e+07  \n"
     ]
    }
   ],
   "source": [
    "df[\"transaction_value\"]=df[\"price\"]*df[\"quantity\"]\n",
    "df.loc[df[\"isSelling\"] == False, \"transaction_value\"] = df.loc[df[\"isSelling\"] == False, \"transaction_value\"]*(-1)\n",
    "df[\"outcome\"]=df[\"transaction_value\"].cumsum()\n",
    "print(df.tail())"
   ]
  },
  {
   "cell_type": "code",
   "execution_count": 146,
   "id": "e9f92bf0",
   "metadata": {},
   "outputs": [
    {
     "data": {
      "text/plain": [
       "array([<Axes: ylabel='transaction_value'>], dtype=object)"
      ]
     },
     "execution_count": 146,
     "metadata": {},
     "output_type": "execute_result"
    },
    {
     "data": {
      "image/png": "[encoded data removed]",
      "text/plain": [
       "<Figure size 288x288 with 1 Axes>"
      ]
     },
     "metadata": {},
     "output_type": "display_data"
    }
   ],
   "source": [
    "grouped_df = df.groupby(\"isSelling\").sum()\n",
    "grouped_df\n",
    "abs(grouped_df[\"transaction_value\"]).plot.pie(figsize=(4,4),subplots=True)"
   ]
  },
  {
   "cell_type": "code",
   "execution_count": 148,
   "id": "ababe2f4",
   "metadata": {},
   "outputs": [
    {
     "data": {
      "application/vnd.plotly.v1+json": {
       "config": {
        "plotlyServerURL": "https://plot.ly"
       },
       "data": [
        {
         "domain": {
          "x": [
           0,
           1
          ],
          "y": [
           0,
           1
          ]
         },
         "hovertemplate": "isSelling=%{label}<br>transaction_value_abs=%{value}<extra></extra>",
         "labels": [
          false,
          true
         ],
         "legendgroup": "",
         "name": "",
         "showlegend": true,
         "type": "pie",
         "values": [
          525237136.1990087,
          481659483.0535474
         ]
        }
       ],
       "layout": {
        "legend": {
         "tracegroupgap": 0
        },
        "margin": {
         "t": 60
        },
        "template": {
         "data": {
          "bar": [
           {
            "error_x": {
             "color": "#2a3f5f"
            },
            "error_y": {
             "color": "#2a3f5f"
            },
            "marker": {
             "line": {
              "color": "#E5ECF6",
              "width": 0.5
             },
             "pattern": {
              "fillmode": "overlay",
              "size": 10,
              "solidity": 0.2
             }
            },
            "type": "bar"
           }
          ],
          "barpolar": [
           {
            "marker": {
             "line": {
              "color": "#E5ECF6",
              "width": 0.5
             },
             "pattern": {
              "fillmode": "overlay",
              "size": 10,
              "solidity": 0.2
             }
            },
            "type": "barpolar"
           }
          ],
          "carpet": [
           {
            "aaxis": {
             "endlinecolor": "#2a3f5f",
             "gridcolor": "white",
             "linecolor": "white",
             "minorgridcolor": "white",
             "startlinecolor": "#2a3f5f"
            },
            "baxis": {
             "endlinecolor": "#2a3f5f",
             "gridcolor": "white",
             "linecolor": "white",
             "minorgridcolor": "white",
             "startlinecolor": "#2a3f5f"
            },
            "type": "carpet"
           }
          ],
          "choropleth": [
           {
            "colorbar": {
             "outlinewidth": 0,
             "ticks": ""
            },
            "type": "choropleth"
           }
          ],
          "contour": [
           {
            "colorbar": {
             "outlinewidth": 0,
             "ticks": ""
            },
            "colorscale": [
             [
              0,
              "#0d0887"
             ],
             [
              0.1111111111111111,
              "#46039f"
             ],
             [
              0.2222222222222222,
              "#7201a8"
             ],
             [
              0.3333333333333333,
              "#9c179e"
             ],
             [
              0.4444444444444444,
              "#bd3786"
             ],
             [
              0.5555555555555556,
              "#d8576b"
             ],
             [
              0.6666666666666666,
              "#ed7953"
             ],
             [
              0.7777777777777778,
              "#fb9f3a"
             ],
             [
              0.8888888888888888,
              "#fdca26"
             ],
             [
              1,
              "#f0f921"
             ]
            ],
            "type": "contour"
           }
          ],
          "contourcarpet": [
           {
            "colorbar": {
             "outlinewidth": 0,
             "ticks": ""
            },
            "type": "contourcarpet"
           }
          ],
          "heatmap": [
           {
            "colorbar": {
             "outlinewidth": 0,
             "ticks": ""
            },
            "colorscale": [
             [
              0,
              "#0d0887"
             ],
             [
              0.1111111111111111,
              "#46039f"
             ],
             [
              0.2222222222222222,
              "#7201a8"
             ],
             [
              0.3333333333333333,
              "#9c179e"
             ],
             [
              0.4444444444444444,
              "#bd3786"
             ],
             [
              0.5555555555555556,
              "#d8576b"
             ],
             [
              0.6666666666666666,
              "#ed7953"
             ],
             [
              0.7777777777777778,
              "#fb9f3a"
             ],
             [
              0.8888888888888888,
              "#fdca26"
             ],
             [
              1,
              "#f0f921"
             ]
            ],
            "type": "heatmap"
           }
          ],
          "heatmapgl": [
           {
            "colorbar": {
             "outlinewidth": 0,
             "ticks": ""
            },
            "colorscale": [
             [
              0,
              "#0d0887"
             ],
             [
              0.1111111111111111,
              "#46039f"
             ],
             [
              0.2222222222222222,
              "#7201a8"
             ],
             [
              0.3333333333333333,
              "#9c179e"
             ],
             [
              0.4444444444444444,
              "#bd3786"
             ],
             [
              0.5555555555555556,
              "#d8576b"
             ],
             [
              0.6666666666666666,
              "#ed7953"
             ],
             [
              0.7777777777777778,
              "#fb9f3a"
             ],
             [
              0.8888888888888888,
              "#fdca26"
             ],
             [
              1,
              "#f0f921"
             ]
            ],
            "type": "heatmapgl"
           }
          ],
          "histogram": [
           {
            "marker": {
             "pattern": {
              "fillmode": "overlay",
              "size": 10,
              "solidity": 0.2
             }
            },
            "type": "histogram"
           }
          ],
          "histogram2d": [
           {
            "colorbar": {
             "outlinewidth": 0,
             "ticks": ""
            },
            "colorscale": [
             [
              0,
              "#0d0887"
             ],
             [
              0.1111111111111111,
              "#46039f"
             ],
             [
              0.2222222222222222,
              "#7201a8"
             ],
             [
              0.3333333333333333,
              "#9c179e"
             ],
             [
              0.4444444444444444,
              "#bd3786"
             ],
             [
              0.5555555555555556,
              "#d8576b"
             ],
             [
              0.6666666666666666,
              "#ed7953"
             ],
             [
              0.7777777777777778,
              "#fb9f3a"
             ],
             [
              0.8888888888888888,
              "#fdca26"
             ],
             [
              1,
              "#f0f921"
             ]
            ],
            "type": "histogram2d"
           }
          ],
          "histogram2dcontour": [
           {
            "colorbar": {
             "outlinewidth": 0,
             "ticks": ""
            },
            "colorscale": [
             [
              0,
              "#0d0887"
             ],
             [
              0.1111111111111111,
              "#46039f"
             ],
             [
              0.2222222222222222,
              "#7201a8"
             ],
             [
              0.3333333333333333,
              "#9c179e"
             ],
             [
              0.4444444444444444,
              "#bd3786"
             ],
             [
              0.5555555555555556,
              "#d8576b"
             ],
             [
              0.6666666666666666,
              "#ed7953"
             ],
             [
              0.7777777777777778,
              "#fb9f3a"
             ],
             [
              0.8888888888888888,
              "#fdca26"
             ],
             [
              1,
              "#f0f921"
             ]
            ],
            "type": "histogram2dcontour"
           }
          ],
          "mesh3d": [
           {
            "colorbar": {
             "outlinewidth": 0,
             "ticks": ""
            },
            "type": "mesh3d"
           }
          ],
          "parcoords": [
           {
            "line": {
             "colorbar": {
              "outlinewidth": 0,
              "ticks": ""
             }
            },
            "type": "parcoords"
           }
          ],
          "pie": [
           {
            "automargin": true,
            "type": "pie"
           }
          ],
          "scatter": [
           {
            "fillpattern": {
             "fillmode": "overlay",
             "size": 10,
             "solidity": 0.2
            },
            "type": "scatter"
           }
          ],
          "scatter3d": [
           {
            "line": {
             "colorbar": {
              "outlinewidth": 0,
              "ticks": ""
             }
            },
            "marker": {
             "colorbar": {
              "outlinewidth": 0,
              "ticks": ""
             }
            },
            "type": "scatter3d"
           }
          ],
          "scattercarpet": [
           {
            "marker": {
             "colorbar": {
              "outlinewidth": 0,
              "ticks": ""
             }
            },
            "type": "scattercarpet"
           }
          ],
          "scattergeo": [
           {
            "marker": {
             "colorbar": {
              "outlinewidth": 0,
              "ticks": ""
             }
            },
            "type": "scattergeo"
           }
          ],
          "scattergl": [
           {
            "marker": {
             "colorbar": {
              "outlinewidth": 0,
              "ticks": ""
             }
            },
            "type": "scattergl"
           }
          ],
          "scattermapbox": [
           {
            "marker": {
             "colorbar": {
              "outlinewidth": 0,
              "ticks": ""
             }
            },
            "type": "scattermapbox"
           }
          ],
          "scatterpolar": [
           {
            "marker": {
             "colorbar": {
              "outlinewidth": 0,
              "ticks": ""
             }
            },
            "type": "scatterpolar"
           }
          ],
          "scatterpolargl": [
           {
            "marker": {
             "colorbar": {
              "outlinewidth": 0,
              "ticks": ""
             }
            },
            "type": "scatterpolargl"
           }
          ],
          "scatterternary": [
           {
            "marker": {
             "colorbar": {
              "outlinewidth": 0,
              "ticks": ""
             }
            },
            "type": "scatterternary"
           }
          ],
          "surface": [
           {
            "colorbar": {
             "outlinewidth": 0,
             "ticks": ""
            },
            "colorscale": [
             [
              0,
              "#0d0887"
             ],
             [
              0.1111111111111111,
              "#46039f"
             ],
             [
              0.2222222222222222,
              "#7201a8"
             ],
             [
              0.3333333333333333,
              "#9c179e"
             ],
             [
              0.4444444444444444,
              "#bd3786"
             ],
             [
              0.5555555555555556,
              "#d8576b"
             ],
             [
              0.6666666666666666,
              "#ed7953"
             ],
             [
              0.7777777777777778,
              "#fb9f3a"
             ],
             [
              0.8888888888888888,
              "#fdca26"
             ],
             [
              1,
              "#f0f921"
             ]
            ],
            "type": "surface"
           }
          ],
          "table": [
           {
            "cells": {
             "fill": {
              "color": "#EBF0F8"
             },
             "line": {
              "color": "white"
             }
            },
            "header": {
             "fill": {
              "color": "#C8D4E3"
             },
             "line": {
              "color": "white"
             }
            },
            "type": "table"
           }
          ]
         },
         "layout": {
          "annotationdefaults": {
           "arrowcolor": "#2a3f5f",
           "arrowhead": 0,
           "arrowwidth": 1
          },
          "autotypenumbers": "strict",
          "coloraxis": {
           "colorbar": {
            "outlinewidth": 0,
            "ticks": ""
           }
          },
          "colorscale": {
           "diverging": [
            [
             0,
             "#8e0152"
            ],
            [
             0.1,
             "#c51b7d"
            ],
            [
             0.2,
             "#de77ae"
            ],
            [
             0.3,
             "#f1b6da"
            ],
            [
             0.4,
             "#fde0ef"
            ],
            [
             0.5,
             "#f7f7f7"
            ],
            [
             0.6,
             "#e6f5d0"
            ],
            [
             0.7,
             "#b8e186"
            ],
            [
             0.8,
             "#7fbc41"
            ],
            [
             0.9,
             "#4d9221"
            ],
            [
             1,
             "#276419"
            ]
           ],
           "sequential": [
            [
             0,
             "#0d0887"
            ],
            [
             0.1111111111111111,
             "#46039f"
            ],
            [
             0.2222222222222222,
             "#7201a8"
            ],
            [
             0.3333333333333333,
             "#9c179e"
            ],
            [
             0.4444444444444444,
             "#bd3786"
            ],
            [
             0.5555555555555556,
             "#d8576b"
            ],
            [
             0.6666666666666666,
             "#ed7953"
            ],
            [
             0.7777777777777778,
             "#fb9f3a"
            ],
            [
             0.8888888888888888,
             "#fdca26"
            ],
            [
             1,
             "#f0f921"
            ]
           ],
           "sequentialminus": [
            [
             0,
             "#0d0887"
            ],
            [
             0.1111111111111111,
             "#46039f"
            ],
            [
             0.2222222222222222,
             "#7201a8"
            ],
            [
             0.3333333333333333,
             "#9c179e"
            ],
            [
             0.4444444444444444,
             "#bd3786"
            ],
            [
             0.5555555555555556,
             "#d8576b"
            ],
            [
             0.6666666666666666,
             "#ed7953"
            ],
            [
             0.7777777777777778,
             "#fb9f3a"
            ],
            [
             0.8888888888888888,
             "#fdca26"
            ],
            [
             1,
             "#f0f921"
            ]
           ]
          },
          "colorway": [
           "#636efa",
           "#EF553B",
           "#00cc96",
           "#ab63fa",
           "#FFA15A",
           "#19d3f3",
           "#FF6692",
           "#B6E880",
           "#FF97FF",
           "#FECB52"
          ],
          "font": {
           "color": "#2a3f5f"
          },
          "geo": {
           "bgcolor": "white",
           "lakecolor": "white",
           "landcolor": "#E5ECF6",
           "showlakes": true,
           "showland": true,
           "subunitcolor": "white"
          },
          "hoverlabel": {
           "align": "left"
          },
          "hovermode": "closest",
          "mapbox": {
           "style": "light"
          },
          "paper_bgcolor": "white",
          "plot_bgcolor": "#E5ECF6",
          "polar": {
           "angularaxis": {
            "gridcolor": "white",
            "linecolor": "white",
            "ticks": ""
           },
           "bgcolor": "#E5ECF6",
           "radialaxis": {
            "gridcolor": "white",
            "linecolor": "white",
            "ticks": ""
           }
          },
          "scene": {
           "xaxis": {
            "backgroundcolor": "#E5ECF6",
            "gridcolor": "white",
            "gridwidth": 2,
            "linecolor": "white",
            "showbackground": true,
            "ticks": "",
            "zerolinecolor": "white"
           },
           "yaxis": {
            "backgroundcolor": "#E5ECF6",
            "gridcolor": "white",
            "gridwidth": 2,
            "linecolor": "white",
            "showbackground": true,
            "ticks": "",
            "zerolinecolor": "white"
           },
           "zaxis": {
            "backgroundcolor": "#E5ECF6",
            "gridcolor": "white",
            "gridwidth": 2,
            "linecolor": "white",
            "showbackground": true,
            "ticks": "",
            "zerolinecolor": "white"
           }
          },
          "shapedefaults": {
           "line": {
            "color": "#2a3f5f"
           }
          },
          "ternary": {
           "aaxis": {
            "gridcolor": "white",
            "linecolor": "white",
            "ticks": ""
           },
           "baxis": {
            "gridcolor": "white",
            "linecolor": "white",
            "ticks": ""
           },
           "bgcolor": "#E5ECF6",
           "caxis": {
            "gridcolor": "white",
            "linecolor": "white",
            "ticks": ""
           }
          },
          "title": {
           "x": 0.05
          },
          "xaxis": {
           "automargin": true,
           "gridcolor": "white",
           "linecolor": "white",
           "ticks": "",
           "title": {
            "standoff": 15
           },
           "zerolinecolor": "white",
           "zerolinewidth": 2
          },
          "yaxis": {
           "automargin": true,
           "gridcolor": "white",
           "linecolor": "white",
           "ticks": "",
           "title": {
            "standoff": 15
           },
           "zerolinecolor": "white",
           "zerolinewidth": 2
          }
         }
        }
       }
      },
      "text/html": [
       "<div>                            <div id=\"b1be943b-b104-4d5c-9e9b-92cba1ee8ad5\" class=\"plotly-graph-div\" style=\"height:525px; width:100%;\"></div>            <script type=\"text/javascript\">                require([\"plotly\"], function(Plotly) {                    window.PLOTLYENV=window.PLOTLYENV || {};                                    if (document.getElementById(\"b1be943b-b104-4d5c-9e9b-92cba1ee8ad5\")) {                    Plotly.newPlot(                        \"b1be943b-b104-4d5c-9e9b-92cba1ee8ad5\",                        [{\"domain\":{\"x\":[0.0,1.0],\"y\":[0.0,1.0]},\"hovertemplate\":\"isSelling=%{label}<br>transaction_value_abs=%{value}<extra></extra>\",\"labels\":[false,true],\"legendgroup\":\"\",\"name\":\"\",\"showlegend\":true,\"values\":[525237136.1990087,481659483.0535474],\"type\":\"pie\"}],                        {\"template\":{\"data\":{\"histogram2dcontour\":[{\"type\":\"histogram2dcontour\",\"colorbar\":{\"outlinewidth\":0,\"ticks\":\"\"},\"colorscale\":[[0.0,\"#0d0887\"],[0.1111111111111111,\"#46039f\"],[0.2222222222222222,\"#7201a8\"],[0.3333333333333333,\"#9c179e\"],[0.4444444444444444,\"#bd3786\"],[0.5555555555555556,\"#d8576b\"],[0.6666666666666666,\"#ed7953\"],[0.7777777777777778,\"#fb9f3a\"],[0.8888888888888888,\"#fdca26\"],[1.0,\"#f0f921\"]]}],\"choropleth\":[{\"type\":\"choropleth\",\"colorbar\":{\"outlinewidth\":0,\"ticks\":\"\"}}],\"histogram2d\":[{\"type\":\"histogram2d\",\"colorbar\":{\"outlinewidth\":0,\"ticks\":\"\"},\"colorscale\":[[0.0,\"#0d0887\"],[0.1111111111111111,\"#46039f\"],[0.2222222222222222,\"#7201a8\"],[0.3333333333333333,\"#9c179e\"],[0.4444444444444444,\"#bd3786\"],[0.5555555555555556,\"#d8576b\"],[0.6666666666666666,\"#ed7953\"],[0.7777777777777778,\"#fb9f3a\"],[0.8888888888888888,\"#fdca26\"],[1.0,\"#f0f921\"]]}],\"heatmap\":[{\"type\":\"heatmap\",\"colorbar\":{\"outlinewidth\":0,\"ticks\":\"\"},\"colorscale\":[[0.0,\"#0d0887\"],[0.1111111111111111,\"#46039f\"],[0.2222222222222222,\"#7201a8\"],[0.3333333333333333,\"#9c179e\"],[0.4444444444444444,\"#bd3786\"],[0.5555555555555556,\"#d8576b\"],[0.6666666666666666,\"#ed7953\"],[0.7777777777777778,\"#fb9f3a\"],[0.8888888888888888,\"#fdca26\"],[1.0,\"#f0f921\"]]}],\"heatmapgl\":[{\"type\":\"heatmapgl\",\"colorbar\":{\"outlinewidth\":0,\"ticks\":\"\"},\"colorscale\":[[0.0,\"#0d0887\"],[0.1111111111111111,\"#46039f\"],[0.2222222222222222,\"#7201a8\"],[0.3333333333333333,\"#9c179e\"],[0.4444444444444444,\"#bd3786\"],[0.5555555555555556,\"#d8576b\"],[0.6666666666666666,\"#ed7953\"],[0.7777777777777778,\"#fb9f3a\"],[0.8888888888888888,\"#fdca26\"],[1.0,\"#f0f921\"]]}],\"contourcarpet\":[{\"type\":\"contourcarpet\",\"colorbar\":{\"outlinewidth\":0,\"ticks\":\"\"}}],\"contour\":[{\"type\":\"contour\",\"colorbar\":{\"outlinewidth\":0,\"ticks\":\"\"},\"colorscale\":[[0.0,\"#0d0887\"],[0.1111111111111111,\"#46039f\"],[0.2222222222222222,\"#7201a8\"],[0.3333333333333333,\"#9c179e\"],[0.4444444444444444,\"#bd3786\"],[0.5555555555555556,\"#d8576b\"],[0.6666666666666666,\"#ed7953\"],[0.7777777777777778,\"#fb9f3a\"],[0.8888888888888888,\"#fdca26\"],[1.0,\"#f0f921\"]]}],\"surface\":[{\"type\":\"surface\",\"colorbar\":{\"outlinewidth\":0,\"ticks\":\"\"},\"colorscale\":[[0.0,\"#0d0887\"],[0.1111111111111111,\"#46039f\"],[0.2222222222222222,\"#7201a8\"],[0.3333333333333333,\"#9c179e\"],[0.4444444444444444,\"#bd3786\"],[0.5555555555555556,\"#d8576b\"],[0.6666666666666666,\"#ed7953\"],[0.7777777777777778,\"#fb9f3a\"],[0.8888888888888888,\"#fdca26\"],[1.0,\"#f0f921\"]]}],\"mesh3d\":[{\"type\":\"mesh3d\",\"colorbar\":{\"outlinewidth\":0,\"ticks\":\"\"}}],\"scatter\":[{\"fillpattern\":{\"fillmode\":\"overlay\",\"size\":10,\"solidity\":0.2},\"type\":\"scatter\"}],\"parcoords\":[{\"type\":\"parcoords\",\"line\":{\"colorbar\":{\"outlinewidth\":0,\"ticks\":\"\"}}}],\"scatterpolargl\":[{\"type\":\"scatterpolargl\",\"marker\":{\"colorbar\":{\"outlinewidth\":0,\"ticks\":\"\"}}}],\"bar\":[{\"error_x\":{\"color\":\"#2a3f5f\"},\"error_y\":{\"color\":\"#2a3f5f\"},\"marker\":{\"line\":{\"color\":\"#E5ECF6\",\"width\":0.5},\"pattern\":{\"fillmode\":\"overlay\",\"size\":10,\"solidity\":0.2}},\"type\":\"bar\"}],\"scattergeo\":[{\"type\":\"scattergeo\",\"marker\":{\"colorbar\":{\"outlinewidth\":0,\"ticks\":\"\"}}}],\"scatterpolar\":[{\"type\":\"scatterpolar\",\"marker\":{\"colorbar\":{\"outlinewidth\":0,\"ticks\":\"\"}}}],\"histogram\":[{\"marker\":{\"pattern\":{\"fillmode\":\"overlay\",\"size\":10,\"solidity\":0.2}},\"type\":\"histogram\"}],\"scattergl\":[{\"type\":\"scattergl\",\"marker\":{\"colorbar\":{\"outlinewidth\":0,\"ticks\":\"\"}}}],\"scatter3d\":[{\"type\":\"scatter3d\",\"line\":{\"colorbar\":{\"outlinewidth\":0,\"ticks\":\"\"}},\"marker\":{\"colorbar\":{\"outlinewidth\":0,\"ticks\":\"\"}}}],\"scattermapbox\":[{\"type\":\"scattermapbox\",\"marker\":{\"colorbar\":{\"outlinewidth\":0,\"ticks\":\"\"}}}],\"scatterternary\":[{\"type\":\"scatterternary\",\"marker\":{\"colorbar\":{\"outlinewidth\":0,\"ticks\":\"\"}}}],\"scattercarpet\":[{\"type\":\"scattercarpet\",\"marker\":{\"colorbar\":{\"outlinewidth\":0,\"ticks\":\"\"}}}],\"carpet\":[{\"aaxis\":{\"endlinecolor\":\"#2a3f5f\",\"gridcolor\":\"white\",\"linecolor\":\"white\",\"minorgridcolor\":\"white\",\"startlinecolor\":\"#2a3f5f\"},\"baxis\":{\"endlinecolor\":\"#2a3f5f\",\"gridcolor\":\"white\",\"linecolor\":\"white\",\"minorgridcolor\":\"white\",\"startlinecolor\":\"#2a3f5f\"},\"type\":\"carpet\"}],\"table\":[{\"cells\":{\"fill\":{\"color\":\"#EBF0F8\"},\"line\":{\"color\":\"white\"}},\"header\":{\"fill\":{\"color\":\"#C8D4E3\"},\"line\":{\"color\":\"white\"}},\"type\":\"table\"}],\"barpolar\":[{\"marker\":{\"line\":{\"color\":\"#E5ECF6\",\"width\":0.5},\"pattern\":{\"fillmode\":\"overlay\",\"size\":10,\"solidity\":0.2}},\"type\":\"barpolar\"}],\"pie\":[{\"automargin\":true,\"type\":\"pie\"}]},\"layout\":{\"autotypenumbers\":\"strict\",\"colorway\":[\"#636efa\",\"#EF553B\",\"#00cc96\",\"#ab63fa\",\"#FFA15A\",\"#19d3f3\",\"#FF6692\",\"#B6E880\",\"#FF97FF\",\"#FECB52\"],\"font\":{\"color\":\"#2a3f5f\"},\"hovermode\":\"closest\",\"hoverlabel\":{\"align\":\"left\"},\"paper_bgcolor\":\"white\",\"plot_bgcolor\":\"#E5ECF6\",\"polar\":{\"bgcolor\":\"#E5ECF6\",\"angularaxis\":{\"gridcolor\":\"white\",\"linecolor\":\"white\",\"ticks\":\"\"},\"radialaxis\":{\"gridcolor\":\"white\",\"linecolor\":\"white\",\"ticks\":\"\"}},\"ternary\":{\"bgcolor\":\"#E5ECF6\",\"aaxis\":{\"gridcolor\":\"white\",\"linecolor\":\"white\",\"ticks\":\"\"},\"baxis\":{\"gridcolor\":\"white\",\"linecolor\":\"white\",\"ticks\":\"\"},\"caxis\":{\"gridcolor\":\"white\",\"linecolor\":\"white\",\"ticks\":\"\"}},\"coloraxis\":{\"colorbar\":{\"outlinewidth\":0,\"ticks\":\"\"}},\"colorscale\":{\"sequential\":[[0.0,\"#0d0887\"],[0.1111111111111111,\"#46039f\"],[0.2222222222222222,\"#7201a8\"],[0.3333333333333333,\"#9c179e\"],[0.4444444444444444,\"#bd3786\"],[0.5555555555555556,\"#d8576b\"],[0.6666666666666666,\"#ed7953\"],[0.7777777777777778,\"#fb9f3a\"],[0.8888888888888888,\"#fdca26\"],[1.0,\"#f0f921\"]],\"sequentialminus\":[[0.0,\"#0d0887\"],[0.1111111111111111,\"#46039f\"],[0.2222222222222222,\"#7201a8\"],[0.3333333333333333,\"#9c179e\"],[0.4444444444444444,\"#bd3786\"],[0.5555555555555556,\"#d8576b\"],[0.6666666666666666,\"#ed7953\"],[0.7777777777777778,\"#fb9f3a\"],[0.8888888888888888,\"#fdca26\"],[1.0,\"#f0f921\"]],\"diverging\":[[0,\"#8e0152\"],[0.1,\"#c51b7d\"],[0.2,\"#de77ae\"],[0.3,\"#f1b6da\"],[0.4,\"#fde0ef\"],[0.5,\"#f7f7f7\"],[0.6,\"#e6f5d0\"],[0.7,\"#b8e186\"],[0.8,\"#7fbc41\"],[0.9,\"#4d9221\"],[1,\"#276419\"]]},\"xaxis\":{\"gridcolor\":\"white\",\"linecolor\":\"white\",\"ticks\":\"\",\"title\":{\"standoff\":15},\"zerolinecolor\":\"white\",\"automargin\":true,\"zerolinewidth\":2},\"yaxis\":{\"gridcolor\":\"white\",\"linecolor\":\"white\",\"ticks\":\"\",\"title\":{\"standoff\":15},\"zerolinecolor\":\"white\",\"automargin\":true,\"zerolinewidth\":2},\"scene\":{\"xaxis\":{\"backgroundcolor\":\"#E5ECF6\",\"gridcolor\":\"white\",\"linecolor\":\"white\",\"showbackground\":true,\"ticks\":\"\",\"zerolinecolor\":\"white\",\"gridwidth\":2},\"yaxis\":{\"backgroundcolor\":\"#E5ECF6\",\"gridcolor\":\"white\",\"linecolor\":\"white\",\"showbackground\":true,\"ticks\":\"\",\"zerolinecolor\":\"white\",\"gridwidth\":2},\"zaxis\":{\"backgroundcolor\":\"#E5ECF6\",\"gridcolor\":\"white\",\"linecolor\":\"white\",\"showbackground\":true,\"ticks\":\"\",\"zerolinecolor\":\"white\",\"gridwidth\":2}},\"shapedefaults\":{\"line\":{\"color\":\"#2a3f5f\"}},\"annotationdefaults\":{\"arrowcolor\":\"#2a3f5f\",\"arrowhead\":0,\"arrowwidth\":1},\"geo\":{\"bgcolor\":\"white\",\"landcolor\":\"#E5ECF6\",\"subunitcolor\":\"white\",\"showland\":true,\"showlakes\":true,\"lakecolor\":\"white\"},\"title\":{\"x\":0.05},\"mapbox\":{\"style\":\"light\"}}},\"legend\":{\"tracegroupgap\":0},\"margin\":{\"t\":60}},                        {\"responsive\": true}                    ).then(function(){\n",
       "                            \n",
       "var gd = document.getElementById('b1be943b-b104-4d5c-9e9b-92cba1ee8ad5');\n",
       "var x = new MutationObserver(function (mutations, observer) {{\n",
       "        var display = window.getComputedStyle(gd).display;\n",
       "        if (!display || display === 'none') {{\n",
       "            console.log([gd, 'removed!']);\n",
       "            Plotly.purge(gd);\n",
       "            observer.disconnect();\n",
       "        }}\n",
       "}});\n",
       "\n",
       "// Listen for the removal of the full notebook cells\n",
       "var notebookContainer = gd.closest('#notebook-container');\n",
       "if (notebookContainer) {{\n",
       "    x.observe(notebookContainer, {childList: true});\n",
       "}}\n",
       "\n",
       "// Listen for the clearing of the current output cell\n",
       "var outputEl = gd.closest('.output');\n",
       "if (outputEl) {{\n",
       "    x.observe(outputEl, {childList: true});\n",
       "}}\n",
       "\n",
       "                        })                };                });            </script>        </div>"
      ]
     },
     "metadata": {},
     "output_type": "display_data"
    }
   ],
   "source": [
    "df[\"transaction_value_abs\"]=abs(df[\"transaction_value\"])\n",
    "grouped_df = df.groupby(\"isSelling\").sum().reset_index()#.copy()\n",
    "grouped_df\n",
    "#grouped_df[\"transaction_value\"]=abs(grouped_df[\"transaction_value\"])\n",
    "fig = px.pie(grouped_df, values='transaction_value_abs', names='isSelling')\n",
    "fig.show()"
   ]
  },
  {
   "cell_type": "markdown",
   "id": "aedc12c7",
   "metadata": {},
   "source": [
    "### Correlación entre características"
   ]
  },
  {
   "cell_type": "code",
   "execution_count": 149,
   "id": "6abfb105",
   "metadata": {},
   "outputs": [
    {
     "data": {
      "image/png": "[encoded data removed]",
      "text/plain": [
       "<Figure size 432x288 with 2 Axes>"
      ]
     },
     "metadata": {
      "needs_background": "light"
     },
     "output_type": "display_data"
    }
   ],
   "source": [
    "df_corr = df[[\"price\",\"quantity\",\"Hour\"]].corr()\n",
    "ax=sns.heatmap(df_corr,annot=True)"
   ]
  },
  {
   "cell_type": "markdown",
   "id": "78b55d4e",
   "metadata": {},
   "source": [
    "## Gráficas con agregación:"
   ]
  },
  {
   "cell_type": "markdown",
   "id": "c37fa974",
   "metadata": {},
   "source": [
    "#### Filtrado por valor de transacción"
   ]
  },
  {
   "cell_type": "code",
   "execution_count": null,
   "id": "e8eb5c63",
   "metadata": {},
   "outputs": [],
   "source": [
    "#df_prune = df[df[\"transaction_value\"]>(1115+3995)]\n",
    "#print(df.shape)\n",
    "#print(df_prune.shape)\n",
    "#import plotly.express as px\n",
    "#fig = px.scatter(df_prune, x=\"Date\", y=\"price\", color=\"isSelling\",\n",
    "#                 size='quantity',  render_mode='webgl'\n",
    "#                )\n",
    "#fig.update_traces(marker_line=dict(width=0.5))\n",
    "#fig.show()"
   ]
  },
  {
   "cell_type": "markdown",
   "id": "35dd3fa7",
   "metadata": {},
   "source": [
    "#### Agregación por horas y minutos"
   ]
  },
  {
   "cell_type": "code",
   "execution_count": 79,
   "id": "523b83f3",
   "metadata": {
    "scrolled": true
   },
   "outputs": [
    {
     "name": "stdout",
     "output_type": "stream",
     "text": [
      "            agg_Date_H      trade_id         price    quantity          time  \\\n",
      "0  2023-03-31 00:00:00  3.905530e+13  6.289944e+07  24915.1765  5.870866e+16   \n",
      "1  2023-03-31 01:00:00  4.920845e+13  7.968052e+07  28743.7893  7.396858e+16   \n",
      "2  2023-03-31 02:00:00  3.063400e+13  4.940496e+07  11827.3276  4.604670e+16   \n",
      "3  2023-03-31 03:00:00  2.721632e+13  4.394200e+07  11463.0527  4.090864e+16   \n",
      "4  2023-03-31 04:00:00  2.664903e+13  4.297184e+07  10624.0933  4.005517e+16   \n",
      "5  2023-03-31 05:00:00  3.127664e+13  5.039513e+07  13273.9367  4.700978e+16   \n",
      "6  2023-03-31 06:00:00  2.448817e+13  3.937755e+07   9957.9000  3.680575e+16   \n",
      "7  2023-03-31 07:00:00  5.707422e+13  9.130801e+07  35617.6813  8.578002e+16   \n",
      "8  2023-03-31 08:00:00  4.227184e+13  6.778425e+07  19260.7312  6.353030e+16   \n",
      "9  2023-03-31 09:00:00  3.776972e+13  6.048573e+07  12879.4554  5.676237e+16   \n",
      "10 2023-03-31 10:00:00  2.885074e+13  4.629864e+07  12925.6571  4.335739e+16   \n",
      "11 2023-03-31 11:00:00  3.622985e+13  5.809082e+07  13313.8942  5.444554e+16   \n",
      "12 2023-03-31 12:00:00  5.464808e+13  8.809092e+07  28675.0214  8.212132e+16   \n",
      "13 2023-03-31 13:00:00  1.127476e+14  1.840449e+08  71045.1061  1.694182e+17   \n",
      "14 2023-03-31 14:00:00  9.951635e+13  1.634965e+08  59859.1701  1.495241e+17   \n",
      "15 2023-03-31 15:00:00  6.321558e+13  1.035702e+08  40884.2991  9.497594e+16   \n",
      "16 2023-03-31 16:00:00  3.664198e+13  5.987473e+07  21192.6215  5.504934e+16   \n",
      "17 2023-03-31 17:00:00  2.646830e+13  4.324886e+07  17507.4943  3.976392e+16   \n",
      "18 2023-03-31 18:00:00  2.261901e+13  3.688442e+07  12191.3227  3.398045e+16   \n",
      "19 2023-03-31 19:00:00  3.630894e+13  5.923644e+07  30053.1803  5.454560e+16   \n",
      "20 2023-03-31 20:00:00  3.907506e+13  6.368149e+07  23232.2992  5.869942e+16   \n",
      "21 2023-03-31 21:00:00  3.010744e+13  4.903684e+07  15725.2866  4.522690e+16   \n",
      "22 2023-03-31 22:00:00  2.464824e+13  4.025079e+07  11066.3308  3.702545e+16   \n",
      "23 2023-03-31 23:00:00  3.294674e+13  5.373016e+07  18290.4716  4.949003e+16   \n",
      "\n",
      "         Hour  transaction_value       outcome  transaction_value_abs  \n",
      "0         0.0      -2.242845e+06 -2.175962e+10           4.485414e+07  \n",
      "1     44023.0      -1.825833e+06 -1.983349e+11           5.203171e+07  \n",
      "2     54810.0      -2.739394e+06 -1.334003e+11           2.132083e+07  \n",
      "3     73041.0       2.279300e+05 -1.485210e+11           2.069030e+07  \n",
      "4     95356.0       4.225520e+05 -1.417789e+11           1.915055e+07  \n",
      "5    139890.0       1.554771e+06 -1.744313e+11           2.390448e+07  \n",
      "6    131430.0       2.569548e+06 -7.374429e+10           1.790079e+07  \n",
      "7    357364.0       6.938982e+06  9.377130e+10           6.367612e+07  \n",
      "8    302480.0      -1.334802e+06  1.709237e+11           3.453877e+07  \n",
      "9    304038.0      -3.693096e+06  2.806291e+10           2.306138e+07  \n",
      "10   258040.0      -1.734500e+06 -3.822794e+10           2.319669e+07  \n",
      "11   356433.0       7.664293e+05 -3.344997e+10           2.386533e+07  \n",
      "12   586488.0      -5.860189e+06 -2.303702e+11           5.171976e+07  \n",
      "13  1310764.0      -2.859383e+07 -2.288906e+12           1.297147e+08  \n",
      "14  1245832.0      -1.386011e+07 -3.920264e+12           1.100024e+08  \n",
      "15   847860.0       9.847305e+06 -2.429689e+12           7.491027e+07  \n",
      "16   524192.0      -2.386266e+06 -1.328465e+12           3.872752e+07  \n",
      "17   402305.0      -1.490234e+06 -1.014024e+12           3.199759e+07  \n",
      "18   364014.0      -2.788125e+06 -9.130367e+11           2.223492e+07  \n",
      "19   616778.0      -1.080508e+06 -1.502561e+12           5.482784e+07  \n",
      "20   698680.0       2.559550e+05 -1.655297e+12           4.234585e+07  \n",
      "21   565236.0      -2.984335e+06 -1.295386e+12           2.864537e+07  \n",
      "22   484770.0      -2.063137e+06 -1.129537e+12           2.021546e+07  \n",
      "23   677419.0       8.516077e+06 -1.428974e+12           3.336382e+07  \n",
      "(24, 9)\n",
      "-------------------------------------\n",
      "            agg_Date_H  isSelling      trade_id        price  quantity  \\\n",
      "0  2023-03-31 00:00:00      False  1.117750e+09  1800.561400  0.708270   \n",
      "1  2023-03-31 00:00:00       True  1.117750e+09  1799.713432  0.718437   \n",
      "2  2023-03-31 01:00:00      False  1.117789e+09  1810.179465  0.642992   \n",
      "3  2023-03-31 01:00:00       True  1.117790e+09  1809.747994  0.663929   \n",
      "4  2023-03-31 02:00:00      False  1.117825e+09  1802.829569  0.452818   \n",
      "5  2023-03-31 02:00:00       True  1.117825e+09  1802.704178  0.406863   \n",
      "6  2023-03-31 03:00:00      False  1.117851e+09  1804.866366  0.467985   \n",
      "7  2023-03-31 03:00:00       True  1.117851e+09  1804.778393  0.473626   \n",
      "8  2023-03-31 04:00:00      False  1.117875e+09  1802.634285  0.448667   \n",
      "9  2023-03-31 04:00:00       True  1.117875e+09  1802.539589  0.442821   \n",
      "10 2023-03-31 05:00:00      False  1.117901e+09  1801.453259  0.494667   \n",
      "11 2023-03-31 05:00:00       True  1.117901e+09  1801.069068  0.458008   \n",
      "12 2023-03-31 06:00:00      False  1.117926e+09  1797.659443  0.384412   \n",
      "13 2023-03-31 06:00:00       True  1.117926e+09  1797.642494  0.526601   \n",
      "14 2023-03-31 07:00:00      False  1.117963e+09  1788.697647  0.649140   \n",
      "15 2023-03-31 07:00:00       True  1.117962e+09  1788.375218  0.742266   \n",
      "16 2023-03-31 08:00:00      False  1.118007e+09  1792.772205  0.574064   \n",
      "17 2023-03-31 08:00:00       True  1.118007e+09  1792.749492  0.454136   \n",
      "18 2023-03-31 09:00:00      False  1.118043e+09  1790.487638  0.432910   \n",
      "19 2023-03-31 09:00:00       True  1.118043e+09  1790.455822  0.327306   \n",
      "20 2023-03-31 10:00:00      False  1.118072e+09  1794.233884  0.527295   \n",
      "21 2023-03-31 10:00:00       True  1.118073e+09  1794.252116  0.473406   \n",
      "22 2023-03-31 11:00:00      False  1.118102e+09  1792.786994  0.383371   \n",
      "23 2023-03-31 11:00:00       True  1.118101e+09  1792.732096  0.440527   \n",
      "24 2023-03-31 12:00:00      False  1.118142e+09  1802.457122  0.607615   \n",
      "25 2023-03-31 12:00:00       True  1.118143e+09  1802.352266  0.562409   \n",
      "26 2023-03-31 13:00:00      False  1.118217e+09  1825.467086  0.734157   \n",
      "27 2023-03-31 13:00:00       True  1.118217e+09  1825.149099  0.662867   \n",
      "28 2023-03-31 14:00:00      False  1.118311e+09  1837.209114  0.656813   \n",
      "29 2023-03-31 14:00:00       True  1.118314e+09  1837.393554  0.694256   \n",
      "30 2023-03-31 15:00:00      False  1.118385e+09  1832.343320  0.662808   \n",
      "31 2023-03-31 15:00:00       True  1.118384e+09  1832.302610  0.777811   \n",
      "32 2023-03-31 16:00:00      False  1.118430e+09  1827.677984  0.662035   \n",
      "33 2023-03-31 16:00:00       True  1.118429e+09  1827.446448  0.630523   \n",
      "34 2023-03-31 17:00:00      False  1.118457e+09  1827.613875  0.779326   \n",
      "35 2023-03-31 17:00:00       True  1.118458e+09  1827.477620  0.700792   \n",
      "36 2023-03-31 18:00:00      False  1.118479e+09  1823.897117  0.654401   \n",
      "37 2023-03-31 18:00:00       True  1.118480e+09  1823.871322  0.547355   \n",
      "38 2023-03-31 19:00:00      False  1.118506e+09  1824.870968  0.907463   \n",
      "39 2023-03-31 19:00:00       True  1.118506e+09  1824.708848  0.945668   \n",
      "40 2023-03-31 20:00:00      False  1.118540e+09  1822.948985  0.715102   \n",
      "41 2023-03-31 20:00:00       True  1.118539e+09  1822.874124  0.622011   \n",
      "42 2023-03-31 21:00:00      False  1.118570e+09  1821.866630  0.605416   \n",
      "43 2023-03-31 21:00:00       True  1.118571e+09  1821.824840  0.560088   \n",
      "44 2023-03-31 22:00:00      False  1.118595e+09  1826.725237  0.536373   \n",
      "45 2023-03-31 22:00:00       True  1.118595e+09  1826.622155  0.465807   \n",
      "46 2023-03-31 23:00:00      False  1.118620e+09  1824.306943  0.453927   \n",
      "47 2023-03-31 23:00:00       True  1.118621e+09  1824.227156  0.794501   \n",
      "\n",
      "            time  Hour  transaction_value       outcome  transaction_value_abs  \n",
      "0   1.680221e+12   0.0      -2.354849e+07 -1.170069e+10           2.354849e+07  \n",
      "1   1.680221e+12   0.0       2.130565e+07 -1.005893e+10           2.130565e+07  \n",
      "2   1.680224e+12   1.0      -2.692877e+07 -1.033605e+11           2.692877e+07  \n",
      "3   1.680224e+12   1.0       2.510294e+07 -9.497432e+10           2.510294e+07  \n",
      "4   1.680228e+12   2.0      -1.203011e+07 -7.159209e+10           1.203011e+07  \n",
      "5   1.680228e+12   2.0       9.290717e+06 -6.180819e+10           9.290717e+06  \n",
      "6   1.680232e+12   3.0      -1.023119e+07 -7.369760e+10           1.023119e+07  \n",
      "7   1.680232e+12   3.0       1.045912e+07 -7.482337e+10           1.045912e+07  \n",
      "8   1.680235e+12   4.0      -9.363999e+06 -6.875207e+10           9.363999e+06  \n",
      "9   1.680235e+12   4.0       9.786551e+06 -7.302685e+10           9.786551e+06  \n",
      "10  1.680239e+12   5.0      -1.117486e+07 -7.855714e+10           1.117486e+07  \n",
      "11  1.680239e+12   5.0       1.272963e+07 -9.587414e+10           1.272963e+07  \n",
      "12  1.680242e+12   6.0      -7.665619e+06 -3.731661e+10           7.665619e+06  \n",
      "13  1.680242e+12   6.0       1.023517e+07 -3.642769e+10           1.023517e+07  \n",
      "14  1.680246e+12   7.0      -2.836857e+07  4.733892e+10           2.836857e+07  \n",
      "15  1.680246e+12   7.0       3.530755e+07  4.643238e+10           3.530755e+07  \n",
      "16  1.680250e+12   8.0      -1.793678e+07  7.826108e+10           1.793678e+07  \n",
      "17  1.680250e+12   8.0       1.660198e+07  9.266261e+10           1.660198e+07  \n",
      "18  1.680253e+12   9.0      -1.337724e+07  1.460363e+10           1.337724e+07  \n",
      "19  1.680253e+12   9.0       9.684144e+06  1.345927e+10           9.684144e+06  \n",
      "20  1.680257e+12  10.0      -1.246559e+07 -1.905233e+10           1.246559e+07  \n",
      "21  1.680257e+12  10.0       1.073109e+07 -1.917561e+10           1.073109e+07  \n",
      "22  1.680260e+12  11.0      -1.154945e+07 -1.690766e+10           1.154945e+07  \n",
      "23  1.680260e+12  11.0       1.231588e+07 -1.654231e+10           1.231588e+07  \n",
      "24  1.680264e+12  12.0      -2.878997e+07 -1.237163e+11           2.878997e+07  \n",
      "25  1.680264e+12  12.0       2.292978e+07 -1.066539e+11           2.292978e+07  \n",
      "26  1.680268e+12  13.0      -7.915426e+07 -1.337625e+12           7.915426e+07  \n",
      "27  1.680268e+12  13.0       5.056044e+07 -9.512815e+11           5.056044e+07  \n",
      "28  1.680271e+12  14.0      -6.193128e+07 -2.248007e+12           6.193128e+07  \n",
      "29  1.680271e+12  14.0       4.807117e+07 -1.672257e+12           4.807117e+07  \n",
      "30  1.680275e+12  15.0      -3.253148e+07 -1.149057e+12           3.253148e+07  \n",
      "31  1.680275e+12  15.0       4.237879e+07 -1.280633e+12           4.237879e+07  \n",
      "32  1.680278e+12  16.0      -2.055689e+07 -6.892999e+11           2.055689e+07  \n",
      "33  1.680278e+12  16.0       1.817063e+07 -6.391653e+11           1.817063e+07  \n",
      "34  1.680282e+12  17.0      -1.674391e+07 -5.038281e+11           1.674391e+07  \n",
      "35  1.680282e+12  17.0       1.525368e+07 -5.101954e+11           1.525368e+07  \n",
      "36  1.680286e+12  18.0      -1.251152e+07 -4.731051e+11           1.251152e+07  \n",
      "37  1.680286e+12  18.0       9.723396e+06 -4.399316e+11           9.723396e+06  \n",
      "38  1.680289e+12  19.0      -2.795418e+07 -7.817934e+11           2.795418e+07  \n",
      "39  1.680289e+12  19.0       2.687367e+07 -7.207676e+11           2.687367e+07  \n",
      "40  1.680293e+12  20.0      -2.104495e+07 -7.654183e+11           2.104495e+07  \n",
      "41  1.680293e+12  20.0       2.130090e+07 -8.898791e+11           2.130090e+07  \n",
      "42  1.680296e+12  21.0      -1.581485e+07 -6.898125e+11           1.581485e+07  \n",
      "43  1.680296e+12  21.0       1.283052e+07 -6.055733e+11           1.283052e+07  \n",
      "44  1.680300e+12  22.0      -1.113930e+07 -5.828360e+11           1.113930e+07  \n",
      "45  1.680300e+12  22.0       9.076163e+06 -5.467008e+11           9.076163e+06  \n",
      "46  1.680304e+12  23.0      -1.242387e+07 -7.291355e+11           1.242387e+07  \n",
      "47  1.680304e+12  23.0       2.093995e+07 -6.998387e+11           2.093995e+07  \n",
      "-------------------------------------\n"
     ]
    },
    {
     "data": {
      "application/vnd.plotly.v1+json": {
       "config": {
        "plotlyServerURL": "https://plot.ly"
       },
       "data": [
        {
         "alignmentgroup": "True",
         "hovertemplate": "isSelling=False<br>agg_Date_H=%{x}<br>transaction_value_abs=%{y}<extra></extra>",
         "legendgroup": "False",
         "marker": {
          "color": "rgb(228,26,28)",
          "pattern": {
           "shape": ""
          }
         },
         "name": "False",
         "offsetgroup": "False",
         "orientation": "v",
         "showlegend": true,
         "textposition": "auto",
         "type": "bar",
         "x": [
          "2023-03-31T00:00:00",
          "2023-03-31T01:00:00",
          "2023-03-31T02:00:00",
          "2023-03-31T03:00:00",
          "2023-03-31T04:00:00",
          "2023-03-31T05:00:00",
          "2023-03-31T06:00:00",
          "2023-03-31T07:00:00",
          "2023-03-31T08:00:00",
          "2023-03-31T09:00:00",
          "2023-03-31T10:00:00",
          "2023-03-31T11:00:00",
          "2023-03-31T12:00:00",
          "2023-03-31T13:00:00",
          "2023-03-31T14:00:00",
          "2023-03-31T15:00:00",
          "2023-03-31T16:00:00",
          "2023-03-31T17:00:00",
          "2023-03-31T18:00:00",
          "2023-03-31T19:00:00",
          "2023-03-31T20:00:00",
          "2023-03-31T21:00:00",
          "2023-03-31T22:00:00",
          "2023-03-31T23:00:00"
         ],
         "xaxis": "x",
         "y": [
          23548493.452508923,
          26928769.353460975,
          12030111.073893156,
          10231185.13951785,
          9363998.752537077,
          11174856.840938944,
          7665618.966756926,
          28368569.613044742,
          17936784.668002237,
          13377240.114166146,
          12465593.434017044,
          11549450.823193885,
          28789973.863137066,
          79154263.40736105,
          61931275.54552477,
          32531481.76107529,
          20556892.124709927,
          16743913.266758984,
          12511520.852262938,
          27954175.101765137,
          21044945.556620974,
          15814853.149337912,
          11139299.558358107,
          12423869.78006004
         ],
         "yaxis": "y"
        },
        {
         "alignmentgroup": "True",
         "hovertemplate": "isSelling=True<br>agg_Date_H=%{x}<br>transaction_value_abs=%{y}<extra></extra>",
         "legendgroup": "True",
         "marker": {
          "color": "rgb(55,126,184)",
          "pattern": {
           "shape": ""
          }
         },
         "name": "True",
         "offsetgroup": "True",
         "orientation": "v",
         "showlegend": true,
         "textposition": "auto",
         "type": "bar",
         "x": [
          "2023-03-31T00:00:00",
          "2023-03-31T01:00:00",
          "2023-03-31T02:00:00",
          "2023-03-31T03:00:00",
          "2023-03-31T04:00:00",
          "2023-03-31T05:00:00",
          "2023-03-31T06:00:00",
          "2023-03-31T07:00:00",
          "2023-03-31T08:00:00",
          "2023-03-31T09:00:00",
          "2023-03-31T10:00:00",
          "2023-03-31T11:00:00",
          "2023-03-31T12:00:00",
          "2023-03-31T13:00:00",
          "2023-03-31T14:00:00",
          "2023-03-31T15:00:00",
          "2023-03-31T16:00:00",
          "2023-03-31T17:00:00",
          "2023-03-31T18:00:00",
          "2023-03-31T19:00:00",
          "2023-03-31T20:00:00",
          "2023-03-31T21:00:00",
          "2023-03-31T22:00:00",
          "2023-03-31T23:00:00"
         ],
         "xaxis": "x",
         "y": [
          21305647.96196099,
          25102936.34776113,
          9290717.072012903,
          10459115.120941808,
          9786550.764003016,
          12729627.938334918,
          10235166.575984964,
          35307551.42798207,
          16601982.72881107,
          9684144.43357594,
          10731093.050086023,
          12315880.117276063,
          22929784.79577082,
          50560436.17127205,
          48071166.3518389,
          42378786.4518764,
          18170625.828374974,
          15253678.766849017,
          9723395.601453032,
          26873667.347547244,
          21300900.529167835,
          12830518.032876074,
          9076162.905637003,
          20939946.73216413
         ],
         "yaxis": "y"
        }
       ],
       "layout": {
        "barmode": "group",
        "legend": {
         "title": {
          "text": "isSelling"
         },
         "tracegroupgap": 0
        },
        "margin": {
         "t": 60
        },
        "template": {
         "data": {
          "bar": [
           {
            "error_x": {
             "color": "#2a3f5f"
            },
            "error_y": {
             "color": "#2a3f5f"
            },
            "marker": {
             "line": {
              "color": "#E5ECF6",
              "width": 0.5
             },
             "pattern": {
              "fillmode": "overlay",
              "size": 10,
              "solidity": 0.2
             }
            },
            "type": "bar"
           }
          ],
          "barpolar": [
           {
            "marker": {
             "line": {
              "color": "#E5ECF6",
              "width": 0.5
             },
             "pattern": {
              "fillmode": "overlay",
              "size": 10,
              "solidity": 0.2
             }
            },
            "type": "barpolar"
           }
          ],
          "carpet": [
           {
            "aaxis": {
             "endlinecolor": "#2a3f5f",
             "gridcolor": "white",
             "linecolor": "white",
             "minorgridcolor": "white",
             "startlinecolor": "#2a3f5f"
            },
            "baxis": {
             "endlinecolor": "#2a3f5f",
             "gridcolor": "white",
             "linecolor": "white",
             "minorgridcolor": "white",
             "startlinecolor": "#2a3f5f"
            },
            "type": "carpet"
           }
          ],
          "choropleth": [
           {
            "colorbar": {
             "outlinewidth": 0,
             "ticks": ""
            },
            "type": "choropleth"
           }
          ],
          "contour": [
           {
            "colorbar": {
             "outlinewidth": 0,
             "ticks": ""
            },
            "colorscale": [
             [
              0,
              "#0d0887"
             ],
             [
              0.1111111111111111,
              "#46039f"
             ],
             [
              0.2222222222222222,
              "#7201a8"
             ],
             [
              0.3333333333333333,
              "#9c179e"
             ],
             [
              0.4444444444444444,
              "#bd3786"
             ],
             [
              0.5555555555555556,
              "#d8576b"
             ],
             [
              0.6666666666666666,
              "#ed7953"
             ],
             [
              0.7777777777777778,
              "#fb9f3a"
             ],
             [
              0.8888888888888888,
              "#fdca26"
             ],
             [
              1,
              "#f0f921"
             ]
            ],
            "type": "contour"
           }
          ],
          "contourcarpet": [
           {
            "colorbar": {
             "outlinewidth": 0,
             "ticks": ""
            },
            "type": "contourcarpet"
           }
          ],
          "heatmap": [
           {
            "colorbar": {
             "outlinewidth": 0,
             "ticks": ""
            },
            "colorscale": [
             [
              0,
              "#0d0887"
             ],
             [
              0.1111111111111111,
              "#46039f"
             ],
             [
              0.2222222222222222,
              "#7201a8"
             ],
             [
              0.3333333333333333,
              "#9c179e"
             ],
             [
              0.4444444444444444,
              "#bd3786"
             ],
             [
              0.5555555555555556,
              "#d8576b"
             ],
             [
              0.6666666666666666,
              "#ed7953"
             ],
             [
              0.7777777777777778,
              "#fb9f3a"
             ],
             [
              0.8888888888888888,
              "#fdca26"
             ],
             [
              1,
              "#f0f921"
             ]
            ],
            "type": "heatmap"
           }
          ],
          "heatmapgl": [
           {
            "colorbar": {
             "outlinewidth": 0,
             "ticks": ""
            },
            "colorscale": [
             [
              0,
              "#0d0887"
             ],
             [
              0.1111111111111111,
              "#46039f"
             ],
             [
              0.2222222222222222,
              "#7201a8"
             ],
             [
              0.3333333333333333,
              "#9c179e"
             ],
             [
              0.4444444444444444,
              "#bd3786"
             ],
             [
              0.5555555555555556,
              "#d8576b"
             ],
             [
              0.6666666666666666,
              "#ed7953"
             ],
             [
              0.7777777777777778,
              "#fb9f3a"
             ],
             [
              0.8888888888888888,
              "#fdca26"
             ],
             [
              1,
              "#f0f921"
             ]
            ],
            "type": "heatmapgl"
           }
          ],
          "histogram": [
           {
            "marker": {
             "pattern": {
              "fillmode": "overlay",
              "size": 10,
              "solidity": 0.2
             }
            },
            "type": "histogram"
           }
          ],
          "histogram2d": [
           {
            "colorbar": {
             "outlinewidth": 0,
             "ticks": ""
            },
            "colorscale": [
             [
              0,
              "#0d0887"
             ],
             [
              0.1111111111111111,
              "#46039f"
             ],
             [
              0.2222222222222222,
              "#7201a8"
             ],
             [
              0.3333333333333333,
              "#9c179e"
             ],
             [
              0.4444444444444444,
              "#bd3786"
             ],
             [
              0.5555555555555556,
              "#d8576b"
             ],
             [
              0.6666666666666666,
              "#ed7953"
             ],
             [
              0.7777777777777778,
              "#fb9f3a"
             ],
             [
              0.8888888888888888,
              "#fdca26"
             ],
             [
              1,
              "#f0f921"
             ]
            ],
            "type": "histogram2d"
           }
          ],
          "histogram2dcontour": [
           {
            "colorbar": {
             "outlinewidth": 0,
             "ticks": ""
            },
            "colorscale": [
             [
              0,
              "#0d0887"
             ],
             [
              0.1111111111111111,
              "#46039f"
             ],
             [
              0.2222222222222222,
              "#7201a8"
             ],
             [
              0.3333333333333333,
              "#9c179e"
             ],
             [
              0.4444444444444444,
              "#bd3786"
             ],
             [
              0.5555555555555556,
              "#d8576b"
             ],
             [
              0.6666666666666666,
              "#ed7953"
             ],
             [
              0.7777777777777778,
              "#fb9f3a"
             ],
             [
              0.8888888888888888,
              "#fdca26"
             ],
             [
              1,
              "#f0f921"
             ]
            ],
            "type": "histogram2dcontour"
           }
          ],
          "mesh3d": [
           {
            "colorbar": {
             "outlinewidth": 0,
             "ticks": ""
            },
            "type": "mesh3d"
           }
          ],
          "parcoords": [
           {
            "line": {
             "colorbar": {
              "outlinewidth": 0,
              "ticks": ""
             }
            },
            "type": "parcoords"
           }
          ],
          "pie": [
           {
            "automargin": true,
            "type": "pie"
           }
          ],
          "scatter": [
           {
            "fillpattern": {
             "fillmode": "overlay",
             "size": 10,
             "solidity": 0.2
            },
            "type": "scatter"
           }
          ],
          "scatter3d": [
           {
            "line": {
             "colorbar": {
              "outlinewidth": 0,
              "ticks": ""
             }
            },
            "marker": {
             "colorbar": {
              "outlinewidth": 0,
              "ticks": ""
             }
            },
            "type": "scatter3d"
           }
          ],
          "scattercarpet": [
           {
            "marker": {
             "colorbar": {
              "outlinewidth": 0,
              "ticks": ""
             }
            },
            "type": "scattercarpet"
           }
          ],
          "scattergeo": [
           {
            "marker": {
             "colorbar": {
              "outlinewidth": 0,
              "ticks": ""
             }
            },
            "type": "scattergeo"
           }
          ],
          "scattergl": [
           {
            "marker": {
             "colorbar": {
              "outlinewidth": 0,
              "ticks": ""
             }
            },
            "type": "scattergl"
           }
          ],
          "scattermapbox": [
           {
            "marker": {
             "colorbar": {
              "outlinewidth": 0,
              "ticks": ""
             }
            },
            "type": "scattermapbox"
           }
          ],
          "scatterpolar": [
           {
            "marker": {
             "colorbar": {
              "outlinewidth": 0,
              "ticks": ""
             }
            },
            "type": "scatterpolar"
           }
          ],
          "scatterpolargl": [
           {
            "marker": {
             "colorbar": {
              "outlinewidth": 0,
              "ticks": ""
             }
            },
            "type": "scatterpolargl"
           }
          ],
          "scatterternary": [
           {
            "marker": {
             "colorbar": {
              "outlinewidth": 0,
              "ticks": ""
             }
            },
            "type": "scatterternary"
           }
          ],
          "surface": [
           {
            "colorbar": {
             "outlinewidth": 0,
             "ticks": ""
            },
            "colorscale": [
             [
              0,
              "#0d0887"
             ],
             [
              0.1111111111111111,
              "#46039f"
             ],
             [
              0.2222222222222222,
              "#7201a8"
             ],
             [
              0.3333333333333333,
              "#9c179e"
             ],
             [
              0.4444444444444444,
              "#bd3786"
             ],
             [
              0.5555555555555556,
              "#d8576b"
             ],
             [
              0.6666666666666666,
              "#ed7953"
             ],
             [
              0.7777777777777778,
              "#fb9f3a"
             ],
             [
              0.8888888888888888,
              "#fdca26"
             ],
             [
              1,
              "#f0f921"
             ]
            ],
            "type": "surface"
           }
          ],
          "table": [
           {
            "cells": {
             "fill": {
              "color": "#EBF0F8"
             },
             "line": {
              "color": "white"
             }
            },
            "header": {
             "fill": {
              "color": "#C8D4E3"
             },
             "line": {
              "color": "white"
             }
            },
            "type": "table"
           }
          ]
         },
         "layout": {
          "annotationdefaults": {
           "arrowcolor": "#2a3f5f",
           "arrowhead": 0,
           "arrowwidth": 1
          },
          "autotypenumbers": "strict",
          "coloraxis": {
           "colorbar": {
            "outlinewidth": 0,
            "ticks": ""
           }
          },
          "colorscale": {
           "diverging": [
            [
             0,
             "#8e0152"
            ],
            [
             0.1,
             "#c51b7d"
            ],
            [
             0.2,
             "#de77ae"
            ],
            [
             0.3,
             "#f1b6da"
            ],
            [
             0.4,
             "#fde0ef"
            ],
            [
             0.5,
             "#f7f7f7"
            ],
            [
             0.6,
             "#e6f5d0"
            ],
            [
             0.7,
             "#b8e186"
            ],
            [
             0.8,
             "#7fbc41"
            ],
            [
             0.9,
             "#4d9221"
            ],
            [
             1,
             "#276419"
            ]
           ],
           "sequential": [
            [
             0,
             "#0d0887"
            ],
            [
             0.1111111111111111,
             "#46039f"
            ],
            [
             0.2222222222222222,
             "#7201a8"
            ],
            [
             0.3333333333333333,
             "#9c179e"
            ],
            [
             0.4444444444444444,
             "#bd3786"
            ],
            [
             0.5555555555555556,
             "#d8576b"
            ],
            [
             0.6666666666666666,
             "#ed7953"
            ],
            [
             0.7777777777777778,
             "#fb9f3a"
            ],
            [
             0.8888888888888888,
             "#fdca26"
            ],
            [
             1,
             "#f0f921"
            ]
           ],
           "sequentialminus": [
            [
             0,
             "#0d0887"
            ],
            [
             0.1111111111111111,
             "#46039f"
            ],
            [
             0.2222222222222222,
             "#7201a8"
            ],
            [
             0.3333333333333333,
             "#9c179e"
            ],
            [
             0.4444444444444444,
             "#bd3786"
            ],
            [
             0.5555555555555556,
             "#d8576b"
            ],
            [
             0.6666666666666666,
             "#ed7953"
            ],
            [
             0.7777777777777778,
             "#fb9f3a"
            ],
            [
             0.8888888888888888,
             "#fdca26"
            ],
            [
             1,
             "#f0f921"
            ]
           ]
          },
          "colorway": [
           "#636efa",
           "#EF553B",
           "#00cc96",
           "#ab63fa",
           "#FFA15A",
           "#19d3f3",
           "#FF6692",
           "#B6E880",
           "#FF97FF",
           "#FECB52"
          ],
          "font": {
           "color": "#2a3f5f"
          },
          "geo": {
           "bgcolor": "white",
           "lakecolor": "white",
           "landcolor": "#E5ECF6",
           "showlakes": true,
           "showland": true,
           "subunitcolor": "white"
          },
          "hoverlabel": {
           "align": "left"
          },
          "hovermode": "closest",
          "mapbox": {
           "style": "light"
          },
          "paper_bgcolor": "white",
          "plot_bgcolor": "#E5ECF6",
          "polar": {
           "angularaxis": {
            "gridcolor": "white",
            "linecolor": "white",
            "ticks": ""
           },
           "bgcolor": "#E5ECF6",
           "radialaxis": {
            "gridcolor": "white",
            "linecolor": "white",
            "ticks": ""
           }
          },
          "scene": {
           "xaxis": {
            "backgroundcolor": "#E5ECF6",
            "gridcolor": "white",
            "gridwidth": 2,
            "linecolor": "white",
            "showbackground": true,
            "ticks": "",
            "zerolinecolor": "white"
           },
           "yaxis": {
            "backgroundcolor": "#E5ECF6",
            "gridcolor": "white",
            "gridwidth": 2,
            "linecolor": "white",
            "showbackground": true,
            "ticks": "",
            "zerolinecolor": "white"
           },
           "zaxis": {
            "backgroundcolor": "#E5ECF6",
            "gridcolor": "white",
            "gridwidth": 2,
            "linecolor": "white",
            "showbackground": true,
            "ticks": "",
            "zerolinecolor": "white"
           }
          },
          "shapedefaults": {
           "line": {
            "color": "#2a3f5f"
           }
          },
          "ternary": {
           "aaxis": {
            "gridcolor": "white",
            "linecolor": "white",
            "ticks": ""
           },
           "baxis": {
            "gridcolor": "white",
            "linecolor": "white",
            "ticks": ""
           },
           "bgcolor": "#E5ECF6",
           "caxis": {
            "gridcolor": "white",
            "linecolor": "white",
            "ticks": ""
           }
          },
          "title": {
           "x": 0.05
          },
          "xaxis": {
           "automargin": true,
           "gridcolor": "white",
           "linecolor": "white",
           "ticks": "",
           "title": {
            "standoff": 15
           },
           "zerolinecolor": "white",
           "zerolinewidth": 2
          },
          "yaxis": {
           "automargin": true,
           "gridcolor": "white",
           "linecolor": "white",
           "ticks": "",
           "title": {
            "standoff": 15
           },
           "zerolinecolor": "white",
           "zerolinewidth": 2
          }
         }
        },
        "xaxis": {
         "anchor": "y",
         "domain": [
          0,
          1
         ],
         "title": {
          "text": "agg_Date_H"
         }
        },
        "yaxis": {
         "anchor": "x",
         "domain": [
          0,
          1
         ],
         "title": {
          "text": "transaction_value_abs"
         }
        }
       }
      },
      "text/html": [
       "<div>                            <div id=\"51e49160-baa4-47bb-b9cd-77ec34d6b304\" class=\"plotly-graph-div\" style=\"height:525px; width:100%;\"></div>            <script type=\"text/javascript\">                require([\"plotly\"], function(Plotly) {                    window.PLOTLYENV=window.PLOTLYENV || {};                                    if (document.getElementById(\"51e49160-baa4-47bb-b9cd-77ec34d6b304\")) {                    Plotly.newPlot(                        \"51e49160-baa4-47bb-b9cd-77ec34d6b304\",                        [{\"alignmentgroup\":\"True\",\"hovertemplate\":\"isSelling=False<br>agg_Date_H=%{x}<br>transaction_value_abs=%{y}<extra></extra>\",\"legendgroup\":\"False\",\"marker\":{\"color\":\"rgb(228,26,28)\",\"pattern\":{\"shape\":\"\"}},\"name\":\"False\",\"offsetgroup\":\"False\",\"orientation\":\"v\",\"showlegend\":true,\"textposition\":\"auto\",\"x\":[\"2023-03-31T00:00:00\",\"2023-03-31T01:00:00\",\"2023-03-31T02:00:00\",\"2023-03-31T03:00:00\",\"2023-03-31T04:00:00\",\"2023-03-31T05:00:00\",\"2023-03-31T06:00:00\",\"2023-03-31T07:00:00\",\"2023-03-31T08:00:00\",\"2023-03-31T09:00:00\",\"2023-03-31T10:00:00\",\"2023-03-31T11:00:00\",\"2023-03-31T12:00:00\",\"2023-03-31T13:00:00\",\"2023-03-31T14:00:00\",\"2023-03-31T15:00:00\",\"2023-03-31T16:00:00\",\"2023-03-31T17:00:00\",\"2023-03-31T18:00:00\",\"2023-03-31T19:00:00\",\"2023-03-31T20:00:00\",\"2023-03-31T21:00:00\",\"2023-03-31T22:00:00\",\"2023-03-31T23:00:00\"],\"xaxis\":\"x\",\"y\":[23548493.452508923,26928769.353460975,12030111.073893156,10231185.13951785,9363998.752537077,11174856.840938944,7665618.966756926,28368569.613044742,17936784.668002237,13377240.114166146,12465593.434017044,11549450.823193885,28789973.863137066,79154263.40736105,61931275.54552477,32531481.76107529,20556892.124709927,16743913.266758984,12511520.852262938,27954175.101765137,21044945.556620974,15814853.149337912,11139299.558358107,12423869.78006004],\"yaxis\":\"y\",\"type\":\"bar\"},{\"alignmentgroup\":\"True\",\"hovertemplate\":\"isSelling=True<br>agg_Date_H=%{x}<br>transaction_value_abs=%{y}<extra></extra>\",\"legendgroup\":\"True\",\"marker\":{\"color\":\"rgb(55,126,184)\",\"pattern\":{\"shape\":\"\"}},\"name\":\"True\",\"offsetgroup\":\"True\",\"orientation\":\"v\",\"showlegend\":true,\"textposition\":\"auto\",\"x\":[\"2023-03-31T00:00:00\",\"2023-03-31T01:00:00\",\"2023-03-31T02:00:00\",\"2023-03-31T03:00:00\",\"2023-03-31T04:00:00\",\"2023-03-31T05:00:00\",\"2023-03-31T06:00:00\",\"2023-03-31T07:00:00\",\"2023-03-31T08:00:00\",\"2023-03-31T09:00:00\",\"2023-03-31T10:00:00\",\"2023-03-31T11:00:00\",\"2023-03-31T12:00:00\",\"2023-03-31T13:00:00\",\"2023-03-31T14:00:00\",\"2023-03-31T15:00:00\",\"2023-03-31T16:00:00\",\"2023-03-31T17:00:00\",\"2023-03-31T18:00:00\",\"2023-03-31T19:00:00\",\"2023-03-31T20:00:00\",\"2023-03-31T21:00:00\",\"2023-03-31T22:00:00\",\"2023-03-31T23:00:00\"],\"xaxis\":\"x\",\"y\":[21305647.96196099,25102936.34776113,9290717.072012903,10459115.120941808,9786550.764003016,12729627.938334918,10235166.575984964,35307551.42798207,16601982.72881107,9684144.43357594,10731093.050086023,12315880.117276063,22929784.79577082,50560436.17127205,48071166.3518389,42378786.4518764,18170625.828374974,15253678.766849017,9723395.601453032,26873667.347547244,21300900.529167835,12830518.032876074,9076162.905637003,20939946.73216413],\"yaxis\":\"y\",\"type\":\"bar\"}],                        {\"template\":{\"data\":{\"histogram2dcontour\":[{\"type\":\"histogram2dcontour\",\"colorbar\":{\"outlinewidth\":0,\"ticks\":\"\"},\"colorscale\":[[0.0,\"#0d0887\"],[0.1111111111111111,\"#46039f\"],[0.2222222222222222,\"#7201a8\"],[0.3333333333333333,\"#9c179e\"],[0.4444444444444444,\"#bd3786\"],[0.5555555555555556,\"#d8576b\"],[0.6666666666666666,\"#ed7953\"],[0.7777777777777778,\"#fb9f3a\"],[0.8888888888888888,\"#fdca26\"],[1.0,\"#f0f921\"]]}],\"choropleth\":[{\"type\":\"choropleth\",\"colorbar\":{\"outlinewidth\":0,\"ticks\":\"\"}}],\"histogram2d\":[{\"type\":\"histogram2d\",\"colorbar\":{\"outlinewidth\":0,\"ticks\":\"\"},\"colorscale\":[[0.0,\"#0d0887\"],[0.1111111111111111,\"#46039f\"],[0.2222222222222222,\"#7201a8\"],[0.3333333333333333,\"#9c179e\"],[0.4444444444444444,\"#bd3786\"],[0.5555555555555556,\"#d8576b\"],[0.6666666666666666,\"#ed7953\"],[0.7777777777777778,\"#fb9f3a\"],[0.8888888888888888,\"#fdca26\"],[1.0,\"#f0f921\"]]}],\"heatmap\":[{\"type\":\"heatmap\",\"colorbar\":{\"outlinewidth\":0,\"ticks\":\"\"},\"colorscale\":[[0.0,\"#0d0887\"],[0.1111111111111111,\"#46039f\"],[0.2222222222222222,\"#7201a8\"],[0.3333333333333333,\"#9c179e\"],[0.4444444444444444,\"#bd3786\"],[0.5555555555555556,\"#d8576b\"],[0.6666666666666666,\"#ed7953\"],[0.7777777777777778,\"#fb9f3a\"],[0.8888888888888888,\"#fdca26\"],[1.0,\"#f0f921\"]]}],\"heatmapgl\":[{\"type\":\"heatmapgl\",\"colorbar\":{\"outlinewidth\":0,\"ticks\":\"\"},\"colorscale\":[[0.0,\"#0d0887\"],[0.1111111111111111,\"#46039f\"],[0.2222222222222222,\"#7201a8\"],[0.3333333333333333,\"#9c179e\"],[0.4444444444444444,\"#bd3786\"],[0.5555555555555556,\"#d8576b\"],[0.6666666666666666,\"#ed7953\"],[0.7777777777777778,\"#fb9f3a\"],[0.8888888888888888,\"#fdca26\"],[1.0,\"#f0f921\"]]}],\"contourcarpet\":[{\"type\":\"contourcarpet\",\"colorbar\":{\"outlinewidth\":0,\"ticks\":\"\"}}],\"contour\":[{\"type\":\"contour\",\"colorbar\":{\"outlinewidth\":0,\"ticks\":\"\"},\"colorscale\":[[0.0,\"#0d0887\"],[0.1111111111111111,\"#46039f\"],[0.2222222222222222,\"#7201a8\"],[0.3333333333333333,\"#9c179e\"],[0.4444444444444444,\"#bd3786\"],[0.5555555555555556,\"#d8576b\"],[0.6666666666666666,\"#ed7953\"],[0.7777777777777778,\"#fb9f3a\"],[0.8888888888888888,\"#fdca26\"],[1.0,\"#f0f921\"]]}],\"surface\":[{\"type\":\"surface\",\"colorbar\":{\"outlinewidth\":0,\"ticks\":\"\"},\"colorscale\":[[0.0,\"#0d0887\"],[0.1111111111111111,\"#46039f\"],[0.2222222222222222,\"#7201a8\"],[0.3333333333333333,\"#9c179e\"],[0.4444444444444444,\"#bd3786\"],[0.5555555555555556,\"#d8576b\"],[0.6666666666666666,\"#ed7953\"],[0.7777777777777778,\"#fb9f3a\"],[0.8888888888888888,\"#fdca26\"],[1.0,\"#f0f921\"]]}],\"mesh3d\":[{\"type\":\"mesh3d\",\"colorbar\":{\"outlinewidth\":0,\"ticks\":\"\"}}],\"scatter\":[{\"fillpattern\":{\"fillmode\":\"overlay\",\"size\":10,\"solidity\":0.2},\"type\":\"scatter\"}],\"parcoords\":[{\"type\":\"parcoords\",\"line\":{\"colorbar\":{\"outlinewidth\":0,\"ticks\":\"\"}}}],\"scatterpolargl\":[{\"type\":\"scatterpolargl\",\"marker\":{\"colorbar\":{\"outlinewidth\":0,\"ticks\":\"\"}}}],\"bar\":[{\"error_x\":{\"color\":\"#2a3f5f\"},\"error_y\":{\"color\":\"#2a3f5f\"},\"marker\":{\"line\":{\"color\":\"#E5ECF6\",\"width\":0.5},\"pattern\":{\"fillmode\":\"overlay\",\"size\":10,\"solidity\":0.2}},\"type\":\"bar\"}],\"scattergeo\":[{\"type\":\"scattergeo\",\"marker\":{\"colorbar\":{\"outlinewidth\":0,\"ticks\":\"\"}}}],\"scatterpolar\":[{\"type\":\"scatterpolar\",\"marker\":{\"colorbar\":{\"outlinewidth\":0,\"ticks\":\"\"}}}],\"histogram\":[{\"marker\":{\"pattern\":{\"fillmode\":\"overlay\",\"size\":10,\"solidity\":0.2}},\"type\":\"histogram\"}],\"scattergl\":[{\"type\":\"scattergl\",\"marker\":{\"colorbar\":{\"outlinewidth\":0,\"ticks\":\"\"}}}],\"scatter3d\":[{\"type\":\"scatter3d\",\"line\":{\"colorbar\":{\"outlinewidth\":0,\"ticks\":\"\"}},\"marker\":{\"colorbar\":{\"outlinewidth\":0,\"ticks\":\"\"}}}],\"scattermapbox\":[{\"type\":\"scattermapbox\",\"marker\":{\"colorbar\":{\"outlinewidth\":0,\"ticks\":\"\"}}}],\"scatterternary\":[{\"type\":\"scatterternary\",\"marker\":{\"colorbar\":{\"outlinewidth\":0,\"ticks\":\"\"}}}],\"scattercarpet\":[{\"type\":\"scattercarpet\",\"marker\":{\"colorbar\":{\"outlinewidth\":0,\"ticks\":\"\"}}}],\"carpet\":[{\"aaxis\":{\"endlinecolor\":\"#2a3f5f\",\"gridcolor\":\"white\",\"linecolor\":\"white\",\"minorgridcolor\":\"white\",\"startlinecolor\":\"#2a3f5f\"},\"baxis\":{\"endlinecolor\":\"#2a3f5f\",\"gridcolor\":\"white\",\"linecolor\":\"white\",\"minorgridcolor\":\"white\",\"startlinecolor\":\"#2a3f5f\"},\"type\":\"carpet\"}],\"table\":[{\"cells\":{\"fill\":{\"color\":\"#EBF0F8\"},\"line\":{\"color\":\"white\"}},\"header\":{\"fill\":{\"color\":\"#C8D4E3\"},\"line\":{\"color\":\"white\"}},\"type\":\"table\"}],\"barpolar\":[{\"marker\":{\"line\":{\"color\":\"#E5ECF6\",\"width\":0.5},\"pattern\":{\"fillmode\":\"overlay\",\"size\":10,\"solidity\":0.2}},\"type\":\"barpolar\"}],\"pie\":[{\"automargin\":true,\"type\":\"pie\"}]},\"layout\":{\"autotypenumbers\":\"strict\",\"colorway\":[\"#636efa\",\"#EF553B\",\"#00cc96\",\"#ab63fa\",\"#FFA15A\",\"#19d3f3\",\"#FF6692\",\"#B6E880\",\"#FF97FF\",\"#FECB52\"],\"font\":{\"color\":\"#2a3f5f\"},\"hovermode\":\"closest\",\"hoverlabel\":{\"align\":\"left\"},\"paper_bgcolor\":\"white\",\"plot_bgcolor\":\"#E5ECF6\",\"polar\":{\"bgcolor\":\"#E5ECF6\",\"angularaxis\":{\"gridcolor\":\"white\",\"linecolor\":\"white\",\"ticks\":\"\"},\"radialaxis\":{\"gridcolor\":\"white\",\"linecolor\":\"white\",\"ticks\":\"\"}},\"ternary\":{\"bgcolor\":\"#E5ECF6\",\"aaxis\":{\"gridcolor\":\"white\",\"linecolor\":\"white\",\"ticks\":\"\"},\"baxis\":{\"gridcolor\":\"white\",\"linecolor\":\"white\",\"ticks\":\"\"},\"caxis\":{\"gridcolor\":\"white\",\"linecolor\":\"white\",\"ticks\":\"\"}},\"coloraxis\":{\"colorbar\":{\"outlinewidth\":0,\"ticks\":\"\"}},\"colorscale\":{\"sequential\":[[0.0,\"#0d0887\"],[0.1111111111111111,\"#46039f\"],[0.2222222222222222,\"#7201a8\"],[0.3333333333333333,\"#9c179e\"],[0.4444444444444444,\"#bd3786\"],[0.5555555555555556,\"#d8576b\"],[0.6666666666666666,\"#ed7953\"],[0.7777777777777778,\"#fb9f3a\"],[0.8888888888888888,\"#fdca26\"],[1.0,\"#f0f921\"]],\"sequentialminus\":[[0.0,\"#0d0887\"],[0.1111111111111111,\"#46039f\"],[0.2222222222222222,\"#7201a8\"],[0.3333333333333333,\"#9c179e\"],[0.4444444444444444,\"#bd3786\"],[0.5555555555555556,\"#d8576b\"],[0.6666666666666666,\"#ed7953\"],[0.7777777777777778,\"#fb9f3a\"],[0.8888888888888888,\"#fdca26\"],[1.0,\"#f0f921\"]],\"diverging\":[[0,\"#8e0152\"],[0.1,\"#c51b7d\"],[0.2,\"#de77ae\"],[0.3,\"#f1b6da\"],[0.4,\"#fde0ef\"],[0.5,\"#f7f7f7\"],[0.6,\"#e6f5d0\"],[0.7,\"#b8e186\"],[0.8,\"#7fbc41\"],[0.9,\"#4d9221\"],[1,\"#276419\"]]},\"xaxis\":{\"gridcolor\":\"white\",\"linecolor\":\"white\",\"ticks\":\"\",\"title\":{\"standoff\":15},\"zerolinecolor\":\"white\",\"automargin\":true,\"zerolinewidth\":2},\"yaxis\":{\"gridcolor\":\"white\",\"linecolor\":\"white\",\"ticks\":\"\",\"title\":{\"standoff\":15},\"zerolinecolor\":\"white\",\"automargin\":true,\"zerolinewidth\":2},\"scene\":{\"xaxis\":{\"backgroundcolor\":\"#E5ECF6\",\"gridcolor\":\"white\",\"linecolor\":\"white\",\"showbackground\":true,\"ticks\":\"\",\"zerolinecolor\":\"white\",\"gridwidth\":2},\"yaxis\":{\"backgroundcolor\":\"#E5ECF6\",\"gridcolor\":\"white\",\"linecolor\":\"white\",\"showbackground\":true,\"ticks\":\"\",\"zerolinecolor\":\"white\",\"gridwidth\":2},\"zaxis\":{\"backgroundcolor\":\"#E5ECF6\",\"gridcolor\":\"white\",\"linecolor\":\"white\",\"showbackground\":true,\"ticks\":\"\",\"zerolinecolor\":\"white\",\"gridwidth\":2}},\"shapedefaults\":{\"line\":{\"color\":\"#2a3f5f\"}},\"annotationdefaults\":{\"arrowcolor\":\"#2a3f5f\",\"arrowhead\":0,\"arrowwidth\":1},\"geo\":{\"bgcolor\":\"white\",\"landcolor\":\"#E5ECF6\",\"subunitcolor\":\"white\",\"showland\":true,\"showlakes\":true,\"lakecolor\":\"white\"},\"title\":{\"x\":0.05},\"mapbox\":{\"style\":\"light\"}}},\"xaxis\":{\"anchor\":\"y\",\"domain\":[0.0,1.0],\"title\":{\"text\":\"agg_Date_H\"}},\"yaxis\":{\"anchor\":\"x\",\"domain\":[0.0,1.0],\"title\":{\"text\":\"transaction_value_abs\"}},\"legend\":{\"title\":{\"text\":\"isSelling\"},\"tracegroupgap\":0},\"margin\":{\"t\":60},\"barmode\":\"group\"},                        {\"responsive\": true}                    ).then(function(){\n",
       "                            \n",
       "var gd = document.getElementById('51e49160-baa4-47bb-b9cd-77ec34d6b304');\n",
       "var x = new MutationObserver(function (mutations, observer) {{\n",
       "        var display = window.getComputedStyle(gd).display;\n",
       "        if (!display || display === 'none') {{\n",
       "            console.log([gd, 'removed!']);\n",
       "            Plotly.purge(gd);\n",
       "            observer.disconnect();\n",
       "        }}\n",
       "}});\n",
       "\n",
       "// Listen for the removal of the full notebook cells\n",
       "var notebookContainer = gd.closest('#notebook-container');\n",
       "if (notebookContainer) {{\n",
       "    x.observe(notebookContainer, {childList: true});\n",
       "}}\n",
       "\n",
       "// Listen for the clearing of the current output cell\n",
       "var outputEl = gd.closest('.output');\n",
       "if (outputEl) {{\n",
       "    x.observe(outputEl, {childList: true});\n",
       "}}\n",
       "\n",
       "                        })                };                });            </script>        </div>"
      ]
     },
     "metadata": {},
     "output_type": "display_data"
    }
   ],
   "source": [
    "#### Agregación por hora:\n",
    "# \"H\" => hourly frequency\n",
    "# \"T, min\" => minutely frequency\n",
    "\n",
    "#Frequency=\"T\"\n",
    "Frequency=\"H\"\n",
    "\n",
    "df['agg_Date_'+Frequency] = df['Date'].dt.floor(Frequency)\n",
    "print(df.groupby('agg_Date_'+Frequency).sum().reset_index())\n",
    "print(df.groupby('agg_Date_'+Frequency).sum().reset_index().shape)\n",
    "print('-------------------------------------')\n",
    "\n",
    "grouped_data = df.groupby(['agg_Date_'+Frequency,\"isSelling\"])\n",
    "\n",
    "#Usar una agregación específica para cada columna:\n",
    "aggregation_dict = {'trade_id': 'mean', 'price': 'mean', 'quantity': 'mean', \n",
    "                    'time': 'min','Hour': 'min', 'transaction_value': 'sum',\n",
    "                    'outcome': 'sum',  'transaction_value_abs': 'sum'}\n",
    "aggregated_data = grouped_data.agg(aggregation_dict)\n",
    "aggregated_data = aggregated_data.reset_index()\n",
    "aggregated_data.to_csv(\"Aggregated_hour_trades.csv\",index=False)\n",
    "print('-------------------------------------')\n",
    "\n",
    "#Plotly express con transaction values para los datos agregados\n",
    "import plotly.express as px\n",
    "fig = px.bar(aggregated_data, x='agg_Date_'+Frequency, y=\"transaction_value_abs\", color=\"isSelling\",\n",
    "              barmode='group',\n",
    "              color_discrete_sequence=px.colors.qualitative.Set1\n",
    "                 #size='transaction_value_abs',  #render_mode='webgl'\n",
    "                )\n",
    "fig.show()\n"
   ]
  },
  {
   "cell_type": "code",
   "execution_count": 114,
   "id": "d584b959",
   "metadata": {
    "scrolled": true
   },
   "outputs": [
    {
     "name": "stdout",
     "output_type": "stream",
     "text": [
      "            agg_Date_H      trade_id         price    quantity          time  \\\n",
      "0  2023-03-31 00:00:00  3.905530e+13  6.289944e+07  24915.1765  5.870866e+16   \n",
      "1  2023-03-31 01:00:00  4.920845e+13  7.968052e+07  28743.7893  7.396858e+16   \n",
      "2  2023-03-31 02:00:00  3.063400e+13  4.940496e+07  11827.3276  4.604670e+16   \n",
      "3  2023-03-31 03:00:00  2.721632e+13  4.394200e+07  11463.0527  4.090864e+16   \n",
      "4  2023-03-31 04:00:00  2.664903e+13  4.297184e+07  10624.0933  4.005517e+16   \n",
      "5  2023-03-31 05:00:00  3.127664e+13  5.039513e+07  13273.9367  4.700978e+16   \n",
      "6  2023-03-31 06:00:00  2.448817e+13  3.937755e+07   9957.9000  3.680575e+16   \n",
      "7  2023-03-31 07:00:00  5.707422e+13  9.130801e+07  35617.6813  8.578002e+16   \n",
      "8  2023-03-31 08:00:00  4.227184e+13  6.778425e+07  19260.7312  6.353030e+16   \n",
      "9  2023-03-31 09:00:00  3.776972e+13  6.048573e+07  12879.4554  5.676237e+16   \n",
      "10 2023-03-31 10:00:00  2.885074e+13  4.629864e+07  12925.6571  4.335739e+16   \n",
      "11 2023-03-31 11:00:00  3.622985e+13  5.809082e+07  13313.8942  5.444554e+16   \n",
      "12 2023-03-31 12:00:00  5.464808e+13  8.809092e+07  28675.0214  8.212132e+16   \n",
      "13 2023-03-31 13:00:00  1.127476e+14  1.840449e+08  71045.1061  1.694182e+17   \n",
      "14 2023-03-31 14:00:00  9.951635e+13  1.634965e+08  59859.1701  1.495241e+17   \n",
      "15 2023-03-31 15:00:00  6.321558e+13  1.035702e+08  40884.2991  9.497594e+16   \n",
      "16 2023-03-31 16:00:00  3.664198e+13  5.987473e+07  21192.6215  5.504934e+16   \n",
      "17 2023-03-31 17:00:00  2.646830e+13  4.324886e+07  17507.4943  3.976392e+16   \n",
      "18 2023-03-31 18:00:00  2.261901e+13  3.688442e+07  12191.3227  3.398045e+16   \n",
      "19 2023-03-31 19:00:00  3.630894e+13  5.923644e+07  30053.1803  5.454560e+16   \n",
      "20 2023-03-31 20:00:00  3.907506e+13  6.368149e+07  23232.2992  5.869942e+16   \n",
      "21 2023-03-31 21:00:00  3.010744e+13  4.903684e+07  15725.2866  4.522690e+16   \n",
      "22 2023-03-31 22:00:00  2.464824e+13  4.025079e+07  11066.3308  3.702545e+16   \n",
      "23 2023-03-31 23:00:00  3.294674e+13  5.373016e+07  18290.4716  4.949003e+16   \n",
      "\n",
      "         Hour  transaction_value       outcome  transaction_value_abs  \n",
      "0         0.0      -2.242845e+06 -2.175962e+10           4.485414e+07  \n",
      "1     44023.0      -1.825833e+06 -1.983349e+11           5.203171e+07  \n",
      "2     54810.0      -2.739394e+06 -1.334003e+11           2.132083e+07  \n",
      "3     73041.0       2.279300e+05 -1.485210e+11           2.069030e+07  \n",
      "4     95356.0       4.225520e+05 -1.417789e+11           1.915055e+07  \n",
      "5    139890.0       1.554771e+06 -1.744313e+11           2.390448e+07  \n",
      "6    131430.0       2.569548e+06 -7.374429e+10           1.790079e+07  \n",
      "7    357364.0       6.938982e+06  9.377130e+10           6.367612e+07  \n",
      "8    302480.0      -1.334802e+06  1.709237e+11           3.453877e+07  \n",
      "9    304038.0      -3.693096e+06  2.806291e+10           2.306138e+07  \n",
      "10   258040.0      -1.734500e+06 -3.822794e+10           2.319669e+07  \n",
      "11   356433.0       7.664293e+05 -3.344997e+10           2.386533e+07  \n",
      "12   586488.0      -5.860189e+06 -2.303702e+11           5.171976e+07  \n",
      "13  1310764.0      -2.859383e+07 -2.288906e+12           1.297147e+08  \n",
      "14  1245832.0      -1.386011e+07 -3.920264e+12           1.100024e+08  \n",
      "15   847860.0       9.847305e+06 -2.429689e+12           7.491027e+07  \n",
      "16   524192.0      -2.386266e+06 -1.328465e+12           3.872752e+07  \n",
      "17   402305.0      -1.490234e+06 -1.014024e+12           3.199759e+07  \n",
      "18   364014.0      -2.788125e+06 -9.130367e+11           2.223492e+07  \n",
      "19   616778.0      -1.080508e+06 -1.502561e+12           5.482784e+07  \n",
      "20   698680.0       2.559550e+05 -1.655297e+12           4.234585e+07  \n",
      "21   565236.0      -2.984335e+06 -1.295386e+12           2.864537e+07  \n",
      "22   484770.0      -2.063137e+06 -1.129537e+12           2.021546e+07  \n",
      "23   677419.0       8.516077e+06 -1.428974e+12           3.336382e+07  \n",
      "(24, 9)\n",
      "-------------------------------------\n",
      "            agg_Date_H  isSelling      trade_id        price  quantity  \\\n",
      "0  2023-03-31 00:00:00      False  1.117750e+09  1800.561400  0.708270   \n",
      "1  2023-03-31 00:00:00       True  1.117750e+09  1799.713432  0.718437   \n",
      "2  2023-03-31 01:00:00      False  1.117789e+09  1810.179465  0.642992   \n",
      "3  2023-03-31 01:00:00       True  1.117790e+09  1809.747994  0.663929   \n",
      "4  2023-03-31 02:00:00      False  1.117825e+09  1802.829569  0.452818   \n",
      "5  2023-03-31 02:00:00       True  1.117825e+09  1802.704178  0.406863   \n",
      "6  2023-03-31 03:00:00      False  1.117851e+09  1804.866366  0.467985   \n",
      "7  2023-03-31 03:00:00       True  1.117851e+09  1804.778393  0.473626   \n",
      "8  2023-03-31 04:00:00      False  1.117875e+09  1802.634285  0.448667   \n",
      "9  2023-03-31 04:00:00       True  1.117875e+09  1802.539589  0.442821   \n",
      "10 2023-03-31 05:00:00      False  1.117901e+09  1801.453259  0.494667   \n",
      "11 2023-03-31 05:00:00       True  1.117901e+09  1801.069068  0.458008   \n",
      "12 2023-03-31 06:00:00      False  1.117926e+09  1797.659443  0.384412   \n",
      "13 2023-03-31 06:00:00       True  1.117926e+09  1797.642494  0.526601   \n",
      "14 2023-03-31 07:00:00      False  1.117963e+09  1788.697647  0.649140   \n",
      "15 2023-03-31 07:00:00       True  1.117962e+09  1788.375218  0.742266   \n",
      "16 2023-03-31 08:00:00      False  1.118007e+09  1792.772205  0.574064   \n",
      "17 2023-03-31 08:00:00       True  1.118007e+09  1792.749492  0.454136   \n",
      "18 2023-03-31 09:00:00      False  1.118043e+09  1790.487638  0.432910   \n",
      "19 2023-03-31 09:00:00       True  1.118043e+09  1790.455822  0.327306   \n",
      "20 2023-03-31 10:00:00      False  1.118072e+09  1794.233884  0.527295   \n",
      "21 2023-03-31 10:00:00       True  1.118073e+09  1794.252116  0.473406   \n",
      "22 2023-03-31 11:00:00      False  1.118102e+09  1792.786994  0.383371   \n",
      "23 2023-03-31 11:00:00       True  1.118101e+09  1792.732096  0.440527   \n",
      "24 2023-03-31 12:00:00      False  1.118142e+09  1802.457122  0.607615   \n",
      "25 2023-03-31 12:00:00       True  1.118143e+09  1802.352266  0.562409   \n",
      "26 2023-03-31 13:00:00      False  1.118217e+09  1825.467086  0.734157   \n",
      "27 2023-03-31 13:00:00       True  1.118217e+09  1825.149099  0.662867   \n",
      "28 2023-03-31 14:00:00      False  1.118311e+09  1837.209114  0.656813   \n",
      "29 2023-03-31 14:00:00       True  1.118314e+09  1837.393554  0.694256   \n",
      "30 2023-03-31 15:00:00      False  1.118385e+09  1832.343320  0.662808   \n",
      "31 2023-03-31 15:00:00       True  1.118384e+09  1832.302610  0.777811   \n",
      "32 2023-03-31 16:00:00      False  1.118430e+09  1827.677984  0.662035   \n",
      "33 2023-03-31 16:00:00       True  1.118429e+09  1827.446448  0.630523   \n",
      "34 2023-03-31 17:00:00      False  1.118457e+09  1827.613875  0.779326   \n",
      "35 2023-03-31 17:00:00       True  1.118458e+09  1827.477620  0.700792   \n",
      "36 2023-03-31 18:00:00      False  1.118479e+09  1823.897117  0.654401   \n",
      "37 2023-03-31 18:00:00       True  1.118480e+09  1823.871322  0.547355   \n",
      "38 2023-03-31 19:00:00      False  1.118506e+09  1824.870968  0.907463   \n",
      "39 2023-03-31 19:00:00       True  1.118506e+09  1824.708848  0.945668   \n",
      "40 2023-03-31 20:00:00      False  1.118540e+09  1822.948985  0.715102   \n",
      "41 2023-03-31 20:00:00       True  1.118539e+09  1822.874124  0.622011   \n",
      "42 2023-03-31 21:00:00      False  1.118570e+09  1821.866630  0.605416   \n",
      "43 2023-03-31 21:00:00       True  1.118571e+09  1821.824840  0.560088   \n",
      "44 2023-03-31 22:00:00      False  1.118595e+09  1826.725237  0.536373   \n",
      "45 2023-03-31 22:00:00       True  1.118595e+09  1826.622155  0.465807   \n",
      "46 2023-03-31 23:00:00      False  1.118620e+09  1824.306943  0.453927   \n",
      "47 2023-03-31 23:00:00       True  1.118621e+09  1824.227156  0.794501   \n",
      "\n",
      "            time  Hour  transaction_value       outcome  transaction_value_abs  \n",
      "0   1.680221e+12   0.0      -2.354849e+07 -1.170069e+10           2.354849e+07  \n",
      "1   1.680221e+12   0.0       2.130565e+07 -1.005893e+10           2.130565e+07  \n",
      "2   1.680224e+12   1.0      -2.692877e+07 -1.033605e+11           2.692877e+07  \n",
      "3   1.680224e+12   1.0       2.510294e+07 -9.497432e+10           2.510294e+07  \n",
      "4   1.680228e+12   2.0      -1.203011e+07 -7.159209e+10           1.203011e+07  \n",
      "5   1.680228e+12   2.0       9.290717e+06 -6.180819e+10           9.290717e+06  \n",
      "6   1.680232e+12   3.0      -1.023119e+07 -7.369760e+10           1.023119e+07  \n",
      "7   1.680232e+12   3.0       1.045912e+07 -7.482337e+10           1.045912e+07  \n",
      "8   1.680235e+12   4.0      -9.363999e+06 -6.875207e+10           9.363999e+06  \n",
      "9   1.680235e+12   4.0       9.786551e+06 -7.302685e+10           9.786551e+06  \n",
      "10  1.680239e+12   5.0      -1.117486e+07 -7.855714e+10           1.117486e+07  \n",
      "11  1.680239e+12   5.0       1.272963e+07 -9.587414e+10           1.272963e+07  \n",
      "12  1.680242e+12   6.0      -7.665619e+06 -3.731661e+10           7.665619e+06  \n",
      "13  1.680242e+12   6.0       1.023517e+07 -3.642769e+10           1.023517e+07  \n",
      "14  1.680246e+12   7.0      -2.836857e+07  4.733892e+10           2.836857e+07  \n",
      "15  1.680246e+12   7.0       3.530755e+07  4.643238e+10           3.530755e+07  \n",
      "16  1.680250e+12   8.0      -1.793678e+07  7.826108e+10           1.793678e+07  \n",
      "17  1.680250e+12   8.0       1.660198e+07  9.266261e+10           1.660198e+07  \n",
      "18  1.680253e+12   9.0      -1.337724e+07  1.460363e+10           1.337724e+07  \n",
      "19  1.680253e+12   9.0       9.684144e+06  1.345927e+10           9.684144e+06  \n",
      "20  1.680257e+12  10.0      -1.246559e+07 -1.905233e+10           1.246559e+07  \n",
      "21  1.680257e+12  10.0       1.073109e+07 -1.917561e+10           1.073109e+07  \n",
      "22  1.680260e+12  11.0      -1.154945e+07 -1.690766e+10           1.154945e+07  \n",
      "23  1.680260e+12  11.0       1.231588e+07 -1.654231e+10           1.231588e+07  \n",
      "24  1.680264e+12  12.0      -2.878997e+07 -1.237163e+11           2.878997e+07  \n",
      "25  1.680264e+12  12.0       2.292978e+07 -1.066539e+11           2.292978e+07  \n",
      "26  1.680268e+12  13.0      -7.915426e+07 -1.337625e+12           7.915426e+07  \n",
      "27  1.680268e+12  13.0       5.056044e+07 -9.512815e+11           5.056044e+07  \n",
      "28  1.680271e+12  14.0      -6.193128e+07 -2.248007e+12           6.193128e+07  \n",
      "29  1.680271e+12  14.0       4.807117e+07 -1.672257e+12           4.807117e+07  \n",
      "30  1.680275e+12  15.0      -3.253148e+07 -1.149057e+12           3.253148e+07  \n",
      "31  1.680275e+12  15.0       4.237879e+07 -1.280633e+12           4.237879e+07  \n",
      "32  1.680278e+12  16.0      -2.055689e+07 -6.892999e+11           2.055689e+07  \n",
      "33  1.680278e+12  16.0       1.817063e+07 -6.391653e+11           1.817063e+07  \n",
      "34  1.680282e+12  17.0      -1.674391e+07 -5.038281e+11           1.674391e+07  \n",
      "35  1.680282e+12  17.0       1.525368e+07 -5.101954e+11           1.525368e+07  \n",
      "36  1.680286e+12  18.0      -1.251152e+07 -4.731051e+11           1.251152e+07  \n",
      "37  1.680286e+12  18.0       9.723396e+06 -4.399316e+11           9.723396e+06  \n",
      "38  1.680289e+12  19.0      -2.795418e+07 -7.817934e+11           2.795418e+07  \n",
      "39  1.680289e+12  19.0       2.687367e+07 -7.207676e+11           2.687367e+07  \n",
      "40  1.680293e+12  20.0      -2.104495e+07 -7.654183e+11           2.104495e+07  \n",
      "41  1.680293e+12  20.0       2.130090e+07 -8.898791e+11           2.130090e+07  \n",
      "42  1.680296e+12  21.0      -1.581485e+07 -6.898125e+11           1.581485e+07  \n",
      "43  1.680296e+12  21.0       1.283052e+07 -6.055733e+11           1.283052e+07  \n",
      "44  1.680300e+12  22.0      -1.113930e+07 -5.828360e+11           1.113930e+07  \n",
      "45  1.680300e+12  22.0       9.076163e+06 -5.467008e+11           9.076163e+06  \n",
      "46  1.680304e+12  23.0      -1.242387e+07 -7.291355e+11           1.242387e+07  \n",
      "47  1.680304e+12  23.0       2.093995e+07 -6.998387e+11           2.093995e+07  \n",
      "-------------------------------------\n"
     ]
    },
    {
     "data": {
      "application/vnd.plotly.v1+json": {
       "config": {
        "plotlyServerURL": "https://plot.ly"
       },
       "data": [
        {
         "hovertemplate": "isSelling=False<br>agg_Date_H=%{x}<br>transaction_value_abs=%{marker.size}<extra></extra>",
         "legendgroup": "False",
         "marker": {
          "color": "rgb(228,26,28)",
          "size": [
           23548493.452508923,
           26928769.353460975,
           12030111.073893156,
           10231185.13951785,
           9363998.752537077,
           11174856.840938944,
           7665618.966756926,
           28368569.613044742,
           17936784.668002237,
           13377240.114166146,
           12465593.434017044,
           11549450.823193885,
           28789973.863137066,
           79154263.40736105,
           61931275.54552477,
           32531481.76107529,
           20556892.124709927,
           16743913.266758984,
           12511520.852262938,
           27954175.101765137,
           21044945.556620974,
           15814853.149337912,
           11139299.558358107,
           12423869.78006004
          ],
          "sizemode": "area",
          "sizeref": 197885.6585184026,
          "symbol": "circle"
         },
         "mode": "markers",
         "name": "False",
         "orientation": "v",
         "showlegend": true,
         "type": "scatter",
         "x": [
          "2023-03-31T00:00:00",
          "2023-03-31T01:00:00",
          "2023-03-31T02:00:00",
          "2023-03-31T03:00:00",
          "2023-03-31T04:00:00",
          "2023-03-31T05:00:00",
          "2023-03-31T06:00:00",
          "2023-03-31T07:00:00",
          "2023-03-31T08:00:00",
          "2023-03-31T09:00:00",
          "2023-03-31T10:00:00",
          "2023-03-31T11:00:00",
          "2023-03-31T12:00:00",
          "2023-03-31T13:00:00",
          "2023-03-31T14:00:00",
          "2023-03-31T15:00:00",
          "2023-03-31T16:00:00",
          "2023-03-31T17:00:00",
          "2023-03-31T18:00:00",
          "2023-03-31T19:00:00",
          "2023-03-31T20:00:00",
          "2023-03-31T21:00:00",
          "2023-03-31T22:00:00",
          "2023-03-31T23:00:00"
         ],
         "xaxis": "x",
         "y": [
          23548493.452508923,
          26928769.353460975,
          12030111.073893156,
          10231185.13951785,
          9363998.752537077,
          11174856.840938944,
          7665618.966756926,
          28368569.613044742,
          17936784.668002237,
          13377240.114166146,
          12465593.434017044,
          11549450.823193885,
          28789973.863137066,
          79154263.40736105,
          61931275.54552477,
          32531481.76107529,
          20556892.124709927,
          16743913.266758984,
          12511520.852262938,
          27954175.101765137,
          21044945.556620974,
          15814853.149337912,
          11139299.558358107,
          12423869.78006004
         ],
         "yaxis": "y"
        },
        {
         "hovertemplate": "isSelling=True<br>agg_Date_H=%{x}<br>transaction_value_abs=%{marker.size}<extra></extra>",
         "legendgroup": "True",
         "marker": {
          "color": "rgb(55,126,184)",
          "size": [
           21305647.96196099,
           25102936.34776113,
           9290717.072012903,
           10459115.120941808,
           9786550.764003016,
           12729627.938334918,
           10235166.575984964,
           35307551.42798207,
           16601982.72881107,
           9684144.43357594,
           10731093.050086023,
           12315880.117276063,
           22929784.79577082,
           50560436.17127205,
           48071166.3518389,
           42378786.4518764,
           18170625.828374974,
           15253678.766849017,
           9723395.601453032,
           26873667.347547244,
           21300900.529167835,
           12830518.032876074,
           9076162.905637003,
           20939946.73216413
          ],
          "sizemode": "area",
          "sizeref": 197885.6585184026,
          "symbol": "circle"
         },
         "mode": "markers",
         "name": "True",
         "orientation": "v",
         "showlegend": true,
         "type": "scatter",
         "x": [
          "2023-03-31T00:00:00",
          "2023-03-31T01:00:00",
          "2023-03-31T02:00:00",
          "2023-03-31T03:00:00",
          "2023-03-31T04:00:00",
          "2023-03-31T05:00:00",
          "2023-03-31T06:00:00",
          "2023-03-31T07:00:00",
          "2023-03-31T08:00:00",
          "2023-03-31T09:00:00",
          "2023-03-31T10:00:00",
          "2023-03-31T11:00:00",
          "2023-03-31T12:00:00",
          "2023-03-31T13:00:00",
          "2023-03-31T14:00:00",
          "2023-03-31T15:00:00",
          "2023-03-31T16:00:00",
          "2023-03-31T17:00:00",
          "2023-03-31T18:00:00",
          "2023-03-31T19:00:00",
          "2023-03-31T20:00:00",
          "2023-03-31T21:00:00",
          "2023-03-31T22:00:00",
          "2023-03-31T23:00:00"
         ],
         "xaxis": "x",
         "y": [
          21305647.96196099,
          25102936.34776113,
          9290717.072012903,
          10459115.120941808,
          9786550.764003016,
          12729627.938334918,
          10235166.575984964,
          35307551.42798207,
          16601982.72881107,
          9684144.43357594,
          10731093.050086023,
          12315880.117276063,
          22929784.79577082,
          50560436.17127205,
          48071166.3518389,
          42378786.4518764,
          18170625.828374974,
          15253678.766849017,
          9723395.601453032,
          26873667.347547244,
          21300900.529167835,
          12830518.032876074,
          9076162.905637003,
          20939946.73216413
         ],
         "yaxis": "y"
        }
       ],
       "layout": {
        "legend": {
         "itemsizing": "constant",
         "title": {
          "text": "isSelling"
         },
         "tracegroupgap": 0
        },
        "margin": {
         "t": 60
        },
        "template": {
         "data": {
          "bar": [
           {
            "error_x": {
             "color": "#2a3f5f"
            },
            "error_y": {
             "color": "#2a3f5f"
            },
            "marker": {
             "line": {
              "color": "#E5ECF6",
              "width": 0.5
             },
             "pattern": {
              "fillmode": "overlay",
              "size": 10,
              "solidity": 0.2
             }
            },
            "type": "bar"
           }
          ],
          "barpolar": [
           {
            "marker": {
             "line": {
              "color": "#E5ECF6",
              "width": 0.5
             },
             "pattern": {
              "fillmode": "overlay",
              "size": 10,
              "solidity": 0.2
             }
            },
            "type": "barpolar"
           }
          ],
          "carpet": [
           {
            "aaxis": {
             "endlinecolor": "#2a3f5f",
             "gridcolor": "white",
             "linecolor": "white",
             "minorgridcolor": "white",
             "startlinecolor": "#2a3f5f"
            },
            "baxis": {
             "endlinecolor": "#2a3f5f",
             "gridcolor": "white",
             "linecolor": "white",
             "minorgridcolor": "white",
             "startlinecolor": "#2a3f5f"
            },
            "type": "carpet"
           }
          ],
          "choropleth": [
           {
            "colorbar": {
             "outlinewidth": 0,
             "ticks": ""
            },
            "type": "choropleth"
           }
          ],
          "contour": [
           {
            "colorbar": {
             "outlinewidth": 0,
             "ticks": ""
            },
            "colorscale": [
             [
              0,
              "#0d0887"
             ],
             [
              0.1111111111111111,
              "#46039f"
             ],
             [
              0.2222222222222222,
              "#7201a8"
             ],
             [
              0.3333333333333333,
              "#9c179e"
             ],
             [
              0.4444444444444444,
              "#bd3786"
             ],
             [
              0.5555555555555556,
              "#d8576b"
             ],
             [
              0.6666666666666666,
              "#ed7953"
             ],
             [
              0.7777777777777778,
              "#fb9f3a"
             ],
             [
              0.8888888888888888,
              "#fdca26"
             ],
             [
              1,
              "#f0f921"
             ]
            ],
            "type": "contour"
           }
          ],
          "contourcarpet": [
           {
            "colorbar": {
             "outlinewidth": 0,
             "ticks": ""
            },
            "type": "contourcarpet"
           }
          ],
          "heatmap": [
           {
            "colorbar": {
             "outlinewidth": 0,
             "ticks": ""
            },
            "colorscale": [
             [
              0,
              "#0d0887"
             ],
             [
              0.1111111111111111,
              "#46039f"
             ],
             [
              0.2222222222222222,
              "#7201a8"
             ],
             [
              0.3333333333333333,
              "#9c179e"
             ],
             [
              0.4444444444444444,
              "#bd3786"
             ],
             [
              0.5555555555555556,
              "#d8576b"
             ],
             [
              0.6666666666666666,
              "#ed7953"
             ],
             [
              0.7777777777777778,
              "#fb9f3a"
             ],
             [
              0.8888888888888888,
              "#fdca26"
             ],
             [
              1,
              "#f0f921"
             ]
            ],
            "type": "heatmap"
           }
          ],
          "heatmapgl": [
           {
            "colorbar": {
             "outlinewidth": 0,
             "ticks": ""
            },
            "colorscale": [
             [
              0,
              "#0d0887"
             ],
             [
              0.1111111111111111,
              "#46039f"
             ],
             [
              0.2222222222222222,
              "#7201a8"
             ],
             [
              0.3333333333333333,
              "#9c179e"
             ],
             [
              0.4444444444444444,
              "#bd3786"
             ],
             [
              0.5555555555555556,
              "#d8576b"
             ],
             [
              0.6666666666666666,
              "#ed7953"
             ],
             [
              0.7777777777777778,
              "#fb9f3a"
             ],
             [
              0.8888888888888888,
              "#fdca26"
             ],
             [
              1,
              "#f0f921"
             ]
            ],
            "type": "heatmapgl"
           }
          ],
          "histogram": [
           {
            "marker": {
             "pattern": {
              "fillmode": "overlay",
              "size": 10,
              "solidity": 0.2
             }
            },
            "type": "histogram"
           }
          ],
          "histogram2d": [
           {
            "colorbar": {
             "outlinewidth": 0,
             "ticks": ""
            },
            "colorscale": [
             [
              0,
              "#0d0887"
             ],
             [
              0.1111111111111111,
              "#46039f"
             ],
             [
              0.2222222222222222,
              "#7201a8"
             ],
             [
              0.3333333333333333,
              "#9c179e"
             ],
             [
              0.4444444444444444,
              "#bd3786"
             ],
             [
              0.5555555555555556,
              "#d8576b"
             ],
             [
              0.6666666666666666,
              "#ed7953"
             ],
             [
              0.7777777777777778,
              "#fb9f3a"
             ],
             [
              0.8888888888888888,
              "#fdca26"
             ],
             [
              1,
              "#f0f921"
             ]
            ],
            "type": "histogram2d"
           }
          ],
          "histogram2dcontour": [
           {
            "colorbar": {
             "outlinewidth": 0,
             "ticks": ""
            },
            "colorscale": [
             [
              0,
              "#0d0887"
             ],
             [
              0.1111111111111111,
              "#46039f"
             ],
             [
              0.2222222222222222,
              "#7201a8"
             ],
             [
              0.3333333333333333,
              "#9c179e"
             ],
             [
              0.4444444444444444,
              "#bd3786"
             ],
             [
              0.5555555555555556,
              "#d8576b"
             ],
             [
              0.6666666666666666,
              "#ed7953"
             ],
             [
              0.7777777777777778,
              "#fb9f3a"
             ],
             [
              0.8888888888888888,
              "#fdca26"
             ],
             [
              1,
              "#f0f921"
             ]
            ],
            "type": "histogram2dcontour"
           }
          ],
          "mesh3d": [
           {
            "colorbar": {
             "outlinewidth": 0,
             "ticks": ""
            },
            "type": "mesh3d"
           }
          ],
          "parcoords": [
           {
            "line": {
             "colorbar": {
              "outlinewidth": 0,
              "ticks": ""
             }
            },
            "type": "parcoords"
           }
          ],
          "pie": [
           {
            "automargin": true,
            "type": "pie"
           }
          ],
          "scatter": [
           {
            "fillpattern": {
             "fillmode": "overlay",
             "size": 10,
             "solidity": 0.2
            },
            "type": "scatter"
           }
          ],
          "scatter3d": [
           {
            "line": {
             "colorbar": {
              "outlinewidth": 0,
              "ticks": ""
             }
            },
            "marker": {
             "colorbar": {
              "outlinewidth": 0,
              "ticks": ""
             }
            },
            "type": "scatter3d"
           }
          ],
          "scattercarpet": [
           {
            "marker": {
             "colorbar": {
              "outlinewidth": 0,
              "ticks": ""
             }
            },
            "type": "scattercarpet"
           }
          ],
          "scattergeo": [
           {
            "marker": {
             "colorbar": {
              "outlinewidth": 0,
              "ticks": ""
             }
            },
            "type": "scattergeo"
           }
          ],
          "scattergl": [
           {
            "marker": {
             "colorbar": {
              "outlinewidth": 0,
              "ticks": ""
             }
            },
            "type": "scattergl"
           }
          ],
          "scattermapbox": [
           {
            "marker": {
             "colorbar": {
              "outlinewidth": 0,
              "ticks": ""
             }
            },
            "type": "scattermapbox"
           }
          ],
          "scatterpolar": [
           {
            "marker": {
             "colorbar": {
              "outlinewidth": 0,
              "ticks": ""
             }
            },
            "type": "scatterpolar"
           }
          ],
          "scatterpolargl": [
           {
            "marker": {
             "colorbar": {
              "outlinewidth": 0,
              "ticks": ""
             }
            },
            "type": "scatterpolargl"
           }
          ],
          "scatterternary": [
           {
            "marker": {
             "colorbar": {
              "outlinewidth": 0,
              "ticks": ""
             }
            },
            "type": "scatterternary"
           }
          ],
          "surface": [
           {
            "colorbar": {
             "outlinewidth": 0,
             "ticks": ""
            },
            "colorscale": [
             [
              0,
              "#0d0887"
             ],
             [
              0.1111111111111111,
              "#46039f"
             ],
             [
              0.2222222222222222,
              "#7201a8"
             ],
             [
              0.3333333333333333,
              "#9c179e"
             ],
             [
              0.4444444444444444,
              "#bd3786"
             ],
             [
              0.5555555555555556,
              "#d8576b"
             ],
             [
              0.6666666666666666,
              "#ed7953"
             ],
             [
              0.7777777777777778,
              "#fb9f3a"
             ],
             [
              0.8888888888888888,
              "#fdca26"
             ],
             [
              1,
              "#f0f921"
             ]
            ],
            "type": "surface"
           }
          ],
          "table": [
           {
            "cells": {
             "fill": {
              "color": "#EBF0F8"
             },
             "line": {
              "color": "white"
             }
            },
            "header": {
             "fill": {
              "color": "#C8D4E3"
             },
             "line": {
              "color": "white"
             }
            },
            "type": "table"
           }
          ]
         },
         "layout": {
          "annotationdefaults": {
           "arrowcolor": "#2a3f5f",
           "arrowhead": 0,
           "arrowwidth": 1
          },
          "autotypenumbers": "strict",
          "coloraxis": {
           "colorbar": {
            "outlinewidth": 0,
            "ticks": ""
           }
          },
          "colorscale": {
           "diverging": [
            [
             0,
             "#8e0152"
            ],
            [
             0.1,
             "#c51b7d"
            ],
            [
             0.2,
             "#de77ae"
            ],
            [
             0.3,
             "#f1b6da"
            ],
            [
             0.4,
             "#fde0ef"
            ],
            [
             0.5,
             "#f7f7f7"
            ],
            [
             0.6,
             "#e6f5d0"
            ],
            [
             0.7,
             "#b8e186"
            ],
            [
             0.8,
             "#7fbc41"
            ],
            [
             0.9,
             "#4d9221"
            ],
            [
             1,
             "#276419"
            ]
           ],
           "sequential": [
            [
             0,
             "#0d0887"
            ],
            [
             0.1111111111111111,
             "#46039f"
            ],
            [
             0.2222222222222222,
             "#7201a8"
            ],
            [
             0.3333333333333333,
             "#9c179e"
            ],
            [
             0.4444444444444444,
             "#bd3786"
            ],
            [
             0.5555555555555556,
             "#d8576b"
            ],
            [
             0.6666666666666666,
             "#ed7953"
            ],
            [
             0.7777777777777778,
             "#fb9f3a"
            ],
            [
             0.8888888888888888,
             "#fdca26"
            ],
            [
             1,
             "#f0f921"
            ]
           ],
           "sequentialminus": [
            [
             0,
             "#0d0887"
            ],
            [
             0.1111111111111111,
             "#46039f"
            ],
            [
             0.2222222222222222,
             "#7201a8"
            ],
            [
             0.3333333333333333,
             "#9c179e"
            ],
            [
             0.4444444444444444,
             "#bd3786"
            ],
            [
             0.5555555555555556,
             "#d8576b"
            ],
            [
             0.6666666666666666,
             "#ed7953"
            ],
            [
             0.7777777777777778,
             "#fb9f3a"
            ],
            [
             0.8888888888888888,
             "#fdca26"
            ],
            [
             1,
             "#f0f921"
            ]
           ]
          },
          "colorway": [
           "#636efa",
           "#EF553B",
           "#00cc96",
           "#ab63fa",
           "#FFA15A",
           "#19d3f3",
           "#FF6692",
           "#B6E880",
           "#FF97FF",
           "#FECB52"
          ],
          "font": {
           "color": "#2a3f5f"
          },
          "geo": {
           "bgcolor": "white",
           "lakecolor": "white",
           "landcolor": "#E5ECF6",
           "showlakes": true,
           "showland": true,
           "subunitcolor": "white"
          },
          "hoverlabel": {
           "align": "left"
          },
          "hovermode": "closest",
          "mapbox": {
           "style": "light"
          },
          "paper_bgcolor": "white",
          "plot_bgcolor": "#E5ECF6",
          "polar": {
           "angularaxis": {
            "gridcolor": "white",
            "linecolor": "white",
            "ticks": ""
           },
           "bgcolor": "#E5ECF6",
           "radialaxis": {
            "gridcolor": "white",
            "linecolor": "white",
            "ticks": ""
           }
          },
          "scene": {
           "xaxis": {
            "backgroundcolor": "#E5ECF6",
            "gridcolor": "white",
            "gridwidth": 2,
            "linecolor": "white",
            "showbackground": true,
            "ticks": "",
            "zerolinecolor": "white"
           },
           "yaxis": {
            "backgroundcolor": "#E5ECF6",
            "gridcolor": "white",
            "gridwidth": 2,
            "linecolor": "white",
            "showbackground": true,
            "ticks": "",
            "zerolinecolor": "white"
           },
           "zaxis": {
            "backgroundcolor": "#E5ECF6",
            "gridcolor": "white",
            "gridwidth": 2,
            "linecolor": "white",
            "showbackground": true,
            "ticks": "",
            "zerolinecolor": "white"
           }
          },
          "shapedefaults": {
           "line": {
            "color": "#2a3f5f"
           }
          },
          "ternary": {
           "aaxis": {
            "gridcolor": "white",
            "linecolor": "white",
            "ticks": ""
           },
           "baxis": {
            "gridcolor": "white",
            "linecolor": "white",
            "ticks": ""
           },
           "bgcolor": "#E5ECF6",
           "caxis": {
            "gridcolor": "white",
            "linecolor": "white",
            "ticks": ""
           }
          },
          "title": {
           "x": 0.05
          },
          "xaxis": {
           "automargin": true,
           "gridcolor": "white",
           "linecolor": "white",
           "ticks": "",
           "title": {
            "standoff": 15
           },
           "zerolinecolor": "white",
           "zerolinewidth": 2
          },
          "yaxis": {
           "automargin": true,
           "gridcolor": "white",
           "linecolor": "white",
           "ticks": "",
           "title": {
            "standoff": 15
           },
           "zerolinecolor": "white",
           "zerolinewidth": 2
          }
         }
        },
        "xaxis": {
         "anchor": "y",
         "domain": [
          0,
          1
         ],
         "title": {
          "text": "agg_Date_H"
         }
        },
        "yaxis": {
         "anchor": "x",
         "domain": [
          0,
          1
         ],
         "title": {
          "text": "transaction_value_abs"
         }
        }
       }
      },
      "text/html": [
       "<div>                            <div id=\"5298da56-edd6-4618-9a51-0d3d19ef50f8\" class=\"plotly-graph-div\" style=\"height:525px; width:100%;\"></div>            <script type=\"text/javascript\">                require([\"plotly\"], function(Plotly) {                    window.PLOTLYENV=window.PLOTLYENV || {};                                    if (document.getElementById(\"5298da56-edd6-4618-9a51-0d3d19ef50f8\")) {                    Plotly.newPlot(                        \"5298da56-edd6-4618-9a51-0d3d19ef50f8\",                        [{\"hovertemplate\":\"isSelling=False<br>agg_Date_H=%{x}<br>transaction_value_abs=%{marker.size}<extra></extra>\",\"legendgroup\":\"False\",\"marker\":{\"color\":\"rgb(228,26,28)\",\"size\":[23548493.452508923,26928769.353460975,12030111.073893156,10231185.13951785,9363998.752537077,11174856.840938944,7665618.966756926,28368569.613044742,17936784.668002237,13377240.114166146,12465593.434017044,11549450.823193885,28789973.863137066,79154263.40736105,61931275.54552477,32531481.76107529,20556892.124709927,16743913.266758984,12511520.852262938,27954175.101765137,21044945.556620974,15814853.149337912,11139299.558358107,12423869.78006004],\"sizemode\":\"area\",\"sizeref\":197885.6585184026,\"symbol\":\"circle\"},\"mode\":\"markers\",\"name\":\"False\",\"orientation\":\"v\",\"showlegend\":true,\"x\":[\"2023-03-31T00:00:00\",\"2023-03-31T01:00:00\",\"2023-03-31T02:00:00\",\"2023-03-31T03:00:00\",\"2023-03-31T04:00:00\",\"2023-03-31T05:00:00\",\"2023-03-31T06:00:00\",\"2023-03-31T07:00:00\",\"2023-03-31T08:00:00\",\"2023-03-31T09:00:00\",\"2023-03-31T10:00:00\",\"2023-03-31T11:00:00\",\"2023-03-31T12:00:00\",\"2023-03-31T13:00:00\",\"2023-03-31T14:00:00\",\"2023-03-31T15:00:00\",\"2023-03-31T16:00:00\",\"2023-03-31T17:00:00\",\"2023-03-31T18:00:00\",\"2023-03-31T19:00:00\",\"2023-03-31T20:00:00\",\"2023-03-31T21:00:00\",\"2023-03-31T22:00:00\",\"2023-03-31T23:00:00\"],\"xaxis\":\"x\",\"y\":[23548493.452508923,26928769.353460975,12030111.073893156,10231185.13951785,9363998.752537077,11174856.840938944,7665618.966756926,28368569.613044742,17936784.668002237,13377240.114166146,12465593.434017044,11549450.823193885,28789973.863137066,79154263.40736105,61931275.54552477,32531481.76107529,20556892.124709927,16743913.266758984,12511520.852262938,27954175.101765137,21044945.556620974,15814853.149337912,11139299.558358107,12423869.78006004],\"yaxis\":\"y\",\"type\":\"scatter\"},{\"hovertemplate\":\"isSelling=True<br>agg_Date_H=%{x}<br>transaction_value_abs=%{marker.size}<extra></extra>\",\"legendgroup\":\"True\",\"marker\":{\"color\":\"rgb(55,126,184)\",\"size\":[21305647.96196099,25102936.34776113,9290717.072012903,10459115.120941808,9786550.764003016,12729627.938334918,10235166.575984964,35307551.42798207,16601982.72881107,9684144.43357594,10731093.050086023,12315880.117276063,22929784.79577082,50560436.17127205,48071166.3518389,42378786.4518764,18170625.828374974,15253678.766849017,9723395.601453032,26873667.347547244,21300900.529167835,12830518.032876074,9076162.905637003,20939946.73216413],\"sizemode\":\"area\",\"sizeref\":197885.6585184026,\"symbol\":\"circle\"},\"mode\":\"markers\",\"name\":\"True\",\"orientation\":\"v\",\"showlegend\":true,\"x\":[\"2023-03-31T00:00:00\",\"2023-03-31T01:00:00\",\"2023-03-31T02:00:00\",\"2023-03-31T03:00:00\",\"2023-03-31T04:00:00\",\"2023-03-31T05:00:00\",\"2023-03-31T06:00:00\",\"2023-03-31T07:00:00\",\"2023-03-31T08:00:00\",\"2023-03-31T09:00:00\",\"2023-03-31T10:00:00\",\"2023-03-31T11:00:00\",\"2023-03-31T12:00:00\",\"2023-03-31T13:00:00\",\"2023-03-31T14:00:00\",\"2023-03-31T15:00:00\",\"2023-03-31T16:00:00\",\"2023-03-31T17:00:00\",\"2023-03-31T18:00:00\",\"2023-03-31T19:00:00\",\"2023-03-31T20:00:00\",\"2023-03-31T21:00:00\",\"2023-03-31T22:00:00\",\"2023-03-31T23:00:00\"],\"xaxis\":\"x\",\"y\":[21305647.96196099,25102936.34776113,9290717.072012903,10459115.120941808,9786550.764003016,12729627.938334918,10235166.575984964,35307551.42798207,16601982.72881107,9684144.43357594,10731093.050086023,12315880.117276063,22929784.79577082,50560436.17127205,48071166.3518389,42378786.4518764,18170625.828374974,15253678.766849017,9723395.601453032,26873667.347547244,21300900.529167835,12830518.032876074,9076162.905637003,20939946.73216413],\"yaxis\":\"y\",\"type\":\"scatter\"}],                        {\"template\":{\"data\":{\"histogram2dcontour\":[{\"type\":\"histogram2dcontour\",\"colorbar\":{\"outlinewidth\":0,\"ticks\":\"\"},\"colorscale\":[[0.0,\"#0d0887\"],[0.1111111111111111,\"#46039f\"],[0.2222222222222222,\"#7201a8\"],[0.3333333333333333,\"#9c179e\"],[0.4444444444444444,\"#bd3786\"],[0.5555555555555556,\"#d8576b\"],[0.6666666666666666,\"#ed7953\"],[0.7777777777777778,\"#fb9f3a\"],[0.8888888888888888,\"#fdca26\"],[1.0,\"#f0f921\"]]}],\"choropleth\":[{\"type\":\"choropleth\",\"colorbar\":{\"outlinewidth\":0,\"ticks\":\"\"}}],\"histogram2d\":[{\"type\":\"histogram2d\",\"colorbar\":{\"outlinewidth\":0,\"ticks\":\"\"},\"colorscale\":[[0.0,\"#0d0887\"],[0.1111111111111111,\"#46039f\"],[0.2222222222222222,\"#7201a8\"],[0.3333333333333333,\"#9c179e\"],[0.4444444444444444,\"#bd3786\"],[0.5555555555555556,\"#d8576b\"],[0.6666666666666666,\"#ed7953\"],[0.7777777777777778,\"#fb9f3a\"],[0.8888888888888888,\"#fdca26\"],[1.0,\"#f0f921\"]]}],\"heatmap\":[{\"type\":\"heatmap\",\"colorbar\":{\"outlinewidth\":0,\"ticks\":\"\"},\"colorscale\":[[0.0,\"#0d0887\"],[0.1111111111111111,\"#46039f\"],[0.2222222222222222,\"#7201a8\"],[0.3333333333333333,\"#9c179e\"],[0.4444444444444444,\"#bd3786\"],[0.5555555555555556,\"#d8576b\"],[0.6666666666666666,\"#ed7953\"],[0.7777777777777778,\"#fb9f3a\"],[0.8888888888888888,\"#fdca26\"],[1.0,\"#f0f921\"]]}],\"heatmapgl\":[{\"type\":\"heatmapgl\",\"colorbar\":{\"outlinewidth\":0,\"ticks\":\"\"},\"colorscale\":[[0.0,\"#0d0887\"],[0.1111111111111111,\"#46039f\"],[0.2222222222222222,\"#7201a8\"],[0.3333333333333333,\"#9c179e\"],[0.4444444444444444,\"#bd3786\"],[0.5555555555555556,\"#d8576b\"],[0.6666666666666666,\"#ed7953\"],[0.7777777777777778,\"#fb9f3a\"],[0.8888888888888888,\"#fdca26\"],[1.0,\"#f0f921\"]]}],\"contourcarpet\":[{\"type\":\"contourcarpet\",\"colorbar\":{\"outlinewidth\":0,\"ticks\":\"\"}}],\"contour\":[{\"type\":\"contour\",\"colorbar\":{\"outlinewidth\":0,\"ticks\":\"\"},\"colorscale\":[[0.0,\"#0d0887\"],[0.1111111111111111,\"#46039f\"],[0.2222222222222222,\"#7201a8\"],[0.3333333333333333,\"#9c179e\"],[0.4444444444444444,\"#bd3786\"],[0.5555555555555556,\"#d8576b\"],[0.6666666666666666,\"#ed7953\"],[0.7777777777777778,\"#fb9f3a\"],[0.8888888888888888,\"#fdca26\"],[1.0,\"#f0f921\"]]}],\"surface\":[{\"type\":\"surface\",\"colorbar\":{\"outlinewidth\":0,\"ticks\":\"\"},\"colorscale\":[[0.0,\"#0d0887\"],[0.1111111111111111,\"#46039f\"],[0.2222222222222222,\"#7201a8\"],[0.3333333333333333,\"#9c179e\"],[0.4444444444444444,\"#bd3786\"],[0.5555555555555556,\"#d8576b\"],[0.6666666666666666,\"#ed7953\"],[0.7777777777777778,\"#fb9f3a\"],[0.8888888888888888,\"#fdca26\"],[1.0,\"#f0f921\"]]}],\"mesh3d\":[{\"type\":\"mesh3d\",\"colorbar\":{\"outlinewidth\":0,\"ticks\":\"\"}}],\"scatter\":[{\"fillpattern\":{\"fillmode\":\"overlay\",\"size\":10,\"solidity\":0.2},\"type\":\"scatter\"}],\"parcoords\":[{\"type\":\"parcoords\",\"line\":{\"colorbar\":{\"outlinewidth\":0,\"ticks\":\"\"}}}],\"scatterpolargl\":[{\"type\":\"scatterpolargl\",\"marker\":{\"colorbar\":{\"outlinewidth\":0,\"ticks\":\"\"}}}],\"bar\":[{\"error_x\":{\"color\":\"#2a3f5f\"},\"error_y\":{\"color\":\"#2a3f5f\"},\"marker\":{\"line\":{\"color\":\"#E5ECF6\",\"width\":0.5},\"pattern\":{\"fillmode\":\"overlay\",\"size\":10,\"solidity\":0.2}},\"type\":\"bar\"}],\"scattergeo\":[{\"type\":\"scattergeo\",\"marker\":{\"colorbar\":{\"outlinewidth\":0,\"ticks\":\"\"}}}],\"scatterpolar\":[{\"type\":\"scatterpolar\",\"marker\":{\"colorbar\":{\"outlinewidth\":0,\"ticks\":\"\"}}}],\"histogram\":[{\"marker\":{\"pattern\":{\"fillmode\":\"overlay\",\"size\":10,\"solidity\":0.2}},\"type\":\"histogram\"}],\"scattergl\":[{\"type\":\"scattergl\",\"marker\":{\"colorbar\":{\"outlinewidth\":0,\"ticks\":\"\"}}}],\"scatter3d\":[{\"type\":\"scatter3d\",\"line\":{\"colorbar\":{\"outlinewidth\":0,\"ticks\":\"\"}},\"marker\":{\"colorbar\":{\"outlinewidth\":0,\"ticks\":\"\"}}}],\"scattermapbox\":[{\"type\":\"scattermapbox\",\"marker\":{\"colorbar\":{\"outlinewidth\":0,\"ticks\":\"\"}}}],\"scatterternary\":[{\"type\":\"scatterternary\",\"marker\":{\"colorbar\":{\"outlinewidth\":0,\"ticks\":\"\"}}}],\"scattercarpet\":[{\"type\":\"scattercarpet\",\"marker\":{\"colorbar\":{\"outlinewidth\":0,\"ticks\":\"\"}}}],\"carpet\":[{\"aaxis\":{\"endlinecolor\":\"#2a3f5f\",\"gridcolor\":\"white\",\"linecolor\":\"white\",\"minorgridcolor\":\"white\",\"startlinecolor\":\"#2a3f5f\"},\"baxis\":{\"endlinecolor\":\"#2a3f5f\",\"gridcolor\":\"white\",\"linecolor\":\"white\",\"minorgridcolor\":\"white\",\"startlinecolor\":\"#2a3f5f\"},\"type\":\"carpet\"}],\"table\":[{\"cells\":{\"fill\":{\"color\":\"#EBF0F8\"},\"line\":{\"color\":\"white\"}},\"header\":{\"fill\":{\"color\":\"#C8D4E3\"},\"line\":{\"color\":\"white\"}},\"type\":\"table\"}],\"barpolar\":[{\"marker\":{\"line\":{\"color\":\"#E5ECF6\",\"width\":0.5},\"pattern\":{\"fillmode\":\"overlay\",\"size\":10,\"solidity\":0.2}},\"type\":\"barpolar\"}],\"pie\":[{\"automargin\":true,\"type\":\"pie\"}]},\"layout\":{\"autotypenumbers\":\"strict\",\"colorway\":[\"#636efa\",\"#EF553B\",\"#00cc96\",\"#ab63fa\",\"#FFA15A\",\"#19d3f3\",\"#FF6692\",\"#B6E880\",\"#FF97FF\",\"#FECB52\"],\"font\":{\"color\":\"#2a3f5f\"},\"hovermode\":\"closest\",\"hoverlabel\":{\"align\":\"left\"},\"paper_bgcolor\":\"white\",\"plot_bgcolor\":\"#E5ECF6\",\"polar\":{\"bgcolor\":\"#E5ECF6\",\"angularaxis\":{\"gridcolor\":\"white\",\"linecolor\":\"white\",\"ticks\":\"\"},\"radialaxis\":{\"gridcolor\":\"white\",\"linecolor\":\"white\",\"ticks\":\"\"}},\"ternary\":{\"bgcolor\":\"#E5ECF6\",\"aaxis\":{\"gridcolor\":\"white\",\"linecolor\":\"white\",\"ticks\":\"\"},\"baxis\":{\"gridcolor\":\"white\",\"linecolor\":\"white\",\"ticks\":\"\"},\"caxis\":{\"gridcolor\":\"white\",\"linecolor\":\"white\",\"ticks\":\"\"}},\"coloraxis\":{\"colorbar\":{\"outlinewidth\":0,\"ticks\":\"\"}},\"colorscale\":{\"sequential\":[[0.0,\"#0d0887\"],[0.1111111111111111,\"#46039f\"],[0.2222222222222222,\"#7201a8\"],[0.3333333333333333,\"#9c179e\"],[0.4444444444444444,\"#bd3786\"],[0.5555555555555556,\"#d8576b\"],[0.6666666666666666,\"#ed7953\"],[0.7777777777777778,\"#fb9f3a\"],[0.8888888888888888,\"#fdca26\"],[1.0,\"#f0f921\"]],\"sequentialminus\":[[0.0,\"#0d0887\"],[0.1111111111111111,\"#46039f\"],[0.2222222222222222,\"#7201a8\"],[0.3333333333333333,\"#9c179e\"],[0.4444444444444444,\"#bd3786\"],[0.5555555555555556,\"#d8576b\"],[0.6666666666666666,\"#ed7953\"],[0.7777777777777778,\"#fb9f3a\"],[0.8888888888888888,\"#fdca26\"],[1.0,\"#f0f921\"]],\"diverging\":[[0,\"#8e0152\"],[0.1,\"#c51b7d\"],[0.2,\"#de77ae\"],[0.3,\"#f1b6da\"],[0.4,\"#fde0ef\"],[0.5,\"#f7f7f7\"],[0.6,\"#e6f5d0\"],[0.7,\"#b8e186\"],[0.8,\"#7fbc41\"],[0.9,\"#4d9221\"],[1,\"#276419\"]]},\"xaxis\":{\"gridcolor\":\"white\",\"linecolor\":\"white\",\"ticks\":\"\",\"title\":{\"standoff\":15},\"zerolinecolor\":\"white\",\"automargin\":true,\"zerolinewidth\":2},\"yaxis\":{\"gridcolor\":\"white\",\"linecolor\":\"white\",\"ticks\":\"\",\"title\":{\"standoff\":15},\"zerolinecolor\":\"white\",\"automargin\":true,\"zerolinewidth\":2},\"scene\":{\"xaxis\":{\"backgroundcolor\":\"#E5ECF6\",\"gridcolor\":\"white\",\"linecolor\":\"white\",\"showbackground\":true,\"ticks\":\"\",\"zerolinecolor\":\"white\",\"gridwidth\":2},\"yaxis\":{\"backgroundcolor\":\"#E5ECF6\",\"gridcolor\":\"white\",\"linecolor\":\"white\",\"showbackground\":true,\"ticks\":\"\",\"zerolinecolor\":\"white\",\"gridwidth\":2},\"zaxis\":{\"backgroundcolor\":\"#E5ECF6\",\"gridcolor\":\"white\",\"linecolor\":\"white\",\"showbackground\":true,\"ticks\":\"\",\"zerolinecolor\":\"white\",\"gridwidth\":2}},\"shapedefaults\":{\"line\":{\"color\":\"#2a3f5f\"}},\"annotationdefaults\":{\"arrowcolor\":\"#2a3f5f\",\"arrowhead\":0,\"arrowwidth\":1},\"geo\":{\"bgcolor\":\"white\",\"landcolor\":\"#E5ECF6\",\"subunitcolor\":\"white\",\"showland\":true,\"showlakes\":true,\"lakecolor\":\"white\"},\"title\":{\"x\":0.05},\"mapbox\":{\"style\":\"light\"}}},\"xaxis\":{\"anchor\":\"y\",\"domain\":[0.0,1.0],\"title\":{\"text\":\"agg_Date_H\"}},\"yaxis\":{\"anchor\":\"x\",\"domain\":[0.0,1.0],\"title\":{\"text\":\"transaction_value_abs\"}},\"legend\":{\"title\":{\"text\":\"isSelling\"},\"tracegroupgap\":0,\"itemsizing\":\"constant\"},\"margin\":{\"t\":60}},                        {\"responsive\": true}                    ).then(function(){\n",
       "                            \n",
       "var gd = document.getElementById('5298da56-edd6-4618-9a51-0d3d19ef50f8');\n",
       "var x = new MutationObserver(function (mutations, observer) {{\n",
       "        var display = window.getComputedStyle(gd).display;\n",
       "        if (!display || display === 'none') {{\n",
       "            console.log([gd, 'removed!']);\n",
       "            Plotly.purge(gd);\n",
       "            observer.disconnect();\n",
       "        }}\n",
       "}});\n",
       "\n",
       "// Listen for the removal of the full notebook cells\n",
       "var notebookContainer = gd.closest('#notebook-container');\n",
       "if (notebookContainer) {{\n",
       "    x.observe(notebookContainer, {childList: true});\n",
       "}}\n",
       "\n",
       "// Listen for the clearing of the current output cell\n",
       "var outputEl = gd.closest('.output');\n",
       "if (outputEl) {{\n",
       "    x.observe(outputEl, {childList: true});\n",
       "}}\n",
       "\n",
       "                        })                };                });            </script>        </div>"
      ]
     },
     "metadata": {},
     "output_type": "display_data"
    }
   ],
   "source": [
    "#### Agregación por hora:\n",
    "# \"H\" => hourly frequency\n",
    "# \"T, min\" => minutely frequency\n",
    "\n",
    "#Frequency=\"T\"\n",
    "Frequency=\"H\"\n",
    "\n",
    "df['agg_Date_'+Frequency] = df['Date'].dt.floor(Frequency)\n",
    "print(df.groupby('agg_Date_'+Frequency).sum().reset_index())\n",
    "print(df.groupby('agg_Date_'+Frequency).sum().reset_index().shape)\n",
    "print('-------------------------------------')\n",
    "\n",
    "grouped_data = df.groupby(['agg_Date_'+Frequency,\"isSelling\"])\n",
    "\n",
    "#Usar una agregación específica para cada columna:\n",
    "aggregation_dict = {'trade_id': 'mean', 'price': 'mean', 'quantity': 'mean', \n",
    "                    'time': 'min','Hour': 'min', 'transaction_value': 'sum',\n",
    "                    'outcome': 'sum',  'transaction_value_abs': 'sum'}\n",
    "aggregated_data = grouped_data.agg(aggregation_dict)\n",
    "aggregated_data = aggregated_data.reset_index()\n",
    "aggregated_data.to_csv(\"Aggregated_\"+Frequency+\"_trades.csv\",index=False)\n",
    "print('-------------------------------------')\n",
    "\n",
    "import plotly.express as px\n",
    "fig = px.scatter(aggregated_data, x='agg_Date_'+Frequency, y=\"transaction_value_abs\", \n",
    "                 color=\"isSelling\",\n",
    "              #barmode='group'\n",
    "                 size='transaction_value_abs',  #render_mode='webgl'\n",
    "                 #color_discrete_map= {'True': 'blue',\n",
    "                 #                     'False': 'red'\n",
    "                 #                    }\n",
    "                 color_discrete_sequence=px.colors.qualitative.Set1\n",
    "                )\n",
    "fig.show()"
   ]
  },
  {
   "cell_type": "code",
   "execution_count": 116,
   "id": "fb7933b4",
   "metadata": {
    "scrolled": true
   },
   "outputs": [
    {
     "name": "stdout",
     "output_type": "stream",
     "text": [
      "            agg_Date_H      trade_id         price    quantity          time  \\\n",
      "0  2023-03-31 00:00:00  3.905530e+13  6.289944e+07  24915.1765  5.870866e+16   \n",
      "1  2023-03-31 01:00:00  4.920845e+13  7.968052e+07  28743.7893  7.396858e+16   \n",
      "2  2023-03-31 02:00:00  3.063400e+13  4.940496e+07  11827.3276  4.604670e+16   \n",
      "3  2023-03-31 03:00:00  2.721632e+13  4.394200e+07  11463.0527  4.090864e+16   \n",
      "4  2023-03-31 04:00:00  2.664903e+13  4.297184e+07  10624.0933  4.005517e+16   \n",
      "5  2023-03-31 05:00:00  3.127664e+13  5.039513e+07  13273.9367  4.700978e+16   \n",
      "6  2023-03-31 06:00:00  2.448817e+13  3.937755e+07   9957.9000  3.680575e+16   \n",
      "7  2023-03-31 07:00:00  5.707422e+13  9.130801e+07  35617.6813  8.578002e+16   \n",
      "8  2023-03-31 08:00:00  4.227184e+13  6.778425e+07  19260.7312  6.353030e+16   \n",
      "9  2023-03-31 09:00:00  3.776972e+13  6.048573e+07  12879.4554  5.676237e+16   \n",
      "10 2023-03-31 10:00:00  2.885074e+13  4.629864e+07  12925.6571  4.335739e+16   \n",
      "11 2023-03-31 11:00:00  3.622985e+13  5.809082e+07  13313.8942  5.444554e+16   \n",
      "12 2023-03-31 12:00:00  5.464808e+13  8.809092e+07  28675.0214  8.212132e+16   \n",
      "13 2023-03-31 13:00:00  1.127476e+14  1.840449e+08  71045.1061  1.694182e+17   \n",
      "14 2023-03-31 14:00:00  9.951635e+13  1.634965e+08  59859.1701  1.495241e+17   \n",
      "15 2023-03-31 15:00:00  6.321558e+13  1.035702e+08  40884.2991  9.497594e+16   \n",
      "16 2023-03-31 16:00:00  3.664198e+13  5.987473e+07  21192.6215  5.504934e+16   \n",
      "17 2023-03-31 17:00:00  2.646830e+13  4.324886e+07  17507.4943  3.976392e+16   \n",
      "18 2023-03-31 18:00:00  2.261901e+13  3.688442e+07  12191.3227  3.398045e+16   \n",
      "19 2023-03-31 19:00:00  3.630894e+13  5.923644e+07  30053.1803  5.454560e+16   \n",
      "20 2023-03-31 20:00:00  3.907506e+13  6.368149e+07  23232.2992  5.869942e+16   \n",
      "21 2023-03-31 21:00:00  3.010744e+13  4.903684e+07  15725.2866  4.522690e+16   \n",
      "22 2023-03-31 22:00:00  2.464824e+13  4.025079e+07  11066.3308  3.702545e+16   \n",
      "23 2023-03-31 23:00:00  3.294674e+13  5.373016e+07  18290.4716  4.949003e+16   \n",
      "\n",
      "         Hour  transaction_value       outcome  transaction_value_abs  \n",
      "0         0.0      -2.242845e+06 -2.175962e+10           4.485414e+07  \n",
      "1     44023.0      -1.825833e+06 -1.983349e+11           5.203171e+07  \n",
      "2     54810.0      -2.739394e+06 -1.334003e+11           2.132083e+07  \n",
      "3     73041.0       2.279300e+05 -1.485210e+11           2.069030e+07  \n",
      "4     95356.0       4.225520e+05 -1.417789e+11           1.915055e+07  \n",
      "5    139890.0       1.554771e+06 -1.744313e+11           2.390448e+07  \n",
      "6    131430.0       2.569548e+06 -7.374429e+10           1.790079e+07  \n",
      "7    357364.0       6.938982e+06  9.377130e+10           6.367612e+07  \n",
      "8    302480.0      -1.334802e+06  1.709237e+11           3.453877e+07  \n",
      "9    304038.0      -3.693096e+06  2.806291e+10           2.306138e+07  \n",
      "10   258040.0      -1.734500e+06 -3.822794e+10           2.319669e+07  \n",
      "11   356433.0       7.664293e+05 -3.344997e+10           2.386533e+07  \n",
      "12   586488.0      -5.860189e+06 -2.303702e+11           5.171976e+07  \n",
      "13  1310764.0      -2.859383e+07 -2.288906e+12           1.297147e+08  \n",
      "14  1245832.0      -1.386011e+07 -3.920264e+12           1.100024e+08  \n",
      "15   847860.0       9.847305e+06 -2.429689e+12           7.491027e+07  \n",
      "16   524192.0      -2.386266e+06 -1.328465e+12           3.872752e+07  \n",
      "17   402305.0      -1.490234e+06 -1.014024e+12           3.199759e+07  \n",
      "18   364014.0      -2.788125e+06 -9.130367e+11           2.223492e+07  \n",
      "19   616778.0      -1.080508e+06 -1.502561e+12           5.482784e+07  \n",
      "20   698680.0       2.559550e+05 -1.655297e+12           4.234585e+07  \n",
      "21   565236.0      -2.984335e+06 -1.295386e+12           2.864537e+07  \n",
      "22   484770.0      -2.063137e+06 -1.129537e+12           2.021546e+07  \n",
      "23   677419.0       8.516077e+06 -1.428974e+12           3.336382e+07  \n",
      "(24, 9)\n",
      "-------------------------------------\n",
      "            agg_Date_H      trade_id        price  quantity          time  \\\n",
      "0  2023-03-31 00:00:00  1.117750e+09  1800.161551  0.713064  1.680221e+12   \n",
      "1  2023-03-31 01:00:00  1.117789e+09  1809.974721  0.652927  1.680224e+12   \n",
      "2  2023-03-31 02:00:00  1.117825e+09  1802.771607  0.431576  1.680228e+12   \n",
      "3  2023-03-31 03:00:00  1.117851e+09  1804.822154  0.470820  1.680232e+12   \n",
      "4  2023-03-31 04:00:00  1.117875e+09  1802.585580  0.445660  1.680235e+12   \n",
      "5  2023-03-31 05:00:00  1.117901e+09  1801.241294  0.474442  1.680239e+12   \n",
      "6  2023-03-31 06:00:00  1.117926e+09  1797.651077  0.454595  1.680242e+12   \n",
      "7  2023-03-31 07:00:00  1.117962e+09  1788.529605  0.697675  1.680246e+12   \n",
      "8  2023-03-31 08:00:00  1.118007e+09  1792.759960  0.509408  1.680250e+12   \n",
      "9  2023-03-31 09:00:00  1.118043e+09  1790.472075  0.381252  1.680253e+12   \n",
      "10 2023-03-31 10:00:00  1.118072e+09  1794.242809  0.500917  1.680257e+12   \n",
      "11 2023-03-31 11:00:00  1.118102e+09  1792.760568  0.410885  1.680260e+12   \n",
      "12 2023-03-31 12:00:00  1.118142e+09  1802.408640  0.586713  1.680264e+12   \n",
      "13 2023-03-31 13:00:00  1.118217e+09  1825.335322  0.704617  1.680268e+12   \n",
      "14 2023-03-31 14:00:00  1.118312e+09  1837.287203  0.672666  1.680271e+12   \n",
      "15 2023-03-31 15:00:00  1.118385e+09  1832.321903  0.723309  1.680275e+12   \n",
      "16 2023-03-31 16:00:00  1.118429e+09  1827.566527  0.646866  1.680278e+12   \n",
      "17 2023-03-31 17:00:00  1.118458e+09  1827.545307  0.739805  1.680282e+12   \n",
      "18 2023-03-31 18:00:00  1.118480e+09  1823.884694  0.602844  1.680286e+12   \n",
      "19 2023-03-31 19:00:00  1.118506e+09  1824.793174  0.925796  1.680289e+12   \n",
      "20 2023-03-31 20:00:00  1.118540e+09  1822.908722  0.665034  1.680293e+12   \n",
      "21 2023-03-31 21:00:00  1.118571e+09  1821.847103  0.584236  1.680296e+12   \n",
      "22 2023-03-31 22:00:00  1.118595e+09  1826.675340  0.502216  1.680300e+12   \n",
      "23 2023-03-31 23:00:00  1.118621e+09  1824.267801  0.621005  1.680304e+12   \n",
      "\n",
      "    Hour  transaction_value       outcome  transaction_value_abs  \n",
      "0    0.0      -2.242845e+06 -2.242845e+06           4.485414e+07  \n",
      "1    1.0      -1.825833e+06 -4.068678e+06           5.203171e+07  \n",
      "2    2.0      -2.739394e+06 -6.808072e+06           2.132083e+07  \n",
      "3    3.0       2.279300e+05 -6.580143e+06           2.069030e+07  \n",
      "4    4.0       4.225520e+05 -6.157591e+06           1.915055e+07  \n",
      "5    5.0       1.554771e+06 -4.602819e+06           2.390448e+07  \n",
      "6    6.0       2.569548e+06 -2.033272e+06           1.790079e+07  \n",
      "7    7.0       6.938982e+06  4.905710e+06           6.367612e+07  \n",
      "8    8.0      -1.334802e+06  3.570908e+06           3.453877e+07  \n",
      "9    9.0      -3.693096e+06 -1.221876e+05           2.306138e+07  \n",
      "10  10.0      -1.734500e+06 -1.856688e+06           2.319669e+07  \n",
      "11  11.0       7.664293e+05 -1.090259e+06           2.386533e+07  \n",
      "12  12.0      -5.860189e+06 -6.950448e+06           5.171976e+07  \n",
      "13  13.0      -2.859383e+07 -3.554427e+07           1.297147e+08  \n",
      "14  14.0      -1.386011e+07 -4.940438e+07           1.100024e+08  \n",
      "15  15.0       9.847305e+06 -3.955708e+07           7.491027e+07  \n",
      "16  16.0      -2.386266e+06 -4.194335e+07           3.872752e+07  \n",
      "17  17.0      -1.490234e+06 -4.343358e+07           3.199759e+07  \n",
      "18  18.0      -2.788125e+06 -4.622171e+07           2.223492e+07  \n",
      "19  19.0      -1.080508e+06 -4.730221e+07           5.482784e+07  \n",
      "20  20.0       2.559550e+05 -4.704626e+07           4.234585e+07  \n",
      "21  21.0      -2.984335e+06 -5.003059e+07           2.864537e+07  \n",
      "22  22.0      -2.063137e+06 -5.209373e+07           2.021546e+07  \n",
      "23  23.0       8.516077e+06 -4.357765e+07           3.336382e+07  \n",
      "-------------------------------------\n"
     ]
    },
    {
     "data": {
      "application/vnd.plotly.v1+json": {
       "config": {
        "plotlyServerURL": "https://plot.ly"
       },
       "data": [
        {
         "alignmentgroup": "True",
         "hovertemplate": "Outcome Balance=Negative<br>agg_Date_H=%{x}<br>outcome=%{y}<extra></extra>",
         "legendgroup": "Negative",
         "marker": {
          "color": "rgb(228,26,28)",
          "pattern": {
           "shape": ""
          }
         },
         "name": "Negative",
         "offsetgroup": "Negative",
         "orientation": "v",
         "showlegend": true,
         "textposition": "auto",
         "type": "bar",
         "x": [
          "2023-03-31T00:00:00",
          "2023-03-31T01:00:00",
          "2023-03-31T02:00:00",
          "2023-03-31T03:00:00",
          "2023-03-31T04:00:00",
          "2023-03-31T05:00:00",
          "2023-03-31T06:00:00",
          "2023-03-31T09:00:00",
          "2023-03-31T10:00:00",
          "2023-03-31T11:00:00",
          "2023-03-31T12:00:00",
          "2023-03-31T13:00:00",
          "2023-03-31T14:00:00",
          "2023-03-31T15:00:00",
          "2023-03-31T16:00:00",
          "2023-03-31T17:00:00",
          "2023-03-31T18:00:00",
          "2023-03-31T19:00:00",
          "2023-03-31T20:00:00",
          "2023-03-31T21:00:00",
          "2023-03-31T22:00:00",
          "2023-03-31T23:00:00"
         ],
         "xaxis": "x",
         "y": [
          -2242845.490548,
          -4068678.496247942,
          -6808072.498128193,
          -6580142.516704288,
          -6157590.505238117,
          -4602819.407842181,
          -2033271.7986141536,
          -122187.60345823807,
          -1856687.9873892574,
          -1090258.693307233,
          -6950447.760673235,
          -35544274.99676393,
          -49404384.19045017,
          -39557079.49964787,
          -41943345.79598246,
          -43433580.29589221,
          -46221705.54670252,
          -47302213.30092132,
          -47046258.32837419,
          -50030593.44483641,
          -52093730.09755735,
          -43577653.14545293
         ],
         "yaxis": "y"
        },
        {
         "alignmentgroup": "True",
         "hovertemplate": "Outcome Balance=Positive<br>agg_Date_H=%{x}<br>outcome=%{y}<extra></extra>",
         "legendgroup": "Positive",
         "marker": {
          "color": "rgb(55,126,184)",
          "pattern": {
           "shape": ""
          }
         },
         "name": "Positive",
         "offsetgroup": "Positive",
         "orientation": "v",
         "showlegend": true,
         "textposition": "auto",
         "type": "bar",
         "x": [
          "2023-03-31T07:00:00",
          "2023-03-31T08:00:00"
         ],
         "xaxis": "x",
         "y": [
          4905710.016322823,
          3570908.0771317696
         ],
         "yaxis": "y"
        }
       ],
       "layout": {
        "barmode": "relative",
        "legend": {
         "title": {
          "text": "Outcome Balance"
         },
         "tracegroupgap": 0
        },
        "margin": {
         "t": 60
        },
        "template": {
         "data": {
          "bar": [
           {
            "error_x": {
             "color": "#2a3f5f"
            },
            "error_y": {
             "color": "#2a3f5f"
            },
            "marker": {
             "line": {
              "color": "#E5ECF6",
              "width": 0.5
             },
             "pattern": {
              "fillmode": "overlay",
              "size": 10,
              "solidity": 0.2
             }
            },
            "type": "bar"
           }
          ],
          "barpolar": [
           {
            "marker": {
             "line": {
              "color": "#E5ECF6",
              "width": 0.5
             },
             "pattern": {
              "fillmode": "overlay",
              "size": 10,
              "solidity": 0.2
             }
            },
            "type": "barpolar"
           }
          ],
          "carpet": [
           {
            "aaxis": {
             "endlinecolor": "#2a3f5f",
             "gridcolor": "white",
             "linecolor": "white",
             "minorgridcolor": "white",
             "startlinecolor": "#2a3f5f"
            },
            "baxis": {
             "endlinecolor": "#2a3f5f",
             "gridcolor": "white",
             "linecolor": "white",
             "minorgridcolor": "white",
             "startlinecolor": "#2a3f5f"
            },
            "type": "carpet"
           }
          ],
          "choropleth": [
           {
            "colorbar": {
             "outlinewidth": 0,
             "ticks": ""
            },
            "type": "choropleth"
           }
          ],
          "contour": [
           {
            "colorbar": {
             "outlinewidth": 0,
             "ticks": ""
            },
            "colorscale": [
             [
              0,
              "#0d0887"
             ],
             [
              0.1111111111111111,
              "#46039f"
             ],
             [
              0.2222222222222222,
              "#7201a8"
             ],
             [
              0.3333333333333333,
              "#9c179e"
             ],
             [
              0.4444444444444444,
              "#bd3786"
             ],
             [
              0.5555555555555556,
              "#d8576b"
             ],
             [
              0.6666666666666666,
              "#ed7953"
             ],
             [
              0.7777777777777778,
              "#fb9f3a"
             ],
             [
              0.8888888888888888,
              "#fdca26"
             ],
             [
              1,
              "#f0f921"
             ]
            ],
            "type": "contour"
           }
          ],
          "contourcarpet": [
           {
            "colorbar": {
             "outlinewidth": 0,
             "ticks": ""
            },
            "type": "contourcarpet"
           }
          ],
          "heatmap": [
           {
            "colorbar": {
             "outlinewidth": 0,
             "ticks": ""
            },
            "colorscale": [
             [
              0,
              "#0d0887"
             ],
             [
              0.1111111111111111,
              "#46039f"
             ],
             [
              0.2222222222222222,
              "#7201a8"
             ],
             [
              0.3333333333333333,
              "#9c179e"
             ],
             [
              0.4444444444444444,
              "#bd3786"
             ],
             [
              0.5555555555555556,
              "#d8576b"
             ],
             [
              0.6666666666666666,
              "#ed7953"
             ],
             [
              0.7777777777777778,
              "#fb9f3a"
             ],
             [
              0.8888888888888888,
              "#fdca26"
             ],
             [
              1,
              "#f0f921"
             ]
            ],
            "type": "heatmap"
           }
          ],
          "heatmapgl": [
           {
            "colorbar": {
             "outlinewidth": 0,
             "ticks": ""
            },
            "colorscale": [
             [
              0,
              "#0d0887"
             ],
             [
              0.1111111111111111,
              "#46039f"
             ],
             [
              0.2222222222222222,
              "#7201a8"
             ],
             [
              0.3333333333333333,
              "#9c179e"
             ],
             [
              0.4444444444444444,
              "#bd3786"
             ],
             [
              0.5555555555555556,
              "#d8576b"
             ],
             [
              0.6666666666666666,
              "#ed7953"
             ],
             [
              0.7777777777777778,
              "#fb9f3a"
             ],
             [
              0.8888888888888888,
              "#fdca26"
             ],
             [
              1,
              "#f0f921"
             ]
            ],
            "type": "heatmapgl"
           }
          ],
          "histogram": [
           {
            "marker": {
             "pattern": {
              "fillmode": "overlay",
              "size": 10,
              "solidity": 0.2
             }
            },
            "type": "histogram"
           }
          ],
          "histogram2d": [
           {
            "colorbar": {
             "outlinewidth": 0,
             "ticks": ""
            },
            "colorscale": [
             [
              0,
              "#0d0887"
             ],
             [
              0.1111111111111111,
              "#46039f"
             ],
             [
              0.2222222222222222,
              "#7201a8"
             ],
             [
              0.3333333333333333,
              "#9c179e"
             ],
             [
              0.4444444444444444,
              "#bd3786"
             ],
             [
              0.5555555555555556,
              "#d8576b"
             ],
             [
              0.6666666666666666,
              "#ed7953"
             ],
             [
              0.7777777777777778,
              "#fb9f3a"
             ],
             [
              0.8888888888888888,
              "#fdca26"
             ],
             [
              1,
              "#f0f921"
             ]
            ],
            "type": "histogram2d"
           }
          ],
          "histogram2dcontour": [
           {
            "colorbar": {
             "outlinewidth": 0,
             "ticks": ""
            },
            "colorscale": [
             [
              0,
              "#0d0887"
             ],
             [
              0.1111111111111111,
              "#46039f"
             ],
             [
              0.2222222222222222,
              "#7201a8"
             ],
             [
              0.3333333333333333,
              "#9c179e"
             ],
             [
              0.4444444444444444,
              "#bd3786"
             ],
             [
              0.5555555555555556,
              "#d8576b"
             ],
             [
              0.6666666666666666,
              "#ed7953"
             ],
             [
              0.7777777777777778,
              "#fb9f3a"
             ],
             [
              0.8888888888888888,
              "#fdca26"
             ],
             [
              1,
              "#f0f921"
             ]
            ],
            "type": "histogram2dcontour"
           }
          ],
          "mesh3d": [
           {
            "colorbar": {
             "outlinewidth": 0,
             "ticks": ""
            },
            "type": "mesh3d"
           }
          ],
          "parcoords": [
           {
            "line": {
             "colorbar": {
              "outlinewidth": 0,
              "ticks": ""
             }
            },
            "type": "parcoords"
           }
          ],
          "pie": [
           {
            "automargin": true,
            "type": "pie"
           }
          ],
          "scatter": [
           {
            "fillpattern": {
             "fillmode": "overlay",
             "size": 10,
             "solidity": 0.2
            },
            "type": "scatter"
           }
          ],
          "scatter3d": [
           {
            "line": {
             "colorbar": {
              "outlinewidth": 0,
              "ticks": ""
             }
            },
            "marker": {
             "colorbar": {
              "outlinewidth": 0,
              "ticks": ""
             }
            },
            "type": "scatter3d"
           }
          ],
          "scattercarpet": [
           {
            "marker": {
             "colorbar": {
              "outlinewidth": 0,
              "ticks": ""
             }
            },
            "type": "scattercarpet"
           }
          ],
          "scattergeo": [
           {
            "marker": {
             "colorbar": {
              "outlinewidth": 0,
              "ticks": ""
             }
            },
            "type": "scattergeo"
           }
          ],
          "scattergl": [
           {
            "marker": {
             "colorbar": {
              "outlinewidth": 0,
              "ticks": ""
             }
            },
            "type": "scattergl"
           }
          ],
          "scattermapbox": [
           {
            "marker": {
             "colorbar": {
              "outlinewidth": 0,
              "ticks": ""
             }
            },
            "type": "scattermapbox"
           }
          ],
          "scatterpolar": [
           {
            "marker": {
             "colorbar": {
              "outlinewidth": 0,
              "ticks": ""
             }
            },
            "type": "scatterpolar"
           }
          ],
          "scatterpolargl": [
           {
            "marker": {
             "colorbar": {
              "outlinewidth": 0,
              "ticks": ""
             }
            },
            "type": "scatterpolargl"
           }
          ],
          "scatterternary": [
           {
            "marker": {
             "colorbar": {
              "outlinewidth": 0,
              "ticks": ""
             }
            },
            "type": "scatterternary"
           }
          ],
          "surface": [
           {
            "colorbar": {
             "outlinewidth": 0,
             "ticks": ""
            },
            "colorscale": [
             [
              0,
              "#0d0887"
             ],
             [
              0.1111111111111111,
              "#46039f"
             ],
             [
              0.2222222222222222,
              "#7201a8"
             ],
             [
              0.3333333333333333,
              "#9c179e"
             ],
             [
              0.4444444444444444,
              "#bd3786"
             ],
             [
              0.5555555555555556,
              "#d8576b"
             ],
             [
              0.6666666666666666,
              "#ed7953"
             ],
             [
              0.7777777777777778,
              "#fb9f3a"
             ],
             [
              0.8888888888888888,
              "#fdca26"
             ],
             [
              1,
              "#f0f921"
             ]
            ],
            "type": "surface"
           }
          ],
          "table": [
           {
            "cells": {
             "fill": {
              "color": "#EBF0F8"
             },
             "line": {
              "color": "white"
             }
            },
            "header": {
             "fill": {
              "color": "#C8D4E3"
             },
             "line": {
              "color": "white"
             }
            },
            "type": "table"
           }
          ]
         },
         "layout": {
          "annotationdefaults": {
           "arrowcolor": "#2a3f5f",
           "arrowhead": 0,
           "arrowwidth": 1
          },
          "autotypenumbers": "strict",
          "coloraxis": {
           "colorbar": {
            "outlinewidth": 0,
            "ticks": ""
           }
          },
          "colorscale": {
           "diverging": [
            [
             0,
             "#8e0152"
            ],
            [
             0.1,
             "#c51b7d"
            ],
            [
             0.2,
             "#de77ae"
            ],
            [
             0.3,
             "#f1b6da"
            ],
            [
             0.4,
             "#fde0ef"
            ],
            [
             0.5,
             "#f7f7f7"
            ],
            [
             0.6,
             "#e6f5d0"
            ],
            [
             0.7,
             "#b8e186"
            ],
            [
             0.8,
             "#7fbc41"
            ],
            [
             0.9,
             "#4d9221"
            ],
            [
             1,
             "#276419"
            ]
           ],
           "sequential": [
            [
             0,
             "#0d0887"
            ],
            [
             0.1111111111111111,
             "#46039f"
            ],
            [
             0.2222222222222222,
             "#7201a8"
            ],
            [
             0.3333333333333333,
             "#9c179e"
            ],
            [
             0.4444444444444444,
             "#bd3786"
            ],
            [
             0.5555555555555556,
             "#d8576b"
            ],
            [
             0.6666666666666666,
             "#ed7953"
            ],
            [
             0.7777777777777778,
             "#fb9f3a"
            ],
            [
             0.8888888888888888,
             "#fdca26"
            ],
            [
             1,
             "#f0f921"
            ]
           ],
           "sequentialminus": [
            [
             0,
             "#0d0887"
            ],
            [
             0.1111111111111111,
             "#46039f"
            ],
            [
             0.2222222222222222,
             "#7201a8"
            ],
            [
             0.3333333333333333,
             "#9c179e"
            ],
            [
             0.4444444444444444,
             "#bd3786"
            ],
            [
             0.5555555555555556,
             "#d8576b"
            ],
            [
             0.6666666666666666,
             "#ed7953"
            ],
            [
             0.7777777777777778,
             "#fb9f3a"
            ],
            [
             0.8888888888888888,
             "#fdca26"
            ],
            [
             1,
             "#f0f921"
            ]
           ]
          },
          "colorway": [
           "#636efa",
           "#EF553B",
           "#00cc96",
           "#ab63fa",
           "#FFA15A",
           "#19d3f3",
           "#FF6692",
           "#B6E880",
           "#FF97FF",
           "#FECB52"
          ],
          "font": {
           "color": "#2a3f5f"
          },
          "geo": {
           "bgcolor": "white",
           "lakecolor": "white",
           "landcolor": "#E5ECF6",
           "showlakes": true,
           "showland": true,
           "subunitcolor": "white"
          },
          "hoverlabel": {
           "align": "left"
          },
          "hovermode": "closest",
          "mapbox": {
           "style": "light"
          },
          "paper_bgcolor": "white",
          "plot_bgcolor": "#E5ECF6",
          "polar": {
           "angularaxis": {
            "gridcolor": "white",
            "linecolor": "white",
            "ticks": ""
           },
           "bgcolor": "#E5ECF6",
           "radialaxis": {
            "gridcolor": "white",
            "linecolor": "white",
            "ticks": ""
           }
          },
          "scene": {
           "xaxis": {
            "backgroundcolor": "#E5ECF6",
            "gridcolor": "white",
            "gridwidth": 2,
            "linecolor": "white",
            "showbackground": true,
            "ticks": "",
            "zerolinecolor": "white"
           },
           "yaxis": {
            "backgroundcolor": "#E5ECF6",
            "gridcolor": "white",
            "gridwidth": 2,
            "linecolor": "white",
            "showbackground": true,
            "ticks": "",
            "zerolinecolor": "white"
           },
           "zaxis": {
            "backgroundcolor": "#E5ECF6",
            "gridcolor": "white",
            "gridwidth": 2,
            "linecolor": "white",
            "showbackground": true,
            "ticks": "",
            "zerolinecolor": "white"
           }
          },
          "shapedefaults": {
           "line": {
            "color": "#2a3f5f"
           }
          },
          "ternary": {
           "aaxis": {
            "gridcolor": "white",
            "linecolor": "white",
            "ticks": ""
           },
           "baxis": {
            "gridcolor": "white",
            "linecolor": "white",
            "ticks": ""
           },
           "bgcolor": "#E5ECF6",
           "caxis": {
            "gridcolor": "white",
            "linecolor": "white",
            "ticks": ""
           }
          },
          "title": {
           "x": 0.05
          },
          "xaxis": {
           "automargin": true,
           "gridcolor": "white",
           "linecolor": "white",
           "ticks": "",
           "title": {
            "standoff": 15
           },
           "zerolinecolor": "white",
           "zerolinewidth": 2
          },
          "yaxis": {
           "automargin": true,
           "gridcolor": "white",
           "linecolor": "white",
           "ticks": "",
           "title": {
            "standoff": 15
           },
           "zerolinecolor": "white",
           "zerolinewidth": 2
          }
         }
        },
        "xaxis": {
         "anchor": "y",
         "domain": [
          0,
          1
         ],
         "title": {
          "text": "agg_Date_H"
         }
        },
        "yaxis": {
         "anchor": "x",
         "domain": [
          0,
          1
         ],
         "title": {
          "text": "outcome"
         }
        }
       }
      },
      "text/html": [
       "<div>                            <div id=\"4264b413-d3a6-434d-8d71-700c1507efd8\" class=\"plotly-graph-div\" style=\"height:525px; width:100%;\"></div>            <script type=\"text/javascript\">                require([\"plotly\"], function(Plotly) {                    window.PLOTLYENV=window.PLOTLYENV || {};                                    if (document.getElementById(\"4264b413-d3a6-434d-8d71-700c1507efd8\")) {                    Plotly.newPlot(                        \"4264b413-d3a6-434d-8d71-700c1507efd8\",                        [{\"alignmentgroup\":\"True\",\"hovertemplate\":\"Outcome Balance=Negative<br>agg_Date_H=%{x}<br>outcome=%{y}<extra></extra>\",\"legendgroup\":\"Negative\",\"marker\":{\"color\":\"rgb(228,26,28)\",\"pattern\":{\"shape\":\"\"}},\"name\":\"Negative\",\"offsetgroup\":\"Negative\",\"orientation\":\"v\",\"showlegend\":true,\"textposition\":\"auto\",\"x\":[\"2023-03-31T00:00:00\",\"2023-03-31T01:00:00\",\"2023-03-31T02:00:00\",\"2023-03-31T03:00:00\",\"2023-03-31T04:00:00\",\"2023-03-31T05:00:00\",\"2023-03-31T06:00:00\",\"2023-03-31T09:00:00\",\"2023-03-31T10:00:00\",\"2023-03-31T11:00:00\",\"2023-03-31T12:00:00\",\"2023-03-31T13:00:00\",\"2023-03-31T14:00:00\",\"2023-03-31T15:00:00\",\"2023-03-31T16:00:00\",\"2023-03-31T17:00:00\",\"2023-03-31T18:00:00\",\"2023-03-31T19:00:00\",\"2023-03-31T20:00:00\",\"2023-03-31T21:00:00\",\"2023-03-31T22:00:00\",\"2023-03-31T23:00:00\"],\"xaxis\":\"x\",\"y\":[-2242845.490548,-4068678.496247942,-6808072.498128193,-6580142.516704288,-6157590.505238117,-4602819.407842181,-2033271.7986141536,-122187.60345823807,-1856687.9873892574,-1090258.693307233,-6950447.760673235,-35544274.99676393,-49404384.19045017,-39557079.49964787,-41943345.79598246,-43433580.29589221,-46221705.54670252,-47302213.30092132,-47046258.32837419,-50030593.44483641,-52093730.09755735,-43577653.14545293],\"yaxis\":\"y\",\"type\":\"bar\"},{\"alignmentgroup\":\"True\",\"hovertemplate\":\"Outcome Balance=Positive<br>agg_Date_H=%{x}<br>outcome=%{y}<extra></extra>\",\"legendgroup\":\"Positive\",\"marker\":{\"color\":\"rgb(55,126,184)\",\"pattern\":{\"shape\":\"\"}},\"name\":\"Positive\",\"offsetgroup\":\"Positive\",\"orientation\":\"v\",\"showlegend\":true,\"textposition\":\"auto\",\"x\":[\"2023-03-31T07:00:00\",\"2023-03-31T08:00:00\"],\"xaxis\":\"x\",\"y\":[4905710.016322823,3570908.0771317696],\"yaxis\":\"y\",\"type\":\"bar\"}],                        {\"template\":{\"data\":{\"histogram2dcontour\":[{\"type\":\"histogram2dcontour\",\"colorbar\":{\"outlinewidth\":0,\"ticks\":\"\"},\"colorscale\":[[0.0,\"#0d0887\"],[0.1111111111111111,\"#46039f\"],[0.2222222222222222,\"#7201a8\"],[0.3333333333333333,\"#9c179e\"],[0.4444444444444444,\"#bd3786\"],[0.5555555555555556,\"#d8576b\"],[0.6666666666666666,\"#ed7953\"],[0.7777777777777778,\"#fb9f3a\"],[0.8888888888888888,\"#fdca26\"],[1.0,\"#f0f921\"]]}],\"choropleth\":[{\"type\":\"choropleth\",\"colorbar\":{\"outlinewidth\":0,\"ticks\":\"\"}}],\"histogram2d\":[{\"type\":\"histogram2d\",\"colorbar\":{\"outlinewidth\":0,\"ticks\":\"\"},\"colorscale\":[[0.0,\"#0d0887\"],[0.1111111111111111,\"#46039f\"],[0.2222222222222222,\"#7201a8\"],[0.3333333333333333,\"#9c179e\"],[0.4444444444444444,\"#bd3786\"],[0.5555555555555556,\"#d8576b\"],[0.6666666666666666,\"#ed7953\"],[0.7777777777777778,\"#fb9f3a\"],[0.8888888888888888,\"#fdca26\"],[1.0,\"#f0f921\"]]}],\"heatmap\":[{\"type\":\"heatmap\",\"colorbar\":{\"outlinewidth\":0,\"ticks\":\"\"},\"colorscale\":[[0.0,\"#0d0887\"],[0.1111111111111111,\"#46039f\"],[0.2222222222222222,\"#7201a8\"],[0.3333333333333333,\"#9c179e\"],[0.4444444444444444,\"#bd3786\"],[0.5555555555555556,\"#d8576b\"],[0.6666666666666666,\"#ed7953\"],[0.7777777777777778,\"#fb9f3a\"],[0.8888888888888888,\"#fdca26\"],[1.0,\"#f0f921\"]]}],\"heatmapgl\":[{\"type\":\"heatmapgl\",\"colorbar\":{\"outlinewidth\":0,\"ticks\":\"\"},\"colorscale\":[[0.0,\"#0d0887\"],[0.1111111111111111,\"#46039f\"],[0.2222222222222222,\"#7201a8\"],[0.3333333333333333,\"#9c179e\"],[0.4444444444444444,\"#bd3786\"],[0.5555555555555556,\"#d8576b\"],[0.6666666666666666,\"#ed7953\"],[0.7777777777777778,\"#fb9f3a\"],[0.8888888888888888,\"#fdca26\"],[1.0,\"#f0f921\"]]}],\"contourcarpet\":[{\"type\":\"contourcarpet\",\"colorbar\":{\"outlinewidth\":0,\"ticks\":\"\"}}],\"contour\":[{\"type\":\"contour\",\"colorbar\":{\"outlinewidth\":0,\"ticks\":\"\"},\"colorscale\":[[0.0,\"#0d0887\"],[0.1111111111111111,\"#46039f\"],[0.2222222222222222,\"#7201a8\"],[0.3333333333333333,\"#9c179e\"],[0.4444444444444444,\"#bd3786\"],[0.5555555555555556,\"#d8576b\"],[0.6666666666666666,\"#ed7953\"],[0.7777777777777778,\"#fb9f3a\"],[0.8888888888888888,\"#fdca26\"],[1.0,\"#f0f921\"]]}],\"surface\":[{\"type\":\"surface\",\"colorbar\":{\"outlinewidth\":0,\"ticks\":\"\"},\"colorscale\":[[0.0,\"#0d0887\"],[0.1111111111111111,\"#46039f\"],[0.2222222222222222,\"#7201a8\"],[0.3333333333333333,\"#9c179e\"],[0.4444444444444444,\"#bd3786\"],[0.5555555555555556,\"#d8576b\"],[0.6666666666666666,\"#ed7953\"],[0.7777777777777778,\"#fb9f3a\"],[0.8888888888888888,\"#fdca26\"],[1.0,\"#f0f921\"]]}],\"mesh3d\":[{\"type\":\"mesh3d\",\"colorbar\":{\"outlinewidth\":0,\"ticks\":\"\"}}],\"scatter\":[{\"fillpattern\":{\"fillmode\":\"overlay\",\"size\":10,\"solidity\":0.2},\"type\":\"scatter\"}],\"parcoords\":[{\"type\":\"parcoords\",\"line\":{\"colorbar\":{\"outlinewidth\":0,\"ticks\":\"\"}}}],\"scatterpolargl\":[{\"type\":\"scatterpolargl\",\"marker\":{\"colorbar\":{\"outlinewidth\":0,\"ticks\":\"\"}}}],\"bar\":[{\"error_x\":{\"color\":\"#2a3f5f\"},\"error_y\":{\"color\":\"#2a3f5f\"},\"marker\":{\"line\":{\"color\":\"#E5ECF6\",\"width\":0.5},\"pattern\":{\"fillmode\":\"overlay\",\"size\":10,\"solidity\":0.2}},\"type\":\"bar\"}],\"scattergeo\":[{\"type\":\"scattergeo\",\"marker\":{\"colorbar\":{\"outlinewidth\":0,\"ticks\":\"\"}}}],\"scatterpolar\":[{\"type\":\"scatterpolar\",\"marker\":{\"colorbar\":{\"outlinewidth\":0,\"ticks\":\"\"}}}],\"histogram\":[{\"marker\":{\"pattern\":{\"fillmode\":\"overlay\",\"size\":10,\"solidity\":0.2}},\"type\":\"histogram\"}],\"scattergl\":[{\"type\":\"scattergl\",\"marker\":{\"colorbar\":{\"outlinewidth\":0,\"ticks\":\"\"}}}],\"scatter3d\":[{\"type\":\"scatter3d\",\"line\":{\"colorbar\":{\"outlinewidth\":0,\"ticks\":\"\"}},\"marker\":{\"colorbar\":{\"outlinewidth\":0,\"ticks\":\"\"}}}],\"scattermapbox\":[{\"type\":\"scattermapbox\",\"marker\":{\"colorbar\":{\"outlinewidth\":0,\"ticks\":\"\"}}}],\"scatterternary\":[{\"type\":\"scatterternary\",\"marker\":{\"colorbar\":{\"outlinewidth\":0,\"ticks\":\"\"}}}],\"scattercarpet\":[{\"type\":\"scattercarpet\",\"marker\":{\"colorbar\":{\"outlinewidth\":0,\"ticks\":\"\"}}}],\"carpet\":[{\"aaxis\":{\"endlinecolor\":\"#2a3f5f\",\"gridcolor\":\"white\",\"linecolor\":\"white\",\"minorgridcolor\":\"white\",\"startlinecolor\":\"#2a3f5f\"},\"baxis\":{\"endlinecolor\":\"#2a3f5f\",\"gridcolor\":\"white\",\"linecolor\":\"white\",\"minorgridcolor\":\"white\",\"startlinecolor\":\"#2a3f5f\"},\"type\":\"carpet\"}],\"table\":[{\"cells\":{\"fill\":{\"color\":\"#EBF0F8\"},\"line\":{\"color\":\"white\"}},\"header\":{\"fill\":{\"color\":\"#C8D4E3\"},\"line\":{\"color\":\"white\"}},\"type\":\"table\"}],\"barpolar\":[{\"marker\":{\"line\":{\"color\":\"#E5ECF6\",\"width\":0.5},\"pattern\":{\"fillmode\":\"overlay\",\"size\":10,\"solidity\":0.2}},\"type\":\"barpolar\"}],\"pie\":[{\"automargin\":true,\"type\":\"pie\"}]},\"layout\":{\"autotypenumbers\":\"strict\",\"colorway\":[\"#636efa\",\"#EF553B\",\"#00cc96\",\"#ab63fa\",\"#FFA15A\",\"#19d3f3\",\"#FF6692\",\"#B6E880\",\"#FF97FF\",\"#FECB52\"],\"font\":{\"color\":\"#2a3f5f\"},\"hovermode\":\"closest\",\"hoverlabel\":{\"align\":\"left\"},\"paper_bgcolor\":\"white\",\"plot_bgcolor\":\"#E5ECF6\",\"polar\":{\"bgcolor\":\"#E5ECF6\",\"angularaxis\":{\"gridcolor\":\"white\",\"linecolor\":\"white\",\"ticks\":\"\"},\"radialaxis\":{\"gridcolor\":\"white\",\"linecolor\":\"white\",\"ticks\":\"\"}},\"ternary\":{\"bgcolor\":\"#E5ECF6\",\"aaxis\":{\"gridcolor\":\"white\",\"linecolor\":\"white\",\"ticks\":\"\"},\"baxis\":{\"gridcolor\":\"white\",\"linecolor\":\"white\",\"ticks\":\"\"},\"caxis\":{\"gridcolor\":\"white\",\"linecolor\":\"white\",\"ticks\":\"\"}},\"coloraxis\":{\"colorbar\":{\"outlinewidth\":0,\"ticks\":\"\"}},\"colorscale\":{\"sequential\":[[0.0,\"#0d0887\"],[0.1111111111111111,\"#46039f\"],[0.2222222222222222,\"#7201a8\"],[0.3333333333333333,\"#9c179e\"],[0.4444444444444444,\"#bd3786\"],[0.5555555555555556,\"#d8576b\"],[0.6666666666666666,\"#ed7953\"],[0.7777777777777778,\"#fb9f3a\"],[0.8888888888888888,\"#fdca26\"],[1.0,\"#f0f921\"]],\"sequentialminus\":[[0.0,\"#0d0887\"],[0.1111111111111111,\"#46039f\"],[0.2222222222222222,\"#7201a8\"],[0.3333333333333333,\"#9c179e\"],[0.4444444444444444,\"#bd3786\"],[0.5555555555555556,\"#d8576b\"],[0.6666666666666666,\"#ed7953\"],[0.7777777777777778,\"#fb9f3a\"],[0.8888888888888888,\"#fdca26\"],[1.0,\"#f0f921\"]],\"diverging\":[[0,\"#8e0152\"],[0.1,\"#c51b7d\"],[0.2,\"#de77ae\"],[0.3,\"#f1b6da\"],[0.4,\"#fde0ef\"],[0.5,\"#f7f7f7\"],[0.6,\"#e6f5d0\"],[0.7,\"#b8e186\"],[0.8,\"#7fbc41\"],[0.9,\"#4d9221\"],[1,\"#276419\"]]},\"xaxis\":{\"gridcolor\":\"white\",\"linecolor\":\"white\",\"ticks\":\"\",\"title\":{\"standoff\":15},\"zerolinecolor\":\"white\",\"automargin\":true,\"zerolinewidth\":2},\"yaxis\":{\"gridcolor\":\"white\",\"linecolor\":\"white\",\"ticks\":\"\",\"title\":{\"standoff\":15},\"zerolinecolor\":\"white\",\"automargin\":true,\"zerolinewidth\":2},\"scene\":{\"xaxis\":{\"backgroundcolor\":\"#E5ECF6\",\"gridcolor\":\"white\",\"linecolor\":\"white\",\"showbackground\":true,\"ticks\":\"\",\"zerolinecolor\":\"white\",\"gridwidth\":2},\"yaxis\":{\"backgroundcolor\":\"#E5ECF6\",\"gridcolor\":\"white\",\"linecolor\":\"white\",\"showbackground\":true,\"ticks\":\"\",\"zerolinecolor\":\"white\",\"gridwidth\":2},\"zaxis\":{\"backgroundcolor\":\"#E5ECF6\",\"gridcolor\":\"white\",\"linecolor\":\"white\",\"showbackground\":true,\"ticks\":\"\",\"zerolinecolor\":\"white\",\"gridwidth\":2}},\"shapedefaults\":{\"line\":{\"color\":\"#2a3f5f\"}},\"annotationdefaults\":{\"arrowcolor\":\"#2a3f5f\",\"arrowhead\":0,\"arrowwidth\":1},\"geo\":{\"bgcolor\":\"white\",\"landcolor\":\"#E5ECF6\",\"subunitcolor\":\"white\",\"showland\":true,\"showlakes\":true,\"lakecolor\":\"white\"},\"title\":{\"x\":0.05},\"mapbox\":{\"style\":\"light\"}}},\"xaxis\":{\"anchor\":\"y\",\"domain\":[0.0,1.0],\"title\":{\"text\":\"agg_Date_H\"}},\"yaxis\":{\"anchor\":\"x\",\"domain\":[0.0,1.0],\"title\":{\"text\":\"outcome\"}},\"legend\":{\"title\":{\"text\":\"Outcome Balance\"},\"tracegroupgap\":0},\"margin\":{\"t\":60},\"barmode\":\"relative\"},                        {\"responsive\": true}                    ).then(function(){\n",
       "                            \n",
       "var gd = document.getElementById('4264b413-d3a6-434d-8d71-700c1507efd8');\n",
       "var x = new MutationObserver(function (mutations, observer) {{\n",
       "        var display = window.getComputedStyle(gd).display;\n",
       "        if (!display || display === 'none') {{\n",
       "            console.log([gd, 'removed!']);\n",
       "            Plotly.purge(gd);\n",
       "            observer.disconnect();\n",
       "        }}\n",
       "}});\n",
       "\n",
       "// Listen for the removal of the full notebook cells\n",
       "var notebookContainer = gd.closest('#notebook-container');\n",
       "if (notebookContainer) {{\n",
       "    x.observe(notebookContainer, {childList: true});\n",
       "}}\n",
       "\n",
       "// Listen for the clearing of the current output cell\n",
       "var outputEl = gd.closest('.output');\n",
       "if (outputEl) {{\n",
       "    x.observe(outputEl, {childList: true});\n",
       "}}\n",
       "\n",
       "                        })                };                });            </script>        </div>"
      ]
     },
     "metadata": {},
     "output_type": "display_data"
    }
   ],
   "source": [
    "#### Agregación por hora:\n",
    "# \"H\" => hourly frequency\n",
    "# \"T, min\" => minutely frequency\n",
    "\n",
    "#Frequency=\"T\"\n",
    "Frequency=\"H\"\n",
    "\n",
    "df['agg_Date_'+Frequency] = df['Date'].dt.floor(Frequency)\n",
    "print(df.groupby('agg_Date_'+Frequency).sum().reset_index())\n",
    "print(df.groupby('agg_Date_'+Frequency).sum().reset_index().shape)\n",
    "print('-------------------------------------')\n",
    "\n",
    "grouped_data = df.groupby(['agg_Date_'+Frequency])\n",
    "\n",
    "#Usar una agregación específica para cada columna:\n",
    "aggregation_dict = {'trade_id': 'mean', 'price': 'mean', 'quantity': 'mean', \n",
    "                    'time': 'min','Hour': 'min', 'transaction_value': 'sum',\n",
    "                    'outcome': 'last',  'transaction_value_abs': 'sum'}\n",
    "aggregated_data = grouped_data.agg(aggregation_dict)\n",
    "#print(aggregated_data)\n",
    "aggregated_data = aggregated_data.reset_index()\n",
    "print(aggregated_data)\n",
    "aggregated_data['Outcome Balance'] = np.where(aggregated_data['outcome'] >= 0, 'Positive', 'Negative')\n",
    "aggregated_data.to_csv(\"Aggregated_\"+Frequency+\"_outcome.csv\",index=False)\n",
    "\n",
    "print('-------------------------------------')\n",
    "\n",
    "fig = px.bar(aggregated_data, x='agg_Date_'+Frequency, y=\"outcome\", color=\"Outcome Balance\",\n",
    "              color_discrete_sequence=px.colors.qualitative.Set1\n",
    "                )\n",
    "fig.show()"
   ]
  },
  {
   "cell_type": "code",
   "execution_count": 104,
   "id": "24ee0574",
   "metadata": {},
   "outputs": [
    {
     "name": "stdout",
     "output_type": "stream",
     "text": [
      "            agg_Date_H      trade_id         price    quantity          time  \\\n",
      "0  2023-03-31 00:00:00  3.905530e+13  6.289944e+07  24915.1765  5.870866e+16   \n",
      "1  2023-03-31 01:00:00  4.920845e+13  7.968052e+07  28743.7893  7.396858e+16   \n",
      "2  2023-03-31 02:00:00  3.063400e+13  4.940496e+07  11827.3276  4.604670e+16   \n",
      "3  2023-03-31 03:00:00  2.721632e+13  4.394200e+07  11463.0527  4.090864e+16   \n",
      "4  2023-03-31 04:00:00  2.664903e+13  4.297184e+07  10624.0933  4.005517e+16   \n",
      "5  2023-03-31 05:00:00  3.127664e+13  5.039513e+07  13273.9367  4.700978e+16   \n",
      "6  2023-03-31 06:00:00  2.448817e+13  3.937755e+07   9957.9000  3.680575e+16   \n",
      "7  2023-03-31 07:00:00  5.707422e+13  9.130801e+07  35617.6813  8.578002e+16   \n",
      "8  2023-03-31 08:00:00  4.227184e+13  6.778425e+07  19260.7312  6.353030e+16   \n",
      "9  2023-03-31 09:00:00  3.776972e+13  6.048573e+07  12879.4554  5.676237e+16   \n",
      "10 2023-03-31 10:00:00  2.885074e+13  4.629864e+07  12925.6571  4.335739e+16   \n",
      "11 2023-03-31 11:00:00  3.622985e+13  5.809082e+07  13313.8942  5.444554e+16   \n",
      "12 2023-03-31 12:00:00  5.464808e+13  8.809092e+07  28675.0214  8.212132e+16   \n",
      "13 2023-03-31 13:00:00  1.127476e+14  1.840449e+08  71045.1061  1.694182e+17   \n",
      "14 2023-03-31 14:00:00  9.951635e+13  1.634965e+08  59859.1701  1.495241e+17   \n",
      "15 2023-03-31 15:00:00  6.321558e+13  1.035702e+08  40884.2991  9.497594e+16   \n",
      "16 2023-03-31 16:00:00  3.664198e+13  5.987473e+07  21192.6215  5.504934e+16   \n",
      "17 2023-03-31 17:00:00  2.646830e+13  4.324886e+07  17507.4943  3.976392e+16   \n",
      "18 2023-03-31 18:00:00  2.261901e+13  3.688442e+07  12191.3227  3.398045e+16   \n",
      "19 2023-03-31 19:00:00  3.630894e+13  5.923644e+07  30053.1803  5.454560e+16   \n",
      "20 2023-03-31 20:00:00  3.907506e+13  6.368149e+07  23232.2992  5.869942e+16   \n",
      "21 2023-03-31 21:00:00  3.010744e+13  4.903684e+07  15725.2866  4.522690e+16   \n",
      "22 2023-03-31 22:00:00  2.464824e+13  4.025079e+07  11066.3308  3.702545e+16   \n",
      "23 2023-03-31 23:00:00  3.294674e+13  5.373016e+07  18290.4716  4.949003e+16   \n",
      "\n",
      "         Hour  transaction_value       outcome  transaction_value_abs  \n",
      "0         0.0      -2.242845e+06 -2.175962e+10           4.485414e+07  \n",
      "1     44023.0      -1.825833e+06 -1.983349e+11           5.203171e+07  \n",
      "2     54810.0      -2.739394e+06 -1.334003e+11           2.132083e+07  \n",
      "3     73041.0       2.279300e+05 -1.485210e+11           2.069030e+07  \n",
      "4     95356.0       4.225520e+05 -1.417789e+11           1.915055e+07  \n",
      "5    139890.0       1.554771e+06 -1.744313e+11           2.390448e+07  \n",
      "6    131430.0       2.569548e+06 -7.374429e+10           1.790079e+07  \n",
      "7    357364.0       6.938982e+06  9.377130e+10           6.367612e+07  \n",
      "8    302480.0      -1.334802e+06  1.709237e+11           3.453877e+07  \n",
      "9    304038.0      -3.693096e+06  2.806291e+10           2.306138e+07  \n",
      "10   258040.0      -1.734500e+06 -3.822794e+10           2.319669e+07  \n",
      "11   356433.0       7.664293e+05 -3.344997e+10           2.386533e+07  \n",
      "12   586488.0      -5.860189e+06 -2.303702e+11           5.171976e+07  \n",
      "13  1310764.0      -2.859383e+07 -2.288906e+12           1.297147e+08  \n",
      "14  1245832.0      -1.386011e+07 -3.920264e+12           1.100024e+08  \n",
      "15   847860.0       9.847305e+06 -2.429689e+12           7.491027e+07  \n",
      "16   524192.0      -2.386266e+06 -1.328465e+12           3.872752e+07  \n",
      "17   402305.0      -1.490234e+06 -1.014024e+12           3.199759e+07  \n",
      "18   364014.0      -2.788125e+06 -9.130367e+11           2.223492e+07  \n",
      "19   616778.0      -1.080508e+06 -1.502561e+12           5.482784e+07  \n",
      "20   698680.0       2.559550e+05 -1.655297e+12           4.234585e+07  \n",
      "21   565236.0      -2.984335e+06 -1.295386e+12           2.864537e+07  \n",
      "22   484770.0      -2.063137e+06 -1.129537e+12           2.021546e+07  \n",
      "23   677419.0       8.516077e+06 -1.428974e+12           3.336382e+07  \n",
      "(24, 9)\n",
      "-------------------------------------\n",
      "            agg_Date_H      trade_id        price  quantity          time  \\\n",
      "0  2023-03-31 00:00:00  1.117750e+09  1800.161551  0.713064  1.680221e+12   \n",
      "1  2023-03-31 01:00:00  1.117789e+09  1809.974721  0.652927  1.680224e+12   \n",
      "2  2023-03-31 02:00:00  1.117825e+09  1802.771607  0.431576  1.680228e+12   \n",
      "3  2023-03-31 03:00:00  1.117851e+09  1804.822154  0.470820  1.680232e+12   \n",
      "4  2023-03-31 04:00:00  1.117875e+09  1802.585580  0.445660  1.680235e+12   \n",
      "5  2023-03-31 05:00:00  1.117901e+09  1801.241294  0.474442  1.680239e+12   \n",
      "6  2023-03-31 06:00:00  1.117926e+09  1797.651077  0.454595  1.680242e+12   \n",
      "7  2023-03-31 07:00:00  1.117962e+09  1788.529605  0.697675  1.680246e+12   \n",
      "8  2023-03-31 08:00:00  1.118007e+09  1792.759960  0.509408  1.680250e+12   \n",
      "9  2023-03-31 09:00:00  1.118043e+09  1790.472075  0.381252  1.680253e+12   \n",
      "10 2023-03-31 10:00:00  1.118072e+09  1794.242809  0.500917  1.680257e+12   \n",
      "11 2023-03-31 11:00:00  1.118102e+09  1792.760568  0.410885  1.680260e+12   \n",
      "12 2023-03-31 12:00:00  1.118142e+09  1802.408640  0.586713  1.680264e+12   \n",
      "13 2023-03-31 13:00:00  1.118217e+09  1825.335322  0.704617  1.680268e+12   \n",
      "14 2023-03-31 14:00:00  1.118312e+09  1837.287203  0.672666  1.680271e+12   \n",
      "15 2023-03-31 15:00:00  1.118385e+09  1832.321903  0.723309  1.680275e+12   \n",
      "16 2023-03-31 16:00:00  1.118429e+09  1827.566527  0.646866  1.680278e+12   \n",
      "17 2023-03-31 17:00:00  1.118458e+09  1827.545307  0.739805  1.680282e+12   \n",
      "18 2023-03-31 18:00:00  1.118480e+09  1823.884694  0.602844  1.680286e+12   \n",
      "19 2023-03-31 19:00:00  1.118506e+09  1824.793174  0.925796  1.680289e+12   \n",
      "20 2023-03-31 20:00:00  1.118540e+09  1822.908722  0.665034  1.680293e+12   \n",
      "21 2023-03-31 21:00:00  1.118571e+09  1821.847103  0.584236  1.680296e+12   \n",
      "22 2023-03-31 22:00:00  1.118595e+09  1826.675340  0.502216  1.680300e+12   \n",
      "23 2023-03-31 23:00:00  1.118621e+09  1824.267801  0.621005  1.680304e+12   \n",
      "\n",
      "    Hour  transaction_value       outcome  transaction_value_abs  \n",
      "0    0.0      -2.242845e+06 -2.242845e+06           4.485414e+07  \n",
      "1    1.0      -1.825833e+06 -4.068678e+06           5.203171e+07  \n",
      "2    2.0      -2.739394e+06 -6.808072e+06           2.132083e+07  \n",
      "3    3.0       2.279300e+05 -6.580143e+06           2.069030e+07  \n",
      "4    4.0       4.225520e+05 -6.157591e+06           1.915055e+07  \n",
      "5    5.0       1.554771e+06 -4.602819e+06           2.390448e+07  \n",
      "6    6.0       2.569548e+06 -2.033272e+06           1.790079e+07  \n",
      "7    7.0       6.938982e+06  4.905710e+06           6.367612e+07  \n",
      "8    8.0      -1.334802e+06  3.570908e+06           3.453877e+07  \n",
      "9    9.0      -3.693096e+06 -1.221876e+05           2.306138e+07  \n",
      "10  10.0      -1.734500e+06 -1.856688e+06           2.319669e+07  \n",
      "11  11.0       7.664293e+05 -1.090259e+06           2.386533e+07  \n",
      "12  12.0      -5.860189e+06 -6.950448e+06           5.171976e+07  \n",
      "13  13.0      -2.859383e+07 -3.554427e+07           1.297147e+08  \n",
      "14  14.0      -1.386011e+07 -4.940438e+07           1.100024e+08  \n",
      "15  15.0       9.847305e+06 -3.955708e+07           7.491027e+07  \n",
      "16  16.0      -2.386266e+06 -4.194335e+07           3.872752e+07  \n",
      "17  17.0      -1.490234e+06 -4.343358e+07           3.199759e+07  \n",
      "18  18.0      -2.788125e+06 -4.622171e+07           2.223492e+07  \n",
      "19  19.0      -1.080508e+06 -4.730221e+07           5.482784e+07  \n",
      "20  20.0       2.559550e+05 -4.704626e+07           4.234585e+07  \n",
      "21  21.0      -2.984335e+06 -5.003059e+07           2.864537e+07  \n",
      "22  22.0      -2.063137e+06 -5.209373e+07           2.021546e+07  \n",
      "23  23.0       8.516077e+06 -4.357765e+07           3.336382e+07  \n",
      "-------------------------------------\n"
     ]
    },
    {
     "data": {
      "application/vnd.plotly.v1+json": {
       "config": {
        "plotlyServerURL": "https://plot.ly"
       },
       "data": [
        {
         "alignmentgroup": "True",
         "hovertemplate": "agg_Date_H=%{x}<br>price=%{y}<extra></extra>",
         "legendgroup": "",
         "marker": {
          "color": "rgb(255,127,0)",
          "pattern": {
           "shape": ""
          }
         },
         "name": "",
         "offsetgroup": "",
         "orientation": "v",
         "showlegend": false,
         "textposition": "auto",
         "type": "bar",
         "x": [
          "2023-03-31T00:00:00",
          "2023-03-31T01:00:00",
          "2023-03-31T02:00:00",
          "2023-03-31T03:00:00",
          "2023-03-31T04:00:00",
          "2023-03-31T05:00:00",
          "2023-03-31T06:00:00",
          "2023-03-31T07:00:00",
          "2023-03-31T08:00:00",
          "2023-03-31T09:00:00",
          "2023-03-31T10:00:00",
          "2023-03-31T11:00:00",
          "2023-03-31T12:00:00",
          "2023-03-31T13:00:00",
          "2023-03-31T14:00:00",
          "2023-03-31T15:00:00",
          "2023-03-31T16:00:00",
          "2023-03-31T17:00:00",
          "2023-03-31T18:00:00",
          "2023-03-31T19:00:00",
          "2023-03-31T20:00:00",
          "2023-03-31T21:00:00",
          "2023-03-31T22:00:00",
          "2023-03-31T23:00:00"
         ],
         "xaxis": "x",
         "y": [
          1800.1615509000953,
          1809.9747213956653,
          1802.7716070061053,
          1804.8221538588286,
          1802.5855803516151,
          1801.2412938737205,
          1797.6510769230333,
          1788.5296053044226,
          1792.7599600635037,
          1790.4720747734839,
          1794.2428088668717,
          1792.760567539999,
          1802.4086397675494,
          1825.335321835131,
          1837.287202881174,
          1832.3219032622917,
          1827.566527074055,
          1827.54530699345,
          1823.8846936656298,
          1824.7931738647885,
          1822.9087215893005,
          1821.847102838423,
          1826.6753401408087,
          1824.267800903134
         ],
         "yaxis": "y"
        }
       ],
       "layout": {
        "barmode": "relative",
        "legend": {
         "tracegroupgap": 0
        },
        "margin": {
         "t": 60
        },
        "template": {
         "data": {
          "bar": [
           {
            "error_x": {
             "color": "#2a3f5f"
            },
            "error_y": {
             "color": "#2a3f5f"
            },
            "marker": {
             "line": {
              "color": "#E5ECF6",
              "width": 0.5
             },
             "pattern": {
              "fillmode": "overlay",
              "size": 10,
              "solidity": 0.2
             }
            },
            "type": "bar"
           }
          ],
          "barpolar": [
           {
            "marker": {
             "line": {
              "color": "#E5ECF6",
              "width": 0.5
             },
             "pattern": {
              "fillmode": "overlay",
              "size": 10,
              "solidity": 0.2
             }
            },
            "type": "barpolar"
           }
          ],
          "carpet": [
           {
            "aaxis": {
             "endlinecolor": "#2a3f5f",
             "gridcolor": "white",
             "linecolor": "white",
             "minorgridcolor": "white",
             "startlinecolor": "#2a3f5f"
            },
            "baxis": {
             "endlinecolor": "#2a3f5f",
             "gridcolor": "white",
             "linecolor": "white",
             "minorgridcolor": "white",
             "startlinecolor": "#2a3f5f"
            },
            "type": "carpet"
           }
          ],
          "choropleth": [
           {
            "colorbar": {
             "outlinewidth": 0,
             "ticks": ""
            },
            "type": "choropleth"
           }
          ],
          "contour": [
           {
            "colorbar": {
             "outlinewidth": 0,
             "ticks": ""
            },
            "colorscale": [
             [
              0,
              "#0d0887"
             ],
             [
              0.1111111111111111,
              "#46039f"
             ],
             [
              0.2222222222222222,
              "#7201a8"
             ],
             [
              0.3333333333333333,
              "#9c179e"
             ],
             [
              0.4444444444444444,
              "#bd3786"
             ],
             [
              0.5555555555555556,
              "#d8576b"
             ],
             [
              0.6666666666666666,
              "#ed7953"
             ],
             [
              0.7777777777777778,
              "#fb9f3a"
             ],
             [
              0.8888888888888888,
              "#fdca26"
             ],
             [
              1,
              "#f0f921"
             ]
            ],
            "type": "contour"
           }
          ],
          "contourcarpet": [
           {
            "colorbar": {
             "outlinewidth": 0,
             "ticks": ""
            },
            "type": "contourcarpet"
           }
          ],
          "heatmap": [
           {
            "colorbar": {
             "outlinewidth": 0,
             "ticks": ""
            },
            "colorscale": [
             [
              0,
              "#0d0887"
             ],
             [
              0.1111111111111111,
              "#46039f"
             ],
             [
              0.2222222222222222,
              "#7201a8"
             ],
             [
              0.3333333333333333,
              "#9c179e"
             ],
             [
              0.4444444444444444,
              "#bd3786"
             ],
             [
              0.5555555555555556,
              "#d8576b"
             ],
             [
              0.6666666666666666,
              "#ed7953"
             ],
             [
              0.7777777777777778,
              "#fb9f3a"
             ],
             [
              0.8888888888888888,
              "#fdca26"
             ],
             [
              1,
              "#f0f921"
             ]
            ],
            "type": "heatmap"
           }
          ],
          "heatmapgl": [
           {
            "colorbar": {
             "outlinewidth": 0,
             "ticks": ""
            },
            "colorscale": [
             [
              0,
              "#0d0887"
             ],
             [
              0.1111111111111111,
              "#46039f"
             ],
             [
              0.2222222222222222,
              "#7201a8"
             ],
             [
              0.3333333333333333,
              "#9c179e"
             ],
             [
              0.4444444444444444,
              "#bd3786"
             ],
             [
              0.5555555555555556,
              "#d8576b"
             ],
             [
              0.6666666666666666,
              "#ed7953"
             ],
             [
              0.7777777777777778,
              "#fb9f3a"
             ],
             [
              0.8888888888888888,
              "#fdca26"
             ],
             [
              1,
              "#f0f921"
             ]
            ],
            "type": "heatmapgl"
           }
          ],
          "histogram": [
           {
            "marker": {
             "pattern": {
              "fillmode": "overlay",
              "size": 10,
              "solidity": 0.2
             }
            },
            "type": "histogram"
           }
          ],
          "histogram2d": [
           {
            "colorbar": {
             "outlinewidth": 0,
             "ticks": ""
            },
            "colorscale": [
             [
              0,
              "#0d0887"
             ],
             [
              0.1111111111111111,
              "#46039f"
             ],
             [
              0.2222222222222222,
              "#7201a8"
             ],
             [
              0.3333333333333333,
              "#9c179e"
             ],
             [
              0.4444444444444444,
              "#bd3786"
             ],
             [
              0.5555555555555556,
              "#d8576b"
             ],
             [
              0.6666666666666666,
              "#ed7953"
             ],
             [
              0.7777777777777778,
              "#fb9f3a"
             ],
             [
              0.8888888888888888,
              "#fdca26"
             ],
             [
              1,
              "#f0f921"
             ]
            ],
            "type": "histogram2d"
           }
          ],
          "histogram2dcontour": [
           {
            "colorbar": {
             "outlinewidth": 0,
             "ticks": ""
            },
            "colorscale": [
             [
              0,
              "#0d0887"
             ],
             [
              0.1111111111111111,
              "#46039f"
             ],
             [
              0.2222222222222222,
              "#7201a8"
             ],
             [
              0.3333333333333333,
              "#9c179e"
             ],
             [
              0.4444444444444444,
              "#bd3786"
             ],
             [
              0.5555555555555556,
              "#d8576b"
             ],
             [
              0.6666666666666666,
              "#ed7953"
             ],
             [
              0.7777777777777778,
              "#fb9f3a"
             ],
             [
              0.8888888888888888,
              "#fdca26"
             ],
             [
              1,
              "#f0f921"
             ]
            ],
            "type": "histogram2dcontour"
           }
          ],
          "mesh3d": [
           {
            "colorbar": {
             "outlinewidth": 0,
             "ticks": ""
            },
            "type": "mesh3d"
           }
          ],
          "parcoords": [
           {
            "line": {
             "colorbar": {
              "outlinewidth": 0,
              "ticks": ""
             }
            },
            "type": "parcoords"
           }
          ],
          "pie": [
           {
            "automargin": true,
            "type": "pie"
           }
          ],
          "scatter": [
           {
            "fillpattern": {
             "fillmode": "overlay",
             "size": 10,
             "solidity": 0.2
            },
            "type": "scatter"
           }
          ],
          "scatter3d": [
           {
            "line": {
             "colorbar": {
              "outlinewidth": 0,
              "ticks": ""
             }
            },
            "marker": {
             "colorbar": {
              "outlinewidth": 0,
              "ticks": ""
             }
            },
            "type": "scatter3d"
           }
          ],
          "scattercarpet": [
           {
            "marker": {
             "colorbar": {
              "outlinewidth": 0,
              "ticks": ""
             }
            },
            "type": "scattercarpet"
           }
          ],
          "scattergeo": [
           {
            "marker": {
             "colorbar": {
              "outlinewidth": 0,
              "ticks": ""
             }
            },
            "type": "scattergeo"
           }
          ],
          "scattergl": [
           {
            "marker": {
             "colorbar": {
              "outlinewidth": 0,
              "ticks": ""
             }
            },
            "type": "scattergl"
           }
          ],
          "scattermapbox": [
           {
            "marker": {
             "colorbar": {
              "outlinewidth": 0,
              "ticks": ""
             }
            },
            "type": "scattermapbox"
           }
          ],
          "scatterpolar": [
           {
            "marker": {
             "colorbar": {
              "outlinewidth": 0,
              "ticks": ""
             }
            },
            "type": "scatterpolar"
           }
          ],
          "scatterpolargl": [
           {
            "marker": {
             "colorbar": {
              "outlinewidth": 0,
              "ticks": ""
             }
            },
            "type": "scatterpolargl"
           }
          ],
          "scatterternary": [
           {
            "marker": {
             "colorbar": {
              "outlinewidth": 0,
              "ticks": ""
             }
            },
            "type": "scatterternary"
           }
          ],
          "surface": [
           {
            "colorbar": {
             "outlinewidth": 0,
             "ticks": ""
            },
            "colorscale": [
             [
              0,
              "#0d0887"
             ],
             [
              0.1111111111111111,
              "#46039f"
             ],
             [
              0.2222222222222222,
              "#7201a8"
             ],
             [
              0.3333333333333333,
              "#9c179e"
             ],
             [
              0.4444444444444444,
              "#bd3786"
             ],
             [
              0.5555555555555556,
              "#d8576b"
             ],
             [
              0.6666666666666666,
              "#ed7953"
             ],
             [
              0.7777777777777778,
              "#fb9f3a"
             ],
             [
              0.8888888888888888,
              "#fdca26"
             ],
             [
              1,
              "#f0f921"
             ]
            ],
            "type": "surface"
           }
          ],
          "table": [
           {
            "cells": {
             "fill": {
              "color": "#EBF0F8"
             },
             "line": {
              "color": "white"
             }
            },
            "header": {
             "fill": {
              "color": "#C8D4E3"
             },
             "line": {
              "color": "white"
             }
            },
            "type": "table"
           }
          ]
         },
         "layout": {
          "annotationdefaults": {
           "arrowcolor": "#2a3f5f",
           "arrowhead": 0,
           "arrowwidth": 1
          },
          "autotypenumbers": "strict",
          "coloraxis": {
           "colorbar": {
            "outlinewidth": 0,
            "ticks": ""
           }
          },
          "colorscale": {
           "diverging": [
            [
             0,
             "#8e0152"
            ],
            [
             0.1,
             "#c51b7d"
            ],
            [
             0.2,
             "#de77ae"
            ],
            [
             0.3,
             "#f1b6da"
            ],
            [
             0.4,
             "#fde0ef"
            ],
            [
             0.5,
             "#f7f7f7"
            ],
            [
             0.6,
             "#e6f5d0"
            ],
            [
             0.7,
             "#b8e186"
            ],
            [
             0.8,
             "#7fbc41"
            ],
            [
             0.9,
             "#4d9221"
            ],
            [
             1,
             "#276419"
            ]
           ],
           "sequential": [
            [
             0,
             "#0d0887"
            ],
            [
             0.1111111111111111,
             "#46039f"
            ],
            [
             0.2222222222222222,
             "#7201a8"
            ],
            [
             0.3333333333333333,
             "#9c179e"
            ],
            [
             0.4444444444444444,
             "#bd3786"
            ],
            [
             0.5555555555555556,
             "#d8576b"
            ],
            [
             0.6666666666666666,
             "#ed7953"
            ],
            [
             0.7777777777777778,
             "#fb9f3a"
            ],
            [
             0.8888888888888888,
             "#fdca26"
            ],
            [
             1,
             "#f0f921"
            ]
           ],
           "sequentialminus": [
            [
             0,
             "#0d0887"
            ],
            [
             0.1111111111111111,
             "#46039f"
            ],
            [
             0.2222222222222222,
             "#7201a8"
            ],
            [
             0.3333333333333333,
             "#9c179e"
            ],
            [
             0.4444444444444444,
             "#bd3786"
            ],
            [
             0.5555555555555556,
             "#d8576b"
            ],
            [
             0.6666666666666666,
             "#ed7953"
            ],
            [
             0.7777777777777778,
             "#fb9f3a"
            ],
            [
             0.8888888888888888,
             "#fdca26"
            ],
            [
             1,
             "#f0f921"
            ]
           ]
          },
          "colorway": [
           "#636efa",
           "#EF553B",
           "#00cc96",
           "#ab63fa",
           "#FFA15A",
           "#19d3f3",
           "#FF6692",
           "#B6E880",
           "#FF97FF",
           "#FECB52"
          ],
          "font": {
           "color": "#2a3f5f"
          },
          "geo": {
           "bgcolor": "white",
           "lakecolor": "white",
           "landcolor": "#E5ECF6",
           "showlakes": true,
           "showland": true,
           "subunitcolor": "white"
          },
          "hoverlabel": {
           "align": "left"
          },
          "hovermode": "closest",
          "mapbox": {
           "style": "light"
          },
          "paper_bgcolor": "white",
          "plot_bgcolor": "#E5ECF6",
          "polar": {
           "angularaxis": {
            "gridcolor": "white",
            "linecolor": "white",
            "ticks": ""
           },
           "bgcolor": "#E5ECF6",
           "radialaxis": {
            "gridcolor": "white",
            "linecolor": "white",
            "ticks": ""
           }
          },
          "scene": {
           "xaxis": {
            "backgroundcolor": "#E5ECF6",
            "gridcolor": "white",
            "gridwidth": 2,
            "linecolor": "white",
            "showbackground": true,
            "ticks": "",
            "zerolinecolor": "white"
           },
           "yaxis": {
            "backgroundcolor": "#E5ECF6",
            "gridcolor": "white",
            "gridwidth": 2,
            "linecolor": "white",
            "showbackground": true,
            "ticks": "",
            "zerolinecolor": "white"
           },
           "zaxis": {
            "backgroundcolor": "#E5ECF6",
            "gridcolor": "white",
            "gridwidth": 2,
            "linecolor": "white",
            "showbackground": true,
            "ticks": "",
            "zerolinecolor": "white"
           }
          },
          "shapedefaults": {
           "line": {
            "color": "#2a3f5f"
           }
          },
          "ternary": {
           "aaxis": {
            "gridcolor": "white",
            "linecolor": "white",
            "ticks": ""
           },
           "baxis": {
            "gridcolor": "white",
            "linecolor": "white",
            "ticks": ""
           },
           "bgcolor": "#E5ECF6",
           "caxis": {
            "gridcolor": "white",
            "linecolor": "white",
            "ticks": ""
           }
          },
          "title": {
           "x": 0.05
          },
          "xaxis": {
           "automargin": true,
           "gridcolor": "white",
           "linecolor": "white",
           "ticks": "",
           "title": {
            "standoff": 15
           },
           "zerolinecolor": "white",
           "zerolinewidth": 2
          },
          "yaxis": {
           "automargin": true,
           "gridcolor": "white",
           "linecolor": "white",
           "ticks": "",
           "title": {
            "standoff": 15
           },
           "zerolinecolor": "white",
           "zerolinewidth": 2
          }
         }
        },
        "xaxis": {
         "anchor": "y",
         "domain": [
          0,
          1
         ],
         "title": {
          "text": "agg_Date_H"
         }
        },
        "yaxis": {
         "anchor": "x",
         "domain": [
          0,
          1
         ],
         "range": [
          1788.5296053044226,
          1837.287202881174
         ],
         "title": {
          "text": "price"
         }
        }
       }
      },
      "text/html": [
       "<div>                            <div id=\"e37e6692-ccf2-4bf3-a543-4a9630b89508\" class=\"plotly-graph-div\" style=\"height:525px; width:100%;\"></div>            <script type=\"text/javascript\">                require([\"plotly\"], function(Plotly) {                    window.PLOTLYENV=window.PLOTLYENV || {};                                    if (document.getElementById(\"e37e6692-ccf2-4bf3-a543-4a9630b89508\")) {                    Plotly.newPlot(                        \"e37e6692-ccf2-4bf3-a543-4a9630b89508\",                        [{\"alignmentgroup\":\"True\",\"hovertemplate\":\"agg_Date_H=%{x}<br>price=%{y}<extra></extra>\",\"legendgroup\":\"\",\"marker\":{\"color\":\"rgb(255,127,0)\",\"pattern\":{\"shape\":\"\"}},\"name\":\"\",\"offsetgroup\":\"\",\"orientation\":\"v\",\"showlegend\":false,\"textposition\":\"auto\",\"x\":[\"2023-03-31T00:00:00\",\"2023-03-31T01:00:00\",\"2023-03-31T02:00:00\",\"2023-03-31T03:00:00\",\"2023-03-31T04:00:00\",\"2023-03-31T05:00:00\",\"2023-03-31T06:00:00\",\"2023-03-31T07:00:00\",\"2023-03-31T08:00:00\",\"2023-03-31T09:00:00\",\"2023-03-31T10:00:00\",\"2023-03-31T11:00:00\",\"2023-03-31T12:00:00\",\"2023-03-31T13:00:00\",\"2023-03-31T14:00:00\",\"2023-03-31T15:00:00\",\"2023-03-31T16:00:00\",\"2023-03-31T17:00:00\",\"2023-03-31T18:00:00\",\"2023-03-31T19:00:00\",\"2023-03-31T20:00:00\",\"2023-03-31T21:00:00\",\"2023-03-31T22:00:00\",\"2023-03-31T23:00:00\"],\"xaxis\":\"x\",\"y\":[1800.1615509000953,1809.9747213956653,1802.7716070061053,1804.8221538588286,1802.5855803516151,1801.2412938737205,1797.6510769230333,1788.5296053044226,1792.7599600635037,1790.4720747734839,1794.2428088668717,1792.760567539999,1802.4086397675494,1825.335321835131,1837.287202881174,1832.3219032622917,1827.566527074055,1827.54530699345,1823.8846936656298,1824.7931738647885,1822.9087215893005,1821.847102838423,1826.6753401408087,1824.267800903134],\"yaxis\":\"y\",\"type\":\"bar\"}],                        {\"template\":{\"data\":{\"histogram2dcontour\":[{\"type\":\"histogram2dcontour\",\"colorbar\":{\"outlinewidth\":0,\"ticks\":\"\"},\"colorscale\":[[0.0,\"#0d0887\"],[0.1111111111111111,\"#46039f\"],[0.2222222222222222,\"#7201a8\"],[0.3333333333333333,\"#9c179e\"],[0.4444444444444444,\"#bd3786\"],[0.5555555555555556,\"#d8576b\"],[0.6666666666666666,\"#ed7953\"],[0.7777777777777778,\"#fb9f3a\"],[0.8888888888888888,\"#fdca26\"],[1.0,\"#f0f921\"]]}],\"choropleth\":[{\"type\":\"choropleth\",\"colorbar\":{\"outlinewidth\":0,\"ticks\":\"\"}}],\"histogram2d\":[{\"type\":\"histogram2d\",\"colorbar\":{\"outlinewidth\":0,\"ticks\":\"\"},\"colorscale\":[[0.0,\"#0d0887\"],[0.1111111111111111,\"#46039f\"],[0.2222222222222222,\"#7201a8\"],[0.3333333333333333,\"#9c179e\"],[0.4444444444444444,\"#bd3786\"],[0.5555555555555556,\"#d8576b\"],[0.6666666666666666,\"#ed7953\"],[0.7777777777777778,\"#fb9f3a\"],[0.8888888888888888,\"#fdca26\"],[1.0,\"#f0f921\"]]}],\"heatmap\":[{\"type\":\"heatmap\",\"colorbar\":{\"outlinewidth\":0,\"ticks\":\"\"},\"colorscale\":[[0.0,\"#0d0887\"],[0.1111111111111111,\"#46039f\"],[0.2222222222222222,\"#7201a8\"],[0.3333333333333333,\"#9c179e\"],[0.4444444444444444,\"#bd3786\"],[0.5555555555555556,\"#d8576b\"],[0.6666666666666666,\"#ed7953\"],[0.7777777777777778,\"#fb9f3a\"],[0.8888888888888888,\"#fdca26\"],[1.0,\"#f0f921\"]]}],\"heatmapgl\":[{\"type\":\"heatmapgl\",\"colorbar\":{\"outlinewidth\":0,\"ticks\":\"\"},\"colorscale\":[[0.0,\"#0d0887\"],[0.1111111111111111,\"#46039f\"],[0.2222222222222222,\"#7201a8\"],[0.3333333333333333,\"#9c179e\"],[0.4444444444444444,\"#bd3786\"],[0.5555555555555556,\"#d8576b\"],[0.6666666666666666,\"#ed7953\"],[0.7777777777777778,\"#fb9f3a\"],[0.8888888888888888,\"#fdca26\"],[1.0,\"#f0f921\"]]}],\"contourcarpet\":[{\"type\":\"contourcarpet\",\"colorbar\":{\"outlinewidth\":0,\"ticks\":\"\"}}],\"contour\":[{\"type\":\"contour\",\"colorbar\":{\"outlinewidth\":0,\"ticks\":\"\"},\"colorscale\":[[0.0,\"#0d0887\"],[0.1111111111111111,\"#46039f\"],[0.2222222222222222,\"#7201a8\"],[0.3333333333333333,\"#9c179e\"],[0.4444444444444444,\"#bd3786\"],[0.5555555555555556,\"#d8576b\"],[0.6666666666666666,\"#ed7953\"],[0.7777777777777778,\"#fb9f3a\"],[0.8888888888888888,\"#fdca26\"],[1.0,\"#f0f921\"]]}],\"surface\":[{\"type\":\"surface\",\"colorbar\":{\"outlinewidth\":0,\"ticks\":\"\"},\"colorscale\":[[0.0,\"#0d0887\"],[0.1111111111111111,\"#46039f\"],[0.2222222222222222,\"#7201a8\"],[0.3333333333333333,\"#9c179e\"],[0.4444444444444444,\"#bd3786\"],[0.5555555555555556,\"#d8576b\"],[0.6666666666666666,\"#ed7953\"],[0.7777777777777778,\"#fb9f3a\"],[0.8888888888888888,\"#fdca26\"],[1.0,\"#f0f921\"]]}],\"mesh3d\":[{\"type\":\"mesh3d\",\"colorbar\":{\"outlinewidth\":0,\"ticks\":\"\"}}],\"scatter\":[{\"fillpattern\":{\"fillmode\":\"overlay\",\"size\":10,\"solidity\":0.2},\"type\":\"scatter\"}],\"parcoords\":[{\"type\":\"parcoords\",\"line\":{\"colorbar\":{\"outlinewidth\":0,\"ticks\":\"\"}}}],\"scatterpolargl\":[{\"type\":\"scatterpolargl\",\"marker\":{\"colorbar\":{\"outlinewidth\":0,\"ticks\":\"\"}}}],\"bar\":[{\"error_x\":{\"color\":\"#2a3f5f\"},\"error_y\":{\"color\":\"#2a3f5f\"},\"marker\":{\"line\":{\"color\":\"#E5ECF6\",\"width\":0.5},\"pattern\":{\"fillmode\":\"overlay\",\"size\":10,\"solidity\":0.2}},\"type\":\"bar\"}],\"scattergeo\":[{\"type\":\"scattergeo\",\"marker\":{\"colorbar\":{\"outlinewidth\":0,\"ticks\":\"\"}}}],\"scatterpolar\":[{\"type\":\"scatterpolar\",\"marker\":{\"colorbar\":{\"outlinewidth\":0,\"ticks\":\"\"}}}],\"histogram\":[{\"marker\":{\"pattern\":{\"fillmode\":\"overlay\",\"size\":10,\"solidity\":0.2}},\"type\":\"histogram\"}],\"scattergl\":[{\"type\":\"scattergl\",\"marker\":{\"colorbar\":{\"outlinewidth\":0,\"ticks\":\"\"}}}],\"scatter3d\":[{\"type\":\"scatter3d\",\"line\":{\"colorbar\":{\"outlinewidth\":0,\"ticks\":\"\"}},\"marker\":{\"colorbar\":{\"outlinewidth\":0,\"ticks\":\"\"}}}],\"scattermapbox\":[{\"type\":\"scattermapbox\",\"marker\":{\"colorbar\":{\"outlinewidth\":0,\"ticks\":\"\"}}}],\"scatterternary\":[{\"type\":\"scatterternary\",\"marker\":{\"colorbar\":{\"outlinewidth\":0,\"ticks\":\"\"}}}],\"scattercarpet\":[{\"type\":\"scattercarpet\",\"marker\":{\"colorbar\":{\"outlinewidth\":0,\"ticks\":\"\"}}}],\"carpet\":[{\"aaxis\":{\"endlinecolor\":\"#2a3f5f\",\"gridcolor\":\"white\",\"linecolor\":\"white\",\"minorgridcolor\":\"white\",\"startlinecolor\":\"#2a3f5f\"},\"baxis\":{\"endlinecolor\":\"#2a3f5f\",\"gridcolor\":\"white\",\"linecolor\":\"white\",\"minorgridcolor\":\"white\",\"startlinecolor\":\"#2a3f5f\"},\"type\":\"carpet\"}],\"table\":[{\"cells\":{\"fill\":{\"color\":\"#EBF0F8\"},\"line\":{\"color\":\"white\"}},\"header\":{\"fill\":{\"color\":\"#C8D4E3\"},\"line\":{\"color\":\"white\"}},\"type\":\"table\"}],\"barpolar\":[{\"marker\":{\"line\":{\"color\":\"#E5ECF6\",\"width\":0.5},\"pattern\":{\"fillmode\":\"overlay\",\"size\":10,\"solidity\":0.2}},\"type\":\"barpolar\"}],\"pie\":[{\"automargin\":true,\"type\":\"pie\"}]},\"layout\":{\"autotypenumbers\":\"strict\",\"colorway\":[\"#636efa\",\"#EF553B\",\"#00cc96\",\"#ab63fa\",\"#FFA15A\",\"#19d3f3\",\"#FF6692\",\"#B6E880\",\"#FF97FF\",\"#FECB52\"],\"font\":{\"color\":\"#2a3f5f\"},\"hovermode\":\"closest\",\"hoverlabel\":{\"align\":\"left\"},\"paper_bgcolor\":\"white\",\"plot_bgcolor\":\"#E5ECF6\",\"polar\":{\"bgcolor\":\"#E5ECF6\",\"angularaxis\":{\"gridcolor\":\"white\",\"linecolor\":\"white\",\"ticks\":\"\"},\"radialaxis\":{\"gridcolor\":\"white\",\"linecolor\":\"white\",\"ticks\":\"\"}},\"ternary\":{\"bgcolor\":\"#E5ECF6\",\"aaxis\":{\"gridcolor\":\"white\",\"linecolor\":\"white\",\"ticks\":\"\"},\"baxis\":{\"gridcolor\":\"white\",\"linecolor\":\"white\",\"ticks\":\"\"},\"caxis\":{\"gridcolor\":\"white\",\"linecolor\":\"white\",\"ticks\":\"\"}},\"coloraxis\":{\"colorbar\":{\"outlinewidth\":0,\"ticks\":\"\"}},\"colorscale\":{\"sequential\":[[0.0,\"#0d0887\"],[0.1111111111111111,\"#46039f\"],[0.2222222222222222,\"#7201a8\"],[0.3333333333333333,\"#9c179e\"],[0.4444444444444444,\"#bd3786\"],[0.5555555555555556,\"#d8576b\"],[0.6666666666666666,\"#ed7953\"],[0.7777777777777778,\"#fb9f3a\"],[0.8888888888888888,\"#fdca26\"],[1.0,\"#f0f921\"]],\"sequentialminus\":[[0.0,\"#0d0887\"],[0.1111111111111111,\"#46039f\"],[0.2222222222222222,\"#7201a8\"],[0.3333333333333333,\"#9c179e\"],[0.4444444444444444,\"#bd3786\"],[0.5555555555555556,\"#d8576b\"],[0.6666666666666666,\"#ed7953\"],[0.7777777777777778,\"#fb9f3a\"],[0.8888888888888888,\"#fdca26\"],[1.0,\"#f0f921\"]],\"diverging\":[[0,\"#8e0152\"],[0.1,\"#c51b7d\"],[0.2,\"#de77ae\"],[0.3,\"#f1b6da\"],[0.4,\"#fde0ef\"],[0.5,\"#f7f7f7\"],[0.6,\"#e6f5d0\"],[0.7,\"#b8e186\"],[0.8,\"#7fbc41\"],[0.9,\"#4d9221\"],[1,\"#276419\"]]},\"xaxis\":{\"gridcolor\":\"white\",\"linecolor\":\"white\",\"ticks\":\"\",\"title\":{\"standoff\":15},\"zerolinecolor\":\"white\",\"automargin\":true,\"zerolinewidth\":2},\"yaxis\":{\"gridcolor\":\"white\",\"linecolor\":\"white\",\"ticks\":\"\",\"title\":{\"standoff\":15},\"zerolinecolor\":\"white\",\"automargin\":true,\"zerolinewidth\":2},\"scene\":{\"xaxis\":{\"backgroundcolor\":\"#E5ECF6\",\"gridcolor\":\"white\",\"linecolor\":\"white\",\"showbackground\":true,\"ticks\":\"\",\"zerolinecolor\":\"white\",\"gridwidth\":2},\"yaxis\":{\"backgroundcolor\":\"#E5ECF6\",\"gridcolor\":\"white\",\"linecolor\":\"white\",\"showbackground\":true,\"ticks\":\"\",\"zerolinecolor\":\"white\",\"gridwidth\":2},\"zaxis\":{\"backgroundcolor\":\"#E5ECF6\",\"gridcolor\":\"white\",\"linecolor\":\"white\",\"showbackground\":true,\"ticks\":\"\",\"zerolinecolor\":\"white\",\"gridwidth\":2}},\"shapedefaults\":{\"line\":{\"color\":\"#2a3f5f\"}},\"annotationdefaults\":{\"arrowcolor\":\"#2a3f5f\",\"arrowhead\":0,\"arrowwidth\":1},\"geo\":{\"bgcolor\":\"white\",\"landcolor\":\"#E5ECF6\",\"subunitcolor\":\"white\",\"showland\":true,\"showlakes\":true,\"lakecolor\":\"white\"},\"title\":{\"x\":0.05},\"mapbox\":{\"style\":\"light\"}}},\"xaxis\":{\"anchor\":\"y\",\"domain\":[0.0,1.0],\"title\":{\"text\":\"agg_Date_H\"}},\"yaxis\":{\"anchor\":\"x\",\"domain\":[0.0,1.0],\"title\":{\"text\":\"price\"},\"range\":[1788.5296053044226,1837.287202881174]},\"legend\":{\"tracegroupgap\":0},\"margin\":{\"t\":60},\"barmode\":\"relative\"},                        {\"responsive\": true}                    ).then(function(){\n",
       "                            \n",
       "var gd = document.getElementById('e37e6692-ccf2-4bf3-a543-4a9630b89508');\n",
       "var x = new MutationObserver(function (mutations, observer) {{\n",
       "        var display = window.getComputedStyle(gd).display;\n",
       "        if (!display || display === 'none') {{\n",
       "            console.log([gd, 'removed!']);\n",
       "            Plotly.purge(gd);\n",
       "            observer.disconnect();\n",
       "        }}\n",
       "}});\n",
       "\n",
       "// Listen for the removal of the full notebook cells\n",
       "var notebookContainer = gd.closest('#notebook-container');\n",
       "if (notebookContainer) {{\n",
       "    x.observe(notebookContainer, {childList: true});\n",
       "}}\n",
       "\n",
       "// Listen for the clearing of the current output cell\n",
       "var outputEl = gd.closest('.output');\n",
       "if (outputEl) {{\n",
       "    x.observe(outputEl, {childList: true});\n",
       "}}\n",
       "\n",
       "                        })                };                });            </script>        </div>"
      ]
     },
     "metadata": {},
     "output_type": "display_data"
    }
   ],
   "source": [
    "\n",
    "Frequency=\"H\"\n",
    "#Frequency=\"H\"\n",
    "\n",
    "df['agg_Date_'+Frequency] = df['Date'].dt.floor(Frequency)\n",
    "print(df.groupby('agg_Date_'+Frequency).sum().reset_index())\n",
    "print(df.groupby('agg_Date_'+Frequency).sum().reset_index().shape)\n",
    "print('-------------------------------------')\n",
    "\n",
    "grouped_data = df.groupby(['agg_Date_'+Frequency])\n",
    "\n",
    "#Usar una agregación específica para cada columna:\n",
    "aggregation_dict = {'trade_id': 'mean', 'price': 'mean', 'quantity': 'mean', \n",
    "                    'time': 'min','Hour': 'min', 'transaction_value': 'sum',\n",
    "                    'outcome': 'last',  'transaction_value_abs': 'sum'}\n",
    "aggregated_data = grouped_data.agg(aggregation_dict)\n",
    "#print(aggregated_data)\n",
    "aggregated_data = aggregated_data.reset_index()\n",
    "print(aggregated_data)\n",
    "aggregated_data.to_csv(\"Aggregated_\"+Frequency+\"_outcome.csv\",index=False)\n",
    "\n",
    "print('-------------------------------------')\n",
    "\n",
    "fig = px.bar(aggregated_data, x='agg_Date_'+Frequency, y=\"price\",# color=\"isSelling\",\n",
    "              color_discrete_sequence=px.colors.qualitative.Set1[4:]\n",
    "                )\n",
    "fig.update_layout(yaxis_range=[aggregated_data[\"price\"].min(),aggregated_data[\"price\"].max()])\n",
    "fig.show()"
   ]
  },
  {
   "cell_type": "code",
   "execution_count": null,
   "id": "e31318af",
   "metadata": {},
   "outputs": [],
   "source": [
    "### Histograma de tamaños de cadenas de compras y ventas."
   ]
  },
  {
   "cell_type": "code",
   "execution_count": null,
   "id": "32ab9ae2",
   "metadata": {},
   "outputs": [],
   "source": [
    "#### Agregación por cadenas de ventas y compras:"
   ]
  },
  {
   "cell_type": "markdown",
   "id": "4c547108",
   "metadata": {},
   "source": [
    "# Ask a question about the data:"
   ]
  },
  {
   "cell_type": "markdown",
   "id": "f5ed57e7",
   "metadata": {},
   "source": [
    "1. What was the bot's outcome for that day?\n"
   ]
  },
  {
   "cell_type": "code",
   "execution_count": null,
   "id": "8b8db5ad",
   "metadata": {
    "scrolled": true
   },
   "outputs": [],
   "source": [
    "df[\"transaction_value\"]=df[\"price\"]*df[\"quantity\"]\n",
    "df_buy = df[df[\"isSelling\"]==False]\n",
    "df_sell = df[df[\"isSelling\"]==True]\n",
    "total_buy_value=df_buy[\"transaction_value\"].sum()\n",
    "total_sell_value=df_sell[\"transaction_value\"].sum()\n",
    "bot_outcome=total_sell_value-total_buy_value\n",
    "print(bot_outcome)"
   ]
  },
  {
   "cell_type": "markdown",
   "id": "0315c406",
   "metadata": {},
   "source": [
    "2. How long was the longest chain of consecutive sells?"
   ]
  },
  {
   "cell_type": "code",
   "execution_count": null,
   "id": "b5c8d78f",
   "metadata": {},
   "outputs": [],
   "source": [
    "#print(\"========================================================\")\n",
    "col_name=\"isSelling\"\n",
    "df['consecutive'] = df[col_name].groupby((df[col_name] != df[col_name].shift()).cumsum()).transform('size')# * df.Col2\n",
    "\n",
    "#print(\"========== Max False\")\n",
    "#max_false = df[df[col_name]==False][\"consecutive\"].max() \n",
    "#print(df[df[col_name]==False][\"consecutive\"].max())\n",
    "\n",
    "print(\"========== Max True\")\n",
    "max_true = df[df[col_name]==True][\"consecutive\"].max() \n",
    "print(df[df[col_name]==True][\"consecutive\"].max())\n",
    "\n",
    "print(\"========== Cadena más larga con valores True\")\n",
    "df2 = df[df[col_name]==True ].copy()\n",
    "df2 = df2[df2[\"consecutive\"]==max_true]\n",
    "#print(df2)\n",
    "\n"
   ]
  },
  {
   "cell_type": "markdown",
   "id": "e9c8d51e",
   "metadata": {},
   "source": [
    "3. What was the price difference between the first and the last operation of that chain?"
   ]
  },
  {
   "cell_type": "code",
   "execution_count": null,
   "id": "ccfe603e",
   "metadata": {},
   "outputs": [],
   "source": [
    "\n",
    "print(\"---- First price in longest selling chain\")\n",
    "print(df.iloc[0,:][\"price\"])\n",
    "print(\"---- Last price in longest selling chain\")\n",
    "print(df.iloc[-1,:][\"price\"])\n"
   ]
  },
  {
   "cell_type": "code",
   "execution_count": null,
   "id": "beefa32a",
   "metadata": {},
   "outputs": [],
   "source": [
    "# OTRAS ESTADISTICAS:\n",
    "\n",
    "#Account balance\n",
    "#Trades opened\n",
    "#Trades closed\n",
    "#Profitable trades\n",
    "#Losing trades\n",
    "#W/L ratio: \n",
    "\n",
    "\n"
   ]
  },
  {
   "cell_type": "code",
   "execution_count": null,
   "id": "ec70f71c",
   "metadata": {},
   "outputs": [],
   "source": [
    "#Renombrar la variable isSelling, y cambiar la leyenda de los plots. Podría ser \"Trade type\": \"Sell\"-\"Buy\"\n",
    "\n",
    "#Luego calcular todas las estadísticas y guardarlas en un arreglo numpy en un csv. Luego eso se carga \n",
    "#desde el archivo de reportes.\n",
    "\n",
    "#Más adelante veo si se pueden configurar los intervalos de tiempo para calcular las estadísticas."
   ]
  }
 ],
 "metadata": {
  "kernelspec": {
   "display_name": "Python 3",
   "language": "python",
   "name": "python3"
  },
  "language_info": {
   "codemirror_mode": {
    "name": "ipython",
    "version": 3
   },
   "file_extension": ".py",
   "mimetype": "text/x-python",
   "name": "python",
   "nbconvert_exporter": "python",
   "pygments_lexer": "ipython3",
   "version": "3.8.8"
  }
 },
 "nbformat": 4,
 "nbformat_minor": 5
}
